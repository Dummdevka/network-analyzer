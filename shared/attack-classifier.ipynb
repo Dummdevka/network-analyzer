{
 "cells": [
  {
   "cell_type": "code",
   "execution_count": 16,
   "id": "cb23c478-1f26-49c4-9502-731e3393e772",
   "metadata": {},
   "outputs": [],
   "source": [
    "import pandas as pd\n",
    "import numpy as np\n",
    "from nfstream import NFStreamer, NFPlugin\n",
    "import os\n",
    "from scapy.all import *\n",
    "import matplotlib.pyplot as plt\n",
    "import seaborn as sns\n",
    "from sklearn.pipeline import Pipeline\n",
    "from sklearn.base import BaseEstimator,TransformerMixin\n",
    "from sklearn.preprocessing import StandardScaler, MinMaxScaler, Normalizer\n",
    "from sklearn.model_selection import train_test_split\n",
    "import collections\n",
    "import torch\n",
    "import torch.nn as nn\n",
    "import torch.optim as optim\n",
    "import intel_extension_for_pytorch as ipex"
   ]
  },
  {
   "cell_type": "code",
   "execution_count": 17,
   "id": "0c6d8b4d-d9e9-486e-b81e-d95ecf3d4e04",
   "metadata": {},
   "outputs": [
    {
     "name": "stdout",
     "output_type": "stream",
     "text": [
      "xpu\n"
     ]
    }
   ],
   "source": [
    "path = os.path.abspath(\"\") + '/../datasets/' \n",
    "benign_path = path + 'classification/benign.pcap'\n",
    "sql_inj_path = path + 'classification/sql-injection.pcap'\n",
    "xss_path = path + 'classification/xss.pcapng'\n",
    "ddos_path = path + 'classification/ddos'\n",
    "portscan_path = path + 'classification/portscan/part'\n",
    "to_drop = [\n",
    "    'bidirectional_first_seen_ms',\n",
    "    'bidirectional_last_seen_ms',\n",
    "    'src2dst_first_seen_ms',\n",
    "    'src2dst_last_seen_ms',\n",
    "    'dst2src_first_seen_ms',\n",
    "    'dst2src_last_seen_ms',\n",
    "    'src_ip', 'dst_ip', \n",
    "    'protocol', 'src_oui', \n",
    "    'ip_version', 'dst_oui', \n",
    "    'application_name', 'application_category_name', \n",
    "    'vlan_id', 'expiration_id', \n",
    "    'content_type', 'client_fingerprint', \n",
    "    'server_fingerprint', 'user_agent', \n",
    "    'requested_server_name', 'src_mac', \n",
    "    'dst_mac', 'application_is_guessed', \n",
    "    'application_confidence', 'tunnel_id', 'id'\n",
    "]\n",
    "\n",
    "attacks = {\n",
    "    'BENIGN': 0,\n",
    "    'SQL_INJ': 1,\n",
    "    'XSS': 2,\n",
    "    'DDOS': 3,\n",
    "    'PORTSCAN': 4\n",
    "}\n",
    "\n",
    "filemap = [\n",
    "    (attacks['BENIGN'], benign_path),\n",
    "    (attacks['SQL_INJ'], sql_inj_path),\n",
    "    (attacks['XSS'], xss_path),\n",
    "    (attacks['DDOS'], ddos_path),\n",
    "    (attacks['PORTSCAN'], portscan_path)\n",
    "]\n",
    "device = torch.device(\"xpu\" if torch.xpu.is_available() else \"cpu\")\n",
    "print(device)"
   ]
  },
  {
   "cell_type": "code",
   "execution_count": 18,
   "id": "c25b49d7-f5aa-40c9-916b-c7fc431f12c5",
   "metadata": {},
   "outputs": [],
   "source": [
    "class PacketsCollector(NFPlugin):\n",
    "    def __init__(self, packet_limit):\n",
    "        self.packet_limit = packet_limit\n",
    "    def get_packet(self, packet):\n",
    "        byte_counter = collections.Counter(packet.ip_packet)\n",
    "        distro = [byte_counter.get(byte, 0) for byte in range(256)]\n",
    "        return distro\n",
    "    def on_init(self, packet, flow):\n",
    "        flow.udps.packets = [self.get_packet(packet)]\n",
    "    def on_update(self, packet, flow):\n",
    "        if (len(flow.udps.packets) < self.packet_limit):\n",
    "            flow.udps.packets.append(self.get_packet(packet))  \n",
    "    def on_expire(self, flow):\n",
    "        if (len(flow.udps.packets) < self.packet_limit):\n",
    "            diff = self.packet_limit - len(flow.udps.packets) \n",
    "            for i in range(diff):\n",
    "                distro = [0 for i in range(256)]\n",
    "                flow.udps.packets.append(distro)"
   ]
  },
  {
   "cell_type": "code",
   "execution_count": 19,
   "id": "b32a22ed-bd3d-4507-bd05-db6ab68c1c06",
   "metadata": {},
   "outputs": [
    {
     "name": "stdout",
     "output_type": "stream",
     "text": [
      "/jupyter/shared/../datasets/classification/benign.pcap\n",
      "/jupyter/shared/../datasets/classification/sql-injection.pcap\n",
      "/jupyter/shared/../datasets/classification/xss.pcapng\n",
      "/jupyter/shared/../datasets/classification/ddos\n",
      "/jupyter/shared/../datasets/classification/portscan/part\n"
     ]
    }
   ],
   "source": [
    "def get_flows(filename, label):\n",
    "    streamer = NFStreamer(source=filename, udps = PacketsCollector(15))\n",
    "    df = []\n",
    "    for flow in streamer:\n",
    "        packets = flow.udps.packets\n",
    "        df.append(packets)\n",
    "    df = np.array(df)\n",
    "    train, test = train_test_split(df, train_size=0.7)\n",
    "    test, val = train_test_split(test, train_size=0.85)\n",
    "    return train, test, val\n",
    "    \n",
    "train_df = []\n",
    "test_df = []\n",
    "val_df = []\n",
    "train_labels = []\n",
    "test_labels = []\n",
    "val_labels = []\n",
    "for label, path in filemap:\n",
    "    print(path)\n",
    "    train, test, val = get_flows(path, label)\n",
    "    train_df.extend(train)\n",
    "    test_df.extend(test)\n",
    "    val_df.extend(val)\n",
    "    train_labels.extend([label for i in range(len(train))])\n",
    "    test_labels.extend([label for i in range(len(test))])\n",
    "    val_labels.extend([label for i in range(len(val))])\n",
    "    "
   ]
  },
  {
   "cell_type": "markdown",
   "id": "6da67aab-a873-4a47-a360-51a30e9af9f1",
   "metadata": {},
   "source": [
    "## One-hot encode labels\n",
    "0 -> [1 0 0 0 0] \n",
    "\n",
    "1 -> [0 1 0 0 0]\n",
    "..."
   ]
  },
  {
   "cell_type": "code",
   "execution_count": 20,
   "id": "2a1e52c4-9dbd-4975-b9bb-2bc82d676c8f",
   "metadata": {},
   "outputs": [],
   "source": [
    "train_labels = np.array(train_labels)\n",
    "def oh_encode(labels):\n",
    "    oh_labels = np.zeros((len(labels), len(attacks)))\n",
    "    oh_labels[np.arange(labels.size), labels] = 1 \n",
    "    return oh_labels\n",
    "oh_train_labels = oh_encode(np.array(train_labels))\n",
    "oh_test_labels = oh_encode(np.array(test_labels))\n",
    "oh_val_labels = oh_encode(np.array(val_labels))"
   ]
  },
  {
   "cell_type": "code",
   "execution_count": 8,
   "id": "8c3c67b8-819c-45fb-81ac-aa6979625277",
   "metadata": {},
   "outputs": [],
   "source": [
    "def preprocess(data, scaler, fit = False):\n",
    "    num_samples, num_packets, num_features = data.shape\n",
    "    X_reshaped = data.reshape(-1, num_features)\n",
    "\n",
    "    if fit: X_scaled = scaler.fit_transform(X_reshaped)\n",
    "    else: X_scaled = scaler.transform(X_reshaped)\n",
    "\n",
    "    X_scaled = X_scaled.reshape(num_samples, num_packets, num_features)\n",
    "    return X_scaled\n",
    "    \n",
    "scaler = StandardScaler()\n",
    "X_train = preprocess(np.array(train_df), scaler, fit=True)\n",
    "X_test = preprocess(np.array(test_df), scaler, fit=False)\n",
    "X_val = preprocess(np.array(val_df), scaler, fit=False)"
   ]
  },
  {
   "cell_type": "code",
   "execution_count": 10,
   "id": "49c7ce91-b719-4038-8c4f-d3b2c66f35bd",
   "metadata": {},
   "outputs": [
    {
     "name": "stdout",
     "output_type": "stream",
     "text": [
      "TRAIN: Num samples: 12342, num_packets: 15, num_features: 256, num_labels: 12342\n",
      "TEST: Num samples: 4495, num_packets: 15, num_features: 256, num_labels: 4495\n",
      "VAL: Num samples: 797, num_packets: 15, num_features: 256, num_labels: 797\n"
     ]
    }
   ],
   "source": [
    "num_samples_train, num_packets_train, num_features_train = X_train.shape\n",
    "num_samples_test, num_packets_test, num_features_test = X_test.shape\n",
    "num_samples_val, num_packets_val, num_features_val = X_val.shape\n",
    "print(f'TRAIN: Num samples: {num_samples_train}, num_packets: {num_packets_train}, num_features: {num_features_train}, num_labels: {len(train_labels)}')\n",
    "print(f'TEST: Num samples: {num_samples_test}, num_packets: {num_packets_test}, num_features: {num_features_test}, num_labels: {len(test_labels)}')\n",
    "print(f'VAL: Num samples: {num_samples_val}, num_packets: {num_packets_val}, num_features: {num_features_val}, num_labels: {len(val_labels)}')"
   ]
  },
  {
   "cell_type": "code",
   "execution_count": 11,
   "id": "c8650e65-02bf-4229-a5c1-6bd865fe91b1",
   "metadata": {},
   "outputs": [],
   "source": [
    "class LSTMClassifier(nn.Module):\n",
    "    def __init__(self, input_size, hidden_size, num_layers, num_classes):\n",
    "        super(LSTMClassifier, self).__init__()\n",
    "        \n",
    "        self.hidden_size = hidden_size\n",
    "        self.num_layers = num_layers\n",
    "        self.lstm = nn.LSTM(input_size, hidden_size, num_layers, batch_first=True)\n",
    "        self.fc = nn.Linear(hidden_size, num_classes)\n",
    "        \n",
    "    def forward(self, x):\n",
    "        h0 = torch.zeros(self.num_layers, x.size(0), self.hidden_size).to(x.device)\n",
    "        c0 = torch.zeros(self.num_layers, x.size(0), self.hidden_size).to(x.device)\n",
    "        out, _ = self.lstm(x, (h0, c0))\n",
    "        out = self.fc(out[:, -1, :])\n",
    "        return out"
   ]
  },
  {
   "cell_type": "code",
   "execution_count": 12,
   "id": "a5926510-28f9-4764-83da-612e769180b3",
   "metadata": {},
   "outputs": [],
   "source": [
    "from torch.utils.data import DataLoader, TensorDataset\n",
    "X_train_tensor = torch.tensor(X_train)\n",
    "X_test_tensor = torch.tensor(X_test)\n",
    "y_train_tensor = torch.tensor(oh_train_labels, dtype=torch.float32)\n",
    "y_test_tensor = torch.tensor(oh_test_labels, dtype=torch.float32)"
   ]
  },
  {
   "cell_type": "code",
   "execution_count": 11,
   "id": "1d44da49-cad5-4478-a9b1-1ed2d5fe3fc7",
   "metadata": {},
   "outputs": [
    {
     "data": {
      "text/plain": [
       "tensor([[1., 0., 0., 0., 0.],\n",
       "        [1., 0., 0., 0., 0.],\n",
       "        [1., 0., 0., 0., 0.],\n",
       "        ...,\n",
       "        [0., 0., 0., 0., 1.],\n",
       "        [0., 0., 0., 0., 1.],\n",
       "        [0., 0., 0., 0., 1.]])"
      ]
     },
     "execution_count": 11,
     "metadata": {},
     "output_type": "execute_result"
    }
   ],
   "source": [
    "y_train_tensor"
   ]
  },
  {
   "cell_type": "code",
   "execution_count": 27,
   "id": "c435c8f9-a1d4-403c-b279-be6d5e19c17e",
   "metadata": {},
   "outputs": [
    {
     "ename": "NameError",
     "evalue": "name 'val_dataset' is not defined",
     "output_type": "error",
     "traceback": [
      "\u001b[0;31m---------------------------------------------------------------------------\u001b[0m",
      "\u001b[0;31mNameError\u001b[0m                                 Traceback (most recent call last)",
      "Cell \u001b[0;32mIn[27], line 6\u001b[0m\n\u001b[1;32m      4\u001b[0m train_loader \u001b[38;5;241m=\u001b[39m DataLoader(train_dataset, batch_size\u001b[38;5;241m=\u001b[39mbatch_size, shuffle\u001b[38;5;241m=\u001b[39m\u001b[38;5;28;01mTrue\u001b[39;00m)\n\u001b[1;32m      5\u001b[0m test_loader \u001b[38;5;241m=\u001b[39m DataLoader(test_dataset, batch_size\u001b[38;5;241m=\u001b[39mbatch_size, shuffle\u001b[38;5;241m=\u001b[39m\u001b[38;5;28;01mFalse\u001b[39;00m)\n\u001b[0;32m----> 6\u001b[0m val_loader \u001b[38;5;241m=\u001b[39m DataLoader(\u001b[43mval_dataset\u001b[49m, batch_size\u001b[38;5;241m=\u001b[39mbatch_size, shuffle\u001b[38;5;241m=\u001b[39m\u001b[38;5;28;01mFalse\u001b[39;00m)\n",
      "\u001b[0;31mNameError\u001b[0m: name 'val_dataset' is not defined"
     ]
    }
   ],
   "source": [
    "batch_size = 12\n",
    "train_dataset = TensorDataset(X_train_tensor, y_train_tensor)\n",
    "test_dataset = TensorDataset(X_test_tensor, y_test_tensor)\n",
    "train_loader = DataLoader(train_dataset, batch_size=batch_size, shuffle=True)\n",
    "test_loader = DataLoader(test_dataset, batch_size=batch_size, shuffle=False)\n",
    "val_loader = DataLoader(val_dataset, batch_size=batch_size, shuffle=False)"
   ]
  },
  {
   "cell_type": "code",
   "execution_count": 18,
   "id": "db138989-4da4-4e9d-8790-a1c5b0395a35",
   "metadata": {},
   "outputs": [
    {
     "name": "stdout",
     "output_type": "stream",
     "text": [
      "Batch inputs shape: torch.Size([12, 15, 256])\n",
      "Batch outputs shape: torch.Size([12, 5])\n"
     ]
    }
   ],
   "source": [
    "for batch in train_loader:\n",
    "    break\n",
    "print(f'Batch inputs shape: {batch[0].shape}')\n",
    "print(f'Batch outputs shape: {batch[1].shape}')"
   ]
  },
  {
   "cell_type": "code",
   "execution_count": 28,
   "id": "c036971b-991d-4a0a-b81c-4eea778d4d98",
   "metadata": {},
   "outputs": [],
   "source": [
    "input_size = train_dataset[0][0].shape[1]\n",
    "hidden_size = 40\n",
    "num_layers = 2\n",
    "output_size = train_dataset[0][1].shape[0]\n",
    "model = LSTMClassifier(input_size, hidden_size, num_layers, output_size).to(device)"
   ]
  },
  {
   "cell_type": "code",
   "execution_count": 29,
   "id": "cf618ffd-e205-471d-9f05-7b0fdbbaa5ca",
   "metadata": {},
   "outputs": [
    {
     "name": "stdout",
     "output_type": "stream",
     "text": [
      "Epoch [1/20], Loss: 349.13563665386755, Val. loss: 18.803862688480876\n",
      "Epoch [2/20], Loss: 30.31900784757454, Val. loss: 10.356928664667066\n",
      "Epoch [3/20], Loss: 14.6191234026046, Val. loss: 7.359513306757435\n",
      "Epoch [4/20], Loss: 11.373104791229707, Val. loss: 8.653201986016938\n"
     ]
    },
    {
     "ename": "KeyboardInterrupt",
     "evalue": "",
     "output_type": "error",
     "traceback": [
      "\u001b[0;31m---------------------------------------------------------------------------\u001b[0m",
      "\u001b[0;31mKeyboardInterrupt\u001b[0m                         Traceback (most recent call last)",
      "Cell \u001b[0;32mIn[29], line 15\u001b[0m\n\u001b[1;32m     12\u001b[0m batch_X, batch_y \u001b[38;5;241m=\u001b[39m batch_X\u001b[38;5;241m.\u001b[39mfloat()\u001b[38;5;241m.\u001b[39mto(device), batch_y\u001b[38;5;241m.\u001b[39mto(device)\n\u001b[1;32m     14\u001b[0m optimizer\u001b[38;5;241m.\u001b[39mzero_grad()\n\u001b[0;32m---> 15\u001b[0m outputs \u001b[38;5;241m=\u001b[39m \u001b[43mmodel\u001b[49m\u001b[43m(\u001b[49m\u001b[43mbatch_X\u001b[49m\u001b[43m)\u001b[49m\n\u001b[1;32m     16\u001b[0m loss \u001b[38;5;241m=\u001b[39m criterion(outputs, batch_y)\n\u001b[1;32m     17\u001b[0m loss\u001b[38;5;241m.\u001b[39mbackward()\n",
      "File \u001b[0;32m/usr/local/lib/python3.10/dist-packages/torch/nn/modules/module.py:1532\u001b[0m, in \u001b[0;36mModule._wrapped_call_impl\u001b[0;34m(self, *args, **kwargs)\u001b[0m\n\u001b[1;32m   1530\u001b[0m     \u001b[38;5;28;01mreturn\u001b[39;00m \u001b[38;5;28mself\u001b[39m\u001b[38;5;241m.\u001b[39m_compiled_call_impl(\u001b[38;5;241m*\u001b[39margs, \u001b[38;5;241m*\u001b[39m\u001b[38;5;241m*\u001b[39mkwargs)  \u001b[38;5;66;03m# type: ignore[misc]\u001b[39;00m\n\u001b[1;32m   1531\u001b[0m \u001b[38;5;28;01melse\u001b[39;00m:\n\u001b[0;32m-> 1532\u001b[0m     \u001b[38;5;28;01mreturn\u001b[39;00m \u001b[38;5;28;43mself\u001b[39;49m\u001b[38;5;241;43m.\u001b[39;49m\u001b[43m_call_impl\u001b[49m\u001b[43m(\u001b[49m\u001b[38;5;241;43m*\u001b[39;49m\u001b[43margs\u001b[49m\u001b[43m,\u001b[49m\u001b[43m \u001b[49m\u001b[38;5;241;43m*\u001b[39;49m\u001b[38;5;241;43m*\u001b[39;49m\u001b[43mkwargs\u001b[49m\u001b[43m)\u001b[49m\n",
      "File \u001b[0;32m/usr/local/lib/python3.10/dist-packages/torch/nn/modules/module.py:1541\u001b[0m, in \u001b[0;36mModule._call_impl\u001b[0;34m(self, *args, **kwargs)\u001b[0m\n\u001b[1;32m   1536\u001b[0m \u001b[38;5;66;03m# If we don't have any hooks, we want to skip the rest of the logic in\u001b[39;00m\n\u001b[1;32m   1537\u001b[0m \u001b[38;5;66;03m# this function, and just call forward.\u001b[39;00m\n\u001b[1;32m   1538\u001b[0m \u001b[38;5;28;01mif\u001b[39;00m \u001b[38;5;129;01mnot\u001b[39;00m (\u001b[38;5;28mself\u001b[39m\u001b[38;5;241m.\u001b[39m_backward_hooks \u001b[38;5;129;01mor\u001b[39;00m \u001b[38;5;28mself\u001b[39m\u001b[38;5;241m.\u001b[39m_backward_pre_hooks \u001b[38;5;129;01mor\u001b[39;00m \u001b[38;5;28mself\u001b[39m\u001b[38;5;241m.\u001b[39m_forward_hooks \u001b[38;5;129;01mor\u001b[39;00m \u001b[38;5;28mself\u001b[39m\u001b[38;5;241m.\u001b[39m_forward_pre_hooks\n\u001b[1;32m   1539\u001b[0m         \u001b[38;5;129;01mor\u001b[39;00m _global_backward_pre_hooks \u001b[38;5;129;01mor\u001b[39;00m _global_backward_hooks\n\u001b[1;32m   1540\u001b[0m         \u001b[38;5;129;01mor\u001b[39;00m _global_forward_hooks \u001b[38;5;129;01mor\u001b[39;00m _global_forward_pre_hooks):\n\u001b[0;32m-> 1541\u001b[0m     \u001b[38;5;28;01mreturn\u001b[39;00m \u001b[43mforward_call\u001b[49m\u001b[43m(\u001b[49m\u001b[38;5;241;43m*\u001b[39;49m\u001b[43margs\u001b[49m\u001b[43m,\u001b[49m\u001b[43m \u001b[49m\u001b[38;5;241;43m*\u001b[39;49m\u001b[38;5;241;43m*\u001b[39;49m\u001b[43mkwargs\u001b[49m\u001b[43m)\u001b[49m\n\u001b[1;32m   1543\u001b[0m \u001b[38;5;28;01mtry\u001b[39;00m:\n\u001b[1;32m   1544\u001b[0m     result \u001b[38;5;241m=\u001b[39m \u001b[38;5;28;01mNone\u001b[39;00m\n",
      "Cell \u001b[0;32mIn[11], line 13\u001b[0m, in \u001b[0;36mLSTMClassifier.forward\u001b[0;34m(self, x)\u001b[0m\n\u001b[1;32m     11\u001b[0m h0 \u001b[38;5;241m=\u001b[39m torch\u001b[38;5;241m.\u001b[39mzeros(\u001b[38;5;28mself\u001b[39m\u001b[38;5;241m.\u001b[39mnum_layers, x\u001b[38;5;241m.\u001b[39msize(\u001b[38;5;241m0\u001b[39m), \u001b[38;5;28mself\u001b[39m\u001b[38;5;241m.\u001b[39mhidden_size)\u001b[38;5;241m.\u001b[39mto(x\u001b[38;5;241m.\u001b[39mdevice)\n\u001b[1;32m     12\u001b[0m c0 \u001b[38;5;241m=\u001b[39m torch\u001b[38;5;241m.\u001b[39mzeros(\u001b[38;5;28mself\u001b[39m\u001b[38;5;241m.\u001b[39mnum_layers, x\u001b[38;5;241m.\u001b[39msize(\u001b[38;5;241m0\u001b[39m), \u001b[38;5;28mself\u001b[39m\u001b[38;5;241m.\u001b[39mhidden_size)\u001b[38;5;241m.\u001b[39mto(x\u001b[38;5;241m.\u001b[39mdevice)\n\u001b[0;32m---> 13\u001b[0m out, _ \u001b[38;5;241m=\u001b[39m \u001b[38;5;28;43mself\u001b[39;49m\u001b[38;5;241;43m.\u001b[39;49m\u001b[43mlstm\u001b[49m\u001b[43m(\u001b[49m\u001b[43mx\u001b[49m\u001b[43m,\u001b[49m\u001b[43m \u001b[49m\u001b[43m(\u001b[49m\u001b[43mh0\u001b[49m\u001b[43m,\u001b[49m\u001b[43m \u001b[49m\u001b[43mc0\u001b[49m\u001b[43m)\u001b[49m\u001b[43m)\u001b[49m\n\u001b[1;32m     14\u001b[0m out \u001b[38;5;241m=\u001b[39m \u001b[38;5;28mself\u001b[39m\u001b[38;5;241m.\u001b[39mfc(out[:, \u001b[38;5;241m-\u001b[39m\u001b[38;5;241m1\u001b[39m, :])\n\u001b[1;32m     15\u001b[0m \u001b[38;5;28;01mreturn\u001b[39;00m out\n",
      "File \u001b[0;32m/usr/local/lib/python3.10/dist-packages/torch/nn/modules/module.py:1532\u001b[0m, in \u001b[0;36mModule._wrapped_call_impl\u001b[0;34m(self, *args, **kwargs)\u001b[0m\n\u001b[1;32m   1530\u001b[0m     \u001b[38;5;28;01mreturn\u001b[39;00m \u001b[38;5;28mself\u001b[39m\u001b[38;5;241m.\u001b[39m_compiled_call_impl(\u001b[38;5;241m*\u001b[39margs, \u001b[38;5;241m*\u001b[39m\u001b[38;5;241m*\u001b[39mkwargs)  \u001b[38;5;66;03m# type: ignore[misc]\u001b[39;00m\n\u001b[1;32m   1531\u001b[0m \u001b[38;5;28;01melse\u001b[39;00m:\n\u001b[0;32m-> 1532\u001b[0m     \u001b[38;5;28;01mreturn\u001b[39;00m \u001b[38;5;28;43mself\u001b[39;49m\u001b[38;5;241;43m.\u001b[39;49m\u001b[43m_call_impl\u001b[49m\u001b[43m(\u001b[49m\u001b[38;5;241;43m*\u001b[39;49m\u001b[43margs\u001b[49m\u001b[43m,\u001b[49m\u001b[43m \u001b[49m\u001b[38;5;241;43m*\u001b[39;49m\u001b[38;5;241;43m*\u001b[39;49m\u001b[43mkwargs\u001b[49m\u001b[43m)\u001b[49m\n",
      "File \u001b[0;32m/usr/local/lib/python3.10/dist-packages/torch/nn/modules/module.py:1541\u001b[0m, in \u001b[0;36mModule._call_impl\u001b[0;34m(self, *args, **kwargs)\u001b[0m\n\u001b[1;32m   1536\u001b[0m \u001b[38;5;66;03m# If we don't have any hooks, we want to skip the rest of the logic in\u001b[39;00m\n\u001b[1;32m   1537\u001b[0m \u001b[38;5;66;03m# this function, and just call forward.\u001b[39;00m\n\u001b[1;32m   1538\u001b[0m \u001b[38;5;28;01mif\u001b[39;00m \u001b[38;5;129;01mnot\u001b[39;00m (\u001b[38;5;28mself\u001b[39m\u001b[38;5;241m.\u001b[39m_backward_hooks \u001b[38;5;129;01mor\u001b[39;00m \u001b[38;5;28mself\u001b[39m\u001b[38;5;241m.\u001b[39m_backward_pre_hooks \u001b[38;5;129;01mor\u001b[39;00m \u001b[38;5;28mself\u001b[39m\u001b[38;5;241m.\u001b[39m_forward_hooks \u001b[38;5;129;01mor\u001b[39;00m \u001b[38;5;28mself\u001b[39m\u001b[38;5;241m.\u001b[39m_forward_pre_hooks\n\u001b[1;32m   1539\u001b[0m         \u001b[38;5;129;01mor\u001b[39;00m _global_backward_pre_hooks \u001b[38;5;129;01mor\u001b[39;00m _global_backward_hooks\n\u001b[1;32m   1540\u001b[0m         \u001b[38;5;129;01mor\u001b[39;00m _global_forward_hooks \u001b[38;5;129;01mor\u001b[39;00m _global_forward_pre_hooks):\n\u001b[0;32m-> 1541\u001b[0m     \u001b[38;5;28;01mreturn\u001b[39;00m \u001b[43mforward_call\u001b[49m\u001b[43m(\u001b[49m\u001b[38;5;241;43m*\u001b[39;49m\u001b[43margs\u001b[49m\u001b[43m,\u001b[49m\u001b[43m \u001b[49m\u001b[38;5;241;43m*\u001b[39;49m\u001b[38;5;241;43m*\u001b[39;49m\u001b[43mkwargs\u001b[49m\u001b[43m)\u001b[49m\n\u001b[1;32m   1543\u001b[0m \u001b[38;5;28;01mtry\u001b[39;00m:\n\u001b[1;32m   1544\u001b[0m     result \u001b[38;5;241m=\u001b[39m \u001b[38;5;28;01mNone\u001b[39;00m\n",
      "File \u001b[0;32m/usr/local/lib/python3.10/dist-packages/torch/nn/modules/rnn.py:911\u001b[0m, in \u001b[0;36mLSTM.forward\u001b[0;34m(self, input, hx)\u001b[0m\n\u001b[1;32m    908\u001b[0m         hx \u001b[38;5;241m=\u001b[39m \u001b[38;5;28mself\u001b[39m\u001b[38;5;241m.\u001b[39mpermute_hidden(hx, sorted_indices)\n\u001b[1;32m    910\u001b[0m \u001b[38;5;28;01mif\u001b[39;00m batch_sizes \u001b[38;5;129;01mis\u001b[39;00m \u001b[38;5;28;01mNone\u001b[39;00m:\n\u001b[0;32m--> 911\u001b[0m     result \u001b[38;5;241m=\u001b[39m \u001b[43m_VF\u001b[49m\u001b[38;5;241;43m.\u001b[39;49m\u001b[43mlstm\u001b[49m\u001b[43m(\u001b[49m\u001b[38;5;28;43minput\u001b[39;49m\u001b[43m,\u001b[49m\u001b[43m \u001b[49m\u001b[43mhx\u001b[49m\u001b[43m,\u001b[49m\u001b[43m \u001b[49m\u001b[38;5;28;43mself\u001b[39;49m\u001b[38;5;241;43m.\u001b[39;49m\u001b[43m_flat_weights\u001b[49m\u001b[43m,\u001b[49m\u001b[43m \u001b[49m\u001b[38;5;28;43mself\u001b[39;49m\u001b[38;5;241;43m.\u001b[39;49m\u001b[43mbias\u001b[49m\u001b[43m,\u001b[49m\u001b[43m \u001b[49m\u001b[38;5;28;43mself\u001b[39;49m\u001b[38;5;241;43m.\u001b[39;49m\u001b[43mnum_layers\u001b[49m\u001b[43m,\u001b[49m\n\u001b[1;32m    912\u001b[0m \u001b[43m                      \u001b[49m\u001b[38;5;28;43mself\u001b[39;49m\u001b[38;5;241;43m.\u001b[39;49m\u001b[43mdropout\u001b[49m\u001b[43m,\u001b[49m\u001b[43m \u001b[49m\u001b[38;5;28;43mself\u001b[39;49m\u001b[38;5;241;43m.\u001b[39;49m\u001b[43mtraining\u001b[49m\u001b[43m,\u001b[49m\u001b[43m \u001b[49m\u001b[38;5;28;43mself\u001b[39;49m\u001b[38;5;241;43m.\u001b[39;49m\u001b[43mbidirectional\u001b[49m\u001b[43m,\u001b[49m\u001b[43m \u001b[49m\u001b[38;5;28;43mself\u001b[39;49m\u001b[38;5;241;43m.\u001b[39;49m\u001b[43mbatch_first\u001b[49m\u001b[43m)\u001b[49m\n\u001b[1;32m    913\u001b[0m \u001b[38;5;28;01melse\u001b[39;00m:\n\u001b[1;32m    914\u001b[0m     result \u001b[38;5;241m=\u001b[39m _VF\u001b[38;5;241m.\u001b[39mlstm(\u001b[38;5;28minput\u001b[39m, batch_sizes, hx, \u001b[38;5;28mself\u001b[39m\u001b[38;5;241m.\u001b[39m_flat_weights, \u001b[38;5;28mself\u001b[39m\u001b[38;5;241m.\u001b[39mbias,\n\u001b[1;32m    915\u001b[0m                       \u001b[38;5;28mself\u001b[39m\u001b[38;5;241m.\u001b[39mnum_layers, \u001b[38;5;28mself\u001b[39m\u001b[38;5;241m.\u001b[39mdropout, \u001b[38;5;28mself\u001b[39m\u001b[38;5;241m.\u001b[39mtraining, \u001b[38;5;28mself\u001b[39m\u001b[38;5;241m.\u001b[39mbidirectional)\n",
      "File \u001b[0;32m/usr/local/lib/python3.10/dist-packages/torch/fx/traceback.py:61\u001b[0m, in \u001b[0;36mformat_stack\u001b[0;34m()\u001b[0m\n\u001b[1;32m     57\u001b[0m             current_meta[\u001b[38;5;124m\"\u001b[39m\u001b[38;5;124min_grad_fn\u001b[39m\u001b[38;5;124m\"\u001b[39m] \u001b[38;5;241m=\u001b[39m current_level \u001b[38;5;241m-\u001b[39m \u001b[38;5;241m1\u001b[39m\n\u001b[1;32m     58\u001b[0m             current_meta[\u001b[38;5;124m\"\u001b[39m\u001b[38;5;124mgrad_fn_seq_nr\u001b[39m\u001b[38;5;124m\"\u001b[39m]\u001b[38;5;241m.\u001b[39mpop()\n\u001b[0;32m---> 61\u001b[0m \u001b[38;5;129m@compatibility\u001b[39m(is_backward_compatible\u001b[38;5;241m=\u001b[39m\u001b[38;5;28;01mFalse\u001b[39;00m)\n\u001b[1;32m     62\u001b[0m \u001b[38;5;28;01mdef\u001b[39;00m \u001b[38;5;21mformat_stack\u001b[39m() \u001b[38;5;241m-\u001b[39m\u001b[38;5;241m>\u001b[39m List[\u001b[38;5;28mstr\u001b[39m]:\n\u001b[1;32m     63\u001b[0m     \u001b[38;5;28;01mif\u001b[39;00m should_preserve_node_meta:\n\u001b[1;32m     64\u001b[0m         \u001b[38;5;28;01mreturn\u001b[39;00m [current_meta\u001b[38;5;241m.\u001b[39mget(\u001b[38;5;124m\"\u001b[39m\u001b[38;5;124mstack_trace\u001b[39m\u001b[38;5;124m\"\u001b[39m, \u001b[38;5;124m\"\u001b[39m\u001b[38;5;124m\"\u001b[39m)]\n",
      "\u001b[0;31mKeyboardInterrupt\u001b[0m: "
     ]
    }
   ],
   "source": [
    "criterion = nn.CrossEntropyLoss()\n",
    "optimizer = optim.Adam(model.parameters(), lr=0.001)\n",
    "history = []\n",
    "# Training loop\n",
    "num_epochs = 20\n",
    "\n",
    "for epoch in range(num_epochs):\n",
    "    model.train()\n",
    "    total_loss = 0\n",
    "    val_loss = 0\n",
    "    for batch_X, batch_y in train_loader:\n",
    "        batch_X, batch_y = batch_X.float().to(device), batch_y.to(device)\n",
    "\n",
    "        optimizer.zero_grad()\n",
    "        outputs = model(batch_X)\n",
    "        loss = criterion(outputs, batch_y)\n",
    "        loss.backward()\n",
    "        optimizer.step() \n",
    "        total_loss += loss.item()\n",
    "\n",
    "    with torch.no_grad():\n",
    "        model.eval()\n",
    "        for batch_X, batch_y in test_loader:\n",
    "            batch_X, batch_y = batch_X.float().to(device), batch_y.to(device)\n",
    "            outputs = model(batch_X)\n",
    "            loss = criterion(outputs, batch_y)\n",
    "            val_loss += loss.item()\n",
    "    # print('outside for')\n",
    "    history.append({'epoch': num_epochs, 'loss': total_loss, 'val_loss': val_loss})\n",
    "    print(f\"Epoch [{epoch+1}/{num_epochs}], Loss: {total_loss}, Val. loss: {val_loss}\")"
   ]
  },
  {
   "cell_type": "code",
   "execution_count": 26,
   "id": "14cc3085-4f92-444c-a5a9-31a46301e7f7",
   "metadata": {},
   "outputs": [],
   "source": [
    "epoch = 1\n",
    "for item in attack_history:\n",
    "    item['epoch'] = epoch\n",
    "    epoch = epoch +1"
   ]
  },
  {
   "cell_type": "code",
   "execution_count": 28,
   "id": "2724668c-ee09-4dba-93ab-bd81d562ed42",
   "metadata": {},
   "outputs": [],
   "source": [
    "attack_history\n",
    "with open('attack_train.npy', 'wb') as f:\n",
    "    np.save(f, attack_history)"
   ]
  },
  {
   "cell_type": "code",
   "execution_count": 33,
   "id": "2ab598be-4682-478c-b076-9685feead440",
   "metadata": {},
   "outputs": [
    {
     "data": {
      "image/png": "[encoded data removed]",
      "text/plain": [
       "<Figure size 640x480 with 1 Axes>"
      ]
     },
     "metadata": {},
     "output_type": "display_data"
    }
   ],
   "source": [
    "attack_history = np.load('attack_train.npy', allow_pickle=True)\n",
    "stats = pd.DataFrame(list(attack_history))\n",
    "stats = stats.drop(columns=['epoch'])\n",
    "stats.columns = ['Chyba', 'Validačná chyba']\n",
    "sns.lineplot(stats).set_title(\"Trénovanie klasifikatora\")\n",
    "plt.savefig('attack_final.png')"
   ]
  },
  {
   "cell_type": "code",
   "execution_count": 65,
   "id": "37bb806a-d9db-4594-b841-a56d809ac99b",
   "metadata": {},
   "outputs": [],
   "source": [
    "torch.save(model, os.path.abspath(\"\") + '/models/attack_final.pth')"
   ]
  },
  {
   "cell_type": "code",
   "execution_count": 33,
   "id": "7e6e6e2e-855f-48c2-ba3c-ae2ff34788e1",
   "metadata": {},
   "outputs": [
    {
     "data": {
      "text/plain": [
       "['models/att_scaler_final.gz']"
      ]
     },
     "execution_count": 33,
     "metadata": {},
     "output_type": "execute_result"
    }
   ],
   "source": [
    "joblib.dump(scaler, 'models/att_scaler_final.gz')"
   ]
  }
 ],
 "metadata": {
  "kernelspec": {
   "display_name": "Python 3 (ipykernel)",
   "language": "python",
   "name": "python3"
  },
  "language_info": {
   "codemirror_mode": {
    "name": "ipython",
    "version": 3
   },
   "file_extension": ".py",
   "mimetype": "text/x-python",
   "name": "python",
   "nbconvert_exporter": "python",
   "pygments_lexer": "ipython3",
   "version": "3.10.12"
  }
 },
 "nbformat": 4,
 "nbformat_minor": 5
}
