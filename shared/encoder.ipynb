{
 "cells": [
  {
   "cell_type": "code",
   "execution_count": 156,
   "id": "577199d3-ffd3-4ed6-8fff-a3cc1e427e1d",
   "metadata": {
    "editable": true,
    "slideshow": {
     "slide_type": ""
    },
    "tags": []
   },
   "outputs": [],
   "source": [
    "# !pip install torcheval\n",
    "import pandas as pd\n",
    "import numpy as np\n",
    "from nfstream import NFStreamer, NFPlugin\n",
    "from nfstream.flow import NFlow\n",
    "import os\n",
    "import seaborn as sns\n",
    "import pandas as pd\n",
    "from nfstream import NFStreamer, NFPlugin\n",
    "from nfstream.flow import NFlow\n",
    "import os\n",
    "from sklearn.preprocessing import StandardScaler\n",
    "from sklearn.compose import ColumnTransformer\n",
    "from sklearn.pipeline import Pipeline\n",
    "import torch.nn as nn\n",
    "import torch.optim as optim\n",
    "import copy\n",
    "import torch\n",
    "import torch.nn as nn\n",
    "import torchvision\n",
    "from torch.utils.data import Dataset, DataLoader\n",
    "import intel_extension_for_pytorch as ipex\n",
    "from sklearn.base import BaseEstimator,TransformerMixin\n",
    "import matplotlib.pyplot as plt"
   ]
  },
  {
   "cell_type": "code",
   "execution_count": 121,
   "id": "fe6f1efa-acbd-4488-b77d-2111f5dd04a9",
   "metadata": {},
   "outputs": [
    {
     "name": "stdout",
     "output_type": "stream",
     "text": [
      "xpu\n"
     ]
    }
   ],
   "source": [
    "device = torch.device(\"xpu\" if torch.xpu.is_available() else \"cpu\")\n",
    "# device = torch.device(\"cpu\")\n",
    "print(device)\n",
    "path = os.path.abspath(\"\") + '/../datasets/' \n",
    "# filename = 'capture-18-12-520k.pcapng'\n",
    "filename = 'encrypted-23-12.pcapng'\n",
    "torch.set_printoptions(sci_mode=False)\n",
    "torch.autograd.set_detect_anomaly(True)\n",
    "\n",
    "batch_size=32"
   ]
  },
  {
   "cell_type": "markdown",
   "id": "7e8c8811-f8c2-4863-b5de-351eeb5c11c1",
   "metadata": {},
   "source": [
    "## IpEncoder\n",
    "Used to preprocess IP strings. Encodes 127.0.0.1 into 127 , 0, 0, 1. Used for __src_ip, dst_ip__ columns.\n",
    "Output: DataFrame"
   ]
  },
  {
   "cell_type": "code",
   "execution_count": 15,
   "id": "9306d0aa-4763-4d3c-a531-6c3b583b037e",
   "metadata": {},
   "outputs": [],
   "source": [
    "# Split IP into 4 features\n",
    "class IpEncoder(BaseEstimator, TransformerMixin):\n",
    "    def __init__(self, column_names):\n",
    "        self.column_names = column_names\n",
    "            \n",
    "    def fit(self, X, y = None):\n",
    "        return self\n",
    "    \n",
    "    def transform(self, X, y = None):\n",
    "        X_tmp = X.copy()\n",
    "        cols = X_tmp.columns.to_list()\n",
    "        \n",
    "        for column in self.column_names:\n",
    "            new_names = [column + '_' + str(i) for i in range(4)]\n",
    "            splitted = X_tmp[column].str.split('.', expand = True).astype(int)\n",
    "            splitted.columns = new_names\n",
    "            cols.append(new_names)\n",
    "    \n",
    "            X_tmp = pd.concat([X_tmp, splitted], axis = 1)\n",
    "        X_tmp.drop(columns = self.column_names, inplace = True)\n",
    "        return X_tmp\n"
   ]
  },
  {
   "cell_type": "markdown",
   "id": "cee3e2a4-5951-4e0e-9199-d58e30b941d3",
   "metadata": {},
   "source": [
    "## Explore data\n",
    "\n",
    "First, lets plot netflow clusters distribution"
   ]
  },
  {
   "cell_type": "code",
   "execution_count": 157,
   "id": "e73bfe11-c040-43bc-84b2-89dc14ea43ef",
   "metadata": {},
   "outputs": [
    {
     "ename": "KeyboardInterrupt",
     "evalue": "",
     "output_type": "error",
     "traceback": [
      "\u001b[0;31m---------------------------------------------------------------------------\u001b[0m",
      "\u001b[0;31mKeyboardInterrupt\u001b[0m                         Traceback (most recent call last)",
      "Cell \u001b[0;32mIn[157], line 23\u001b[0m\n\u001b[1;32m     18\u001b[0m     \u001b[38;5;28;01mreturn\u001b[39;00m X_transformed\n\u001b[1;32m     22\u001b[0m fig, ax \u001b[38;5;241m=\u001b[39mplt\u001b[38;5;241m.\u001b[39msubplots(\u001b[38;5;241m1\u001b[39m,\u001b[38;5;241m2\u001b[39m)\n\u001b[0;32m---> 23\u001b[0m \u001b[43mplot_tsne\u001b[49m\u001b[43m(\u001b[49m\u001b[43mpreprocess\u001b[49m\u001b[43m(\u001b[49m\u001b[38;5;124;43m'\u001b[39;49m\u001b[38;5;124;43mencrypted-23-12.pcapng\u001b[39;49m\u001b[38;5;124;43m'\u001b[39;49m\u001b[43m)\u001b[49m\u001b[43m,\u001b[49m\u001b[43m \u001b[49m\u001b[43max\u001b[49m\u001b[38;5;241;43m=\u001b[39;49m\u001b[43max\u001b[49m\u001b[43m[\u001b[49m\u001b[38;5;241;43m0\u001b[39;49m\u001b[43m]\u001b[49m\u001b[43m)\u001b[49m\n\u001b[1;32m     24\u001b[0m plot_tsne(preprocess(\u001b[38;5;124m'\u001b[39m\u001b[38;5;124mcommunication-plain-mysql.pcapng\u001b[39m\u001b[38;5;124m'\u001b[39m), ax\u001b[38;5;241m=\u001b[39max[\u001b[38;5;241m1\u001b[39m])\n\u001b[1;32m     25\u001b[0m fig\u001b[38;5;241m.\u001b[39mshow()\n",
      "Cell \u001b[0;32mIn[157], line 8\u001b[0m, in \u001b[0;36mplot_tsne\u001b[0;34m(data, ax)\u001b[0m\n\u001b[1;32m      6\u001b[0m X_reduced \u001b[38;5;241m=\u001b[39m pca\u001b[38;5;241m.\u001b[39mfit_transform(data_sampled)\n\u001b[1;32m      7\u001b[0m tsne \u001b[38;5;241m=\u001b[39m TSNE(n_components\u001b[38;5;241m=\u001b[39m\u001b[38;5;241m2\u001b[39m)\n\u001b[0;32m----> 8\u001b[0m X_modified \u001b[38;5;241m=\u001b[39m \u001b[43mtsne\u001b[49m\u001b[38;5;241;43m.\u001b[39;49m\u001b[43mfit_transform\u001b[49m\u001b[43m(\u001b[49m\u001b[43mX_reduced\u001b[49m\u001b[43m)\u001b[49m\n\u001b[1;32m      9\u001b[0m df_modified \u001b[38;5;241m=\u001b[39m pd\u001b[38;5;241m.\u001b[39mDataFrame(X_modified)\n\u001b[1;32m     10\u001b[0m sns\u001b[38;5;241m.\u001b[39mscatterplot(x \u001b[38;5;241m=\u001b[39m df_modified[\u001b[38;5;241m0\u001b[39m], y \u001b[38;5;241m=\u001b[39m df_modified[\u001b[38;5;241m1\u001b[39m], ax \u001b[38;5;241m=\u001b[39m ax)\n",
      "File \u001b[0;32m/usr/local/lib/python3.10/dist-packages/sklearn/utils/_set_output.py:319\u001b[0m, in \u001b[0;36m_wrap_method_output.<locals>.wrapped\u001b[0;34m(self, X, *args, **kwargs)\u001b[0m\n\u001b[1;32m    317\u001b[0m \u001b[38;5;129m@wraps\u001b[39m(f)\n\u001b[1;32m    318\u001b[0m \u001b[38;5;28;01mdef\u001b[39;00m \u001b[38;5;21mwrapped\u001b[39m(\u001b[38;5;28mself\u001b[39m, X, \u001b[38;5;241m*\u001b[39margs, \u001b[38;5;241m*\u001b[39m\u001b[38;5;241m*\u001b[39mkwargs):\n\u001b[0;32m--> 319\u001b[0m     data_to_wrap \u001b[38;5;241m=\u001b[39m \u001b[43mf\u001b[49m\u001b[43m(\u001b[49m\u001b[38;5;28;43mself\u001b[39;49m\u001b[43m,\u001b[49m\u001b[43m \u001b[49m\u001b[43mX\u001b[49m\u001b[43m,\u001b[49m\u001b[43m \u001b[49m\u001b[38;5;241;43m*\u001b[39;49m\u001b[43margs\u001b[49m\u001b[43m,\u001b[49m\u001b[43m \u001b[49m\u001b[38;5;241;43m*\u001b[39;49m\u001b[38;5;241;43m*\u001b[39;49m\u001b[43mkwargs\u001b[49m\u001b[43m)\u001b[49m\n\u001b[1;32m    320\u001b[0m     \u001b[38;5;28;01mif\u001b[39;00m \u001b[38;5;28misinstance\u001b[39m(data_to_wrap, \u001b[38;5;28mtuple\u001b[39m):\n\u001b[1;32m    321\u001b[0m         \u001b[38;5;66;03m# only wrap the first output for cross decomposition\u001b[39;00m\n\u001b[1;32m    322\u001b[0m         return_tuple \u001b[38;5;241m=\u001b[39m (\n\u001b[1;32m    323\u001b[0m             _wrap_data_with_container(method, data_to_wrap[\u001b[38;5;241m0\u001b[39m], X, \u001b[38;5;28mself\u001b[39m),\n\u001b[1;32m    324\u001b[0m             \u001b[38;5;241m*\u001b[39mdata_to_wrap[\u001b[38;5;241m1\u001b[39m:],\n\u001b[1;32m    325\u001b[0m         )\n",
      "File \u001b[0;32m/usr/local/lib/python3.10/dist-packages/sklearn/base.py:1389\u001b[0m, in \u001b[0;36m_fit_context.<locals>.decorator.<locals>.wrapper\u001b[0;34m(estimator, *args, **kwargs)\u001b[0m\n\u001b[1;32m   1382\u001b[0m     estimator\u001b[38;5;241m.\u001b[39m_validate_params()\n\u001b[1;32m   1384\u001b[0m \u001b[38;5;28;01mwith\u001b[39;00m config_context(\n\u001b[1;32m   1385\u001b[0m     skip_parameter_validation\u001b[38;5;241m=\u001b[39m(\n\u001b[1;32m   1386\u001b[0m         prefer_skip_nested_validation \u001b[38;5;129;01mor\u001b[39;00m global_skip_validation\n\u001b[1;32m   1387\u001b[0m     )\n\u001b[1;32m   1388\u001b[0m ):\n\u001b[0;32m-> 1389\u001b[0m     \u001b[38;5;28;01mreturn\u001b[39;00m \u001b[43mfit_method\u001b[49m\u001b[43m(\u001b[49m\u001b[43mestimator\u001b[49m\u001b[43m,\u001b[49m\u001b[43m \u001b[49m\u001b[38;5;241;43m*\u001b[39;49m\u001b[43margs\u001b[49m\u001b[43m,\u001b[49m\u001b[43m \u001b[49m\u001b[38;5;241;43m*\u001b[39;49m\u001b[38;5;241;43m*\u001b[39;49m\u001b[43mkwargs\u001b[49m\u001b[43m)\u001b[49m\n",
      "File \u001b[0;32m/usr/local/lib/python3.10/dist-packages/sklearn/manifold/_t_sne.py:1178\u001b[0m, in \u001b[0;36mTSNE.fit_transform\u001b[0;34m(self, X, y)\u001b[0m\n\u001b[1;32m   1175\u001b[0m     \u001b[38;5;28mself\u001b[39m\u001b[38;5;241m.\u001b[39m_max_iter \u001b[38;5;241m=\u001b[39m \u001b[38;5;28mself\u001b[39m\u001b[38;5;241m.\u001b[39mmax_iter\n\u001b[1;32m   1177\u001b[0m \u001b[38;5;28mself\u001b[39m\u001b[38;5;241m.\u001b[39m_check_params_vs_input(X)\n\u001b[0;32m-> 1178\u001b[0m embedding \u001b[38;5;241m=\u001b[39m \u001b[38;5;28;43mself\u001b[39;49m\u001b[38;5;241;43m.\u001b[39;49m\u001b[43m_fit\u001b[49m\u001b[43m(\u001b[49m\u001b[43mX\u001b[49m\u001b[43m)\u001b[49m\n\u001b[1;32m   1179\u001b[0m \u001b[38;5;28mself\u001b[39m\u001b[38;5;241m.\u001b[39membedding_ \u001b[38;5;241m=\u001b[39m embedding\n\u001b[1;32m   1180\u001b[0m \u001b[38;5;28;01mreturn\u001b[39;00m \u001b[38;5;28mself\u001b[39m\u001b[38;5;241m.\u001b[39membedding_\n",
      "File \u001b[0;32m/usr/local/lib/python3.10/dist-packages/sklearn/manifold/_t_sne.py:1046\u001b[0m, in \u001b[0;36mTSNE._fit\u001b[0;34m(self, X, skip_num_points)\u001b[0m\n\u001b[1;32m   1040\u001b[0m \u001b[38;5;66;03m# Degrees of freedom of the Student's t-distribution. The suggestion\u001b[39;00m\n\u001b[1;32m   1041\u001b[0m \u001b[38;5;66;03m# degrees_of_freedom = n_components - 1 comes from\u001b[39;00m\n\u001b[1;32m   1042\u001b[0m \u001b[38;5;66;03m# \"Learning a Parametric Embedding by Preserving Local Structure\"\u001b[39;00m\n\u001b[1;32m   1043\u001b[0m \u001b[38;5;66;03m# Laurens van der Maaten, 2009.\u001b[39;00m\n\u001b[1;32m   1044\u001b[0m degrees_of_freedom \u001b[38;5;241m=\u001b[39m \u001b[38;5;28mmax\u001b[39m(\u001b[38;5;28mself\u001b[39m\u001b[38;5;241m.\u001b[39mn_components \u001b[38;5;241m-\u001b[39m \u001b[38;5;241m1\u001b[39m, \u001b[38;5;241m1\u001b[39m)\n\u001b[0;32m-> 1046\u001b[0m \u001b[38;5;28;01mreturn\u001b[39;00m \u001b[38;5;28;43mself\u001b[39;49m\u001b[38;5;241;43m.\u001b[39;49m\u001b[43m_tsne\u001b[49m\u001b[43m(\u001b[49m\n\u001b[1;32m   1047\u001b[0m \u001b[43m    \u001b[49m\u001b[43mP\u001b[49m\u001b[43m,\u001b[49m\n\u001b[1;32m   1048\u001b[0m \u001b[43m    \u001b[49m\u001b[43mdegrees_of_freedom\u001b[49m\u001b[43m,\u001b[49m\n\u001b[1;32m   1049\u001b[0m \u001b[43m    \u001b[49m\u001b[43mn_samples\u001b[49m\u001b[43m,\u001b[49m\n\u001b[1;32m   1050\u001b[0m \u001b[43m    \u001b[49m\u001b[43mX_embedded\u001b[49m\u001b[38;5;241;43m=\u001b[39;49m\u001b[43mX_embedded\u001b[49m\u001b[43m,\u001b[49m\n\u001b[1;32m   1051\u001b[0m \u001b[43m    \u001b[49m\u001b[43mneighbors\u001b[49m\u001b[38;5;241;43m=\u001b[39;49m\u001b[43mneighbors_nn\u001b[49m\u001b[43m,\u001b[49m\n\u001b[1;32m   1052\u001b[0m \u001b[43m    \u001b[49m\u001b[43mskip_num_points\u001b[49m\u001b[38;5;241;43m=\u001b[39;49m\u001b[43mskip_num_points\u001b[49m\u001b[43m,\u001b[49m\n\u001b[1;32m   1053\u001b[0m \u001b[43m\u001b[49m\u001b[43m)\u001b[49m\n",
      "File \u001b[0;32m/usr/local/lib/python3.10/dist-packages/sklearn/manifold/_t_sne.py:1114\u001b[0m, in \u001b[0;36mTSNE._tsne\u001b[0;34m(self, P, degrees_of_freedom, n_samples, X_embedded, neighbors, skip_num_points)\u001b[0m\n\u001b[1;32m   1112\u001b[0m     opt_args[\u001b[38;5;124m\"\u001b[39m\u001b[38;5;124mmomentum\u001b[39m\u001b[38;5;124m\"\u001b[39m] \u001b[38;5;241m=\u001b[39m \u001b[38;5;241m0.8\u001b[39m\n\u001b[1;32m   1113\u001b[0m     opt_args[\u001b[38;5;124m\"\u001b[39m\u001b[38;5;124mn_iter_without_progress\u001b[39m\u001b[38;5;124m\"\u001b[39m] \u001b[38;5;241m=\u001b[39m \u001b[38;5;28mself\u001b[39m\u001b[38;5;241m.\u001b[39mn_iter_without_progress\n\u001b[0;32m-> 1114\u001b[0m     params, kl_divergence, it \u001b[38;5;241m=\u001b[39m \u001b[43m_gradient_descent\u001b[49m\u001b[43m(\u001b[49m\u001b[43mobj_func\u001b[49m\u001b[43m,\u001b[49m\u001b[43m \u001b[49m\u001b[43mparams\u001b[49m\u001b[43m,\u001b[49m\u001b[43m \u001b[49m\u001b[38;5;241;43m*\u001b[39;49m\u001b[38;5;241;43m*\u001b[39;49m\u001b[43mopt_args\u001b[49m\u001b[43m)\u001b[49m\n\u001b[1;32m   1116\u001b[0m \u001b[38;5;66;03m# Save the final number of iterations\u001b[39;00m\n\u001b[1;32m   1117\u001b[0m \u001b[38;5;28mself\u001b[39m\u001b[38;5;241m.\u001b[39mn_iter_ \u001b[38;5;241m=\u001b[39m it\n",
      "File \u001b[0;32m/usr/local/lib/python3.10/dist-packages/sklearn/manifold/_t_sne.py:401\u001b[0m, in \u001b[0;36m_gradient_descent\u001b[0;34m(objective, p0, it, max_iter, n_iter_check, n_iter_without_progress, momentum, learning_rate, min_gain, min_grad_norm, verbose, args, kwargs)\u001b[0m\n\u001b[1;32m    398\u001b[0m \u001b[38;5;66;03m# only compute the error when needed\u001b[39;00m\n\u001b[1;32m    399\u001b[0m kwargs[\u001b[38;5;124m\"\u001b[39m\u001b[38;5;124mcompute_error\u001b[39m\u001b[38;5;124m\"\u001b[39m] \u001b[38;5;241m=\u001b[39m check_convergence \u001b[38;5;129;01mor\u001b[39;00m i \u001b[38;5;241m==\u001b[39m max_iter \u001b[38;5;241m-\u001b[39m \u001b[38;5;241m1\u001b[39m\n\u001b[0;32m--> 401\u001b[0m error, grad \u001b[38;5;241m=\u001b[39m \u001b[43mobjective\u001b[49m\u001b[43m(\u001b[49m\u001b[43mp\u001b[49m\u001b[43m,\u001b[49m\u001b[43m \u001b[49m\u001b[38;5;241;43m*\u001b[39;49m\u001b[43margs\u001b[49m\u001b[43m,\u001b[49m\u001b[43m \u001b[49m\u001b[38;5;241;43m*\u001b[39;49m\u001b[38;5;241;43m*\u001b[39;49m\u001b[43mkwargs\u001b[49m\u001b[43m)\u001b[49m\n\u001b[1;32m    403\u001b[0m inc \u001b[38;5;241m=\u001b[39m update \u001b[38;5;241m*\u001b[39m grad \u001b[38;5;241m<\u001b[39m \u001b[38;5;241m0.0\u001b[39m\n\u001b[1;32m    404\u001b[0m dec \u001b[38;5;241m=\u001b[39m np\u001b[38;5;241m.\u001b[39minvert(inc)\n",
      "File \u001b[0;32m/usr/local/lib/python3.10/dist-packages/sklearn/manifold/_t_sne.py:282\u001b[0m, in \u001b[0;36m_kl_divergence_bh\u001b[0;34m(params, P, degrees_of_freedom, n_samples, n_components, angle, skip_num_points, verbose, compute_error, num_threads)\u001b[0m\n\u001b[1;32m    279\u001b[0m indptr \u001b[38;5;241m=\u001b[39m P\u001b[38;5;241m.\u001b[39mindptr\u001b[38;5;241m.\u001b[39mastype(np\u001b[38;5;241m.\u001b[39mint64, copy\u001b[38;5;241m=\u001b[39m\u001b[38;5;28;01mFalse\u001b[39;00m)\n\u001b[1;32m    281\u001b[0m grad \u001b[38;5;241m=\u001b[39m np\u001b[38;5;241m.\u001b[39mzeros(X_embedded\u001b[38;5;241m.\u001b[39mshape, dtype\u001b[38;5;241m=\u001b[39mnp\u001b[38;5;241m.\u001b[39mfloat32)\n\u001b[0;32m--> 282\u001b[0m error \u001b[38;5;241m=\u001b[39m \u001b[43m_barnes_hut_tsne\u001b[49m\u001b[38;5;241;43m.\u001b[39;49m\u001b[43mgradient\u001b[49m\u001b[43m(\u001b[49m\n\u001b[1;32m    283\u001b[0m \u001b[43m    \u001b[49m\u001b[43mval_P\u001b[49m\u001b[43m,\u001b[49m\n\u001b[1;32m    284\u001b[0m \u001b[43m    \u001b[49m\u001b[43mX_embedded\u001b[49m\u001b[43m,\u001b[49m\n\u001b[1;32m    285\u001b[0m \u001b[43m    \u001b[49m\u001b[43mneighbors\u001b[49m\u001b[43m,\u001b[49m\n\u001b[1;32m    286\u001b[0m \u001b[43m    \u001b[49m\u001b[43mindptr\u001b[49m\u001b[43m,\u001b[49m\n\u001b[1;32m    287\u001b[0m \u001b[43m    \u001b[49m\u001b[43mgrad\u001b[49m\u001b[43m,\u001b[49m\n\u001b[1;32m    288\u001b[0m \u001b[43m    \u001b[49m\u001b[43mangle\u001b[49m\u001b[43m,\u001b[49m\n\u001b[1;32m    289\u001b[0m \u001b[43m    \u001b[49m\u001b[43mn_components\u001b[49m\u001b[43m,\u001b[49m\n\u001b[1;32m    290\u001b[0m \u001b[43m    \u001b[49m\u001b[43mverbose\u001b[49m\u001b[43m,\u001b[49m\n\u001b[1;32m    291\u001b[0m \u001b[43m    \u001b[49m\u001b[43mdof\u001b[49m\u001b[38;5;241;43m=\u001b[39;49m\u001b[43mdegrees_of_freedom\u001b[49m\u001b[43m,\u001b[49m\n\u001b[1;32m    292\u001b[0m \u001b[43m    \u001b[49m\u001b[43mcompute_error\u001b[49m\u001b[38;5;241;43m=\u001b[39;49m\u001b[43mcompute_error\u001b[49m\u001b[43m,\u001b[49m\n\u001b[1;32m    293\u001b[0m \u001b[43m    \u001b[49m\u001b[43mnum_threads\u001b[49m\u001b[38;5;241;43m=\u001b[39;49m\u001b[43mnum_threads\u001b[49m\u001b[43m,\u001b[49m\n\u001b[1;32m    294\u001b[0m \u001b[43m\u001b[49m\u001b[43m)\u001b[49m\n\u001b[1;32m    295\u001b[0m c \u001b[38;5;241m=\u001b[39m \u001b[38;5;241m2.0\u001b[39m \u001b[38;5;241m*\u001b[39m (degrees_of_freedom \u001b[38;5;241m+\u001b[39m \u001b[38;5;241m1.0\u001b[39m) \u001b[38;5;241m/\u001b[39m degrees_of_freedom\n\u001b[1;32m    296\u001b[0m grad \u001b[38;5;241m=\u001b[39m grad\u001b[38;5;241m.\u001b[39mravel()\n",
      "\u001b[0;31mKeyboardInterrupt\u001b[0m: "
     ]
    },
    {
     "data": {
      "image/png": "[encoded data removed]",
      "text/plain": [
       "<Figure size 640x480 with 2 Axes>"
      ]
     },
     "metadata": {},
     "output_type": "display_data"
    }
   ],
   "source": [
    "from sklearn.decomposition import PCA\n",
    "from sklearn.manifold import TSNE\n",
    "def plot_tsne(data, ax):\n",
    "    pca = PCA(n_components=50)\n",
    "    data_sampled = data.sample(2400) if len(data) > 2400 else data\n",
    "    X_reduced = pca.fit_transform(data_sampled)\n",
    "    tsne = TSNE(n_components=2)\n",
    "    X_modified = tsne.fit_transform(X_reduced)\n",
    "    df_modified = pd.DataFrame(X_modified)\n",
    "    sns.scatterplot(x = df_modified[0], y = df_modified[1], ax = ax)\n",
    "\n",
    "def preprocess(filename):\n",
    "    streamer = NFStreamer(source=path+filename, statistical_analysis=True)\n",
    "    ip_encoder = IpEncoder(['src_ip', 'dst_ip'])\n",
    "    df = streamer.to_pandas()\n",
    "    df = df[df['ip_version'] == 4].drop(columns = ['src_oui', 'ip_version', 'dst_oui', 'application_name', 'application_category_name', 'vlan_id', 'expiration_id', 'content_type', 'client_fingerprint', 'server_fingerprint', 'user_agent', 'requested_server_name', 'src_mac', 'dst_mac', 'application_is_guessed', 'application_confidence', 'tunnel_id', 'id'])\n",
    "    X_transformed = ip_encoder.fit_transform(df)\n",
    "    return X_transformed\n",
    "\n",
    "\n",
    "\n",
    "fig, ax =plt.subplots(1,2)\n",
    "plot_tsne(preprocess('encrypted-23-12.pcapng'), ax=ax[0])\n",
    "plot_tsne(preprocess('communication-plain-mysql.pcapng'), ax=ax[1])\n",
    "fig.show()"
   ]
  },
  {
   "cell_type": "markdown",
   "id": "3fd5bd6a-318f-4bbf-9208-2b8ee3d311b2",
   "metadata": {},
   "source": [
    "Now we will plot a heatmap of payload bytes distribution"
   ]
  },
  {
   "cell_type": "code",
   "execution_count": 159,
   "id": "b43bf256-993f-45d5-81d1-9f25ca583534",
   "metadata": {},
   "outputs": [],
   "source": [
    "plain_flows_distro = get_distro('communication-plain-mysql.pcapng')\n",
    "encr_flows_distro = get_distro('encrypted-23-12.pcapng')"
   ]
  },
  {
   "cell_type": "code",
   "execution_count": 161,
   "id": "36399dc5-5786-4ccb-b784-006cea651f1a",
   "metadata": {},
   "outputs": [
    {
     "data": {
      "image/png": "[encoded data removed]",
      "text/plain": [
       "<Figure size 640x480 with 4 Axes>"
      ]
     },
     "metadata": {},
     "output_type": "display_data"
    }
   ],
   "source": [
    "def get_distro(filename):\n",
    "    streamer = NFStreamer(source=path+filename, udps=PayloadCollector())\n",
    "    distro = []\n",
    "    for flow in streamer:\n",
    "        distro.append(flow.udps.payload_byte_distro)\n",
    "    return np.array(distro)\n",
    "def plot_distro(distro, ax):\n",
    "    sns.heatmap(distro[100:120], cmap=\"mako\", cbar=True, ax = ax)\n",
    "\n",
    "fig, ax = plt.subplots(1,2)\n",
    "plot_distro(encr_flows_distro, ax=ax[0])\n",
    "plot_distro(plain_flows_distro, ax=ax[1])\n",
    "fig.show()"
   ]
  },
  {
   "cell_type": "markdown",
   "id": "67892a53-b958-48e0-bfb8-9032d149d3c0",
   "metadata": {},
   "source": [
    "## NFPlugin to extract payload bytes distribution"
   ]
  },
  {
   "cell_type": "code",
   "execution_count": 153,
   "id": "b7023326-9f14-4c38-a7c6-7bf82adba332",
   "metadata": {},
   "outputs": [],
   "source": [
    "import collections\n",
    "bytes_distro = []\n",
    "class PayloadCollector(NFPlugin):\n",
    "\n",
    "    @staticmethod\n",
    "    def _extend_flow_payload(packet, flow):\n",
    "        if packet.payload_size > 0:\n",
    "            payload = packet.ip_packet\n",
    "            byte_counter = collections.Counter(payload)\n",
    "            flow.udps.payload_byte_distro += [byte_counter.get(byte, 0) for byte in range(256)]\n",
    "\n",
    "    def on_init(self, packet, flow):\n",
    "        flow.udps.payload_byte_distro = np.zeros(256)\n",
    "        self._extend_flow_payload(packet, flow)\n",
    "\n",
    "    def on_update(self, packet, flow):\n",
    "        self._extend_flow_payload(packet, flow)\n",
    "    def on_expire(self, flow):\n",
    "        flow.udps.payload_byte_distro = flow.udps.payload_byte_distro/max(1, sum(flow.udps.payload_byte_distro))"
   ]
  },
  {
   "cell_type": "markdown",
   "id": "ef4a573a-2dd9-4afe-b2a8-75b9ffd2d089",
   "metadata": {},
   "source": [
    "## Metadata dataset class\n",
    "Creates network flows and fits them into a pipeline to process. \n",
    "Output: tensor of shape __N of flows, 1, 74__"
   ]
  },
  {
   "cell_type": "code",
   "execution_count": 162,
   "id": "39cae408-e721-42e0-989c-78f02f01438b",
   "metadata": {},
   "outputs": [],
   "source": [
    "class FlowDataset(Dataset):\n",
    "  def __init__(self, filename, transforms = None):\n",
    "    self.streamer = NFStreamer(source = filename, statistical_analysis=True)\n",
    "    self.flows = self.streamer.to_pandas()\n",
    "    self.flows = self.flows[self.flows['ip_version'] == 4]\n",
    "    self.flows = self.flows.drop(columns=['src_ip', 'dst_ip', 'src_port', 'dst_port', 'protocol', 'src_oui', 'ip_version', 'dst_oui', 'application_name', 'application_category_name', 'vlan_id', 'expiration_id', 'content_type', 'client_fingerprint', 'server_fingerprint', 'user_agent', 'requested_server_name', 'src_mac', 'dst_mac', 'application_is_guessed', 'application_confidence', 'tunnel_id', 'id'])\n",
    "    categorical_columns = ['src_ip_' + str(i) for i in range(4)]\n",
    "    categorical_columns.extend(['dst_ip_' + str(i) for i in range(4)])\n",
    "    # categorical_columns.extend(['protocol', 'src_port', 'dst_port'])\n",
    "    columns_to_scale = self.flows.columns[self.flows.columns.map(lambda x: x not in categorical_columns and x not in ['src_ip', 'dst_ip'])]\n",
    "    ct = ColumnTransformer([\n",
    "            ('scaler', StandardScaler(), columns_to_scale)\n",
    "        ], remainder='passthrough')\n",
    "    ip_encoder = IpEncoder(['src_ip', 'dst_ip'])\n",
    "    pipeline = Pipeline(steps= [\n",
    "        # ('ip_encoder', IpEncoder(['src_ip', 'dst_ip'])),\n",
    "        ('scaler', ct)\n",
    "    ])\n",
    "    self.transform = transforms\n",
    "    pipeline.fit(self.flows)\n",
    "    self.flows = pipeline.transform(self.flows)\n",
    "    self.flows = torch.tensor(self.flows).unsqueeze(1)\n",
    "\n",
    "  def __getitem__(self, idx):\n",
    "    item = self.flows[idx]\n",
    "    mean = item.mean(dim=1, keepdim=True)\n",
    "    std = item.std(dim=1, keepdim=True) \n",
    "    normalized = (item - mean) / (std + 1e-8)\n",
    "\n",
    "    return (normalized + 1) / 2\n",
    "\n",
    "  def __len__(self):\n",
    "    return len(self.flows)\n"
   ]
  },
  {
   "cell_type": "markdown",
   "id": "2c2db55b-58fb-4d0d-af92-0c3f6cba3d86",
   "metadata": {},
   "source": [
    "## Payload dataset class\n",
    "Using PayloadCollector plugin, payload bytes distribution is extracted for each flow and converted to a dataframe\n",
    "Output: tensor of shape __N of flows, 1, 256__"
   ]
  },
  {
   "cell_type": "code",
   "execution_count": 98,
   "id": "075589e1-75c6-466b-829c-7f0982ca5431",
   "metadata": {},
   "outputs": [],
   "source": [
    "class PayloadDataset(Dataset):\n",
    "  def __init__(self, filename, transforms = None):\n",
    "    self.streamer = NFStreamer(source = filename, udps = PayloadCollector())\n",
    "    self.distro = []\n",
    "    for flow in self.streamer:\n",
    "        if flow.ip_version == 4:\n",
    "            self.distro.append(flow.udps.payload_byte_distro)\n",
    "    self.distro = np.array(self.distro)\n",
    "    self.distro = torch.tensor(self.distro).unsqueeze(1)\n",
    "\n",
    "  def __getitem__(self, idx):\n",
    "      \n",
    "    return self.distro[idx]\n",
    "\n",
    "  def __len__(self):\n",
    "    return len(self.distro)\n"
   ]
  },
  {
   "cell_type": "markdown",
   "id": "6654767e-d701-4ee0-a3e7-220f99f2a980",
   "metadata": {},
   "source": [
    "## Assigning datasets\n",
    "\n",
    "__flow_df__ - flow-based properties - 63 features\n",
    "__packet_df__ - packet-based payload bytes distribution - 256 features"
   ]
  },
  {
   "cell_type": "code",
   "execution_count": 184,
   "id": "78786a7b-9967-40f3-bb38-7ed3bcdd53e0",
   "metadata": {},
   "outputs": [
    {
     "name": "stdout",
     "output_type": "stream",
     "text": [
      "Total samples: 3217\n",
      "Total batches: 101\n",
      "Flow loader batch shape: torch.Size([32, 1, 63])\n",
      "Packet loader batch shape: torch.Size([32, 1, 63])\n"
     ]
    }
   ],
   "source": [
    "from torchvision import transforms\n",
    "transforms = transforms.Compose([\n",
    "    transforms.Normalize(mean=[0.5, 0.5, 0.5], std=[0.5, 0.5, 0.5]),\n",
    "    transforms.ToTensor()\n",
    "])\n",
    "flow_df = FlowDataset(path + filename)\n",
    "packet_df = PayloadDataset(path + filename)\n",
    "val_df = FlowDataset(path + 'communication-plain-mysql.pcapng')\n",
    "flow_train_loader = DataLoader(flow_df, batch_size=batch_size)\n",
    "flow_val_loader = DataLoader(val_df, batch_size=batch_size)\n",
    "packet_train_loader = DataLoader(flow_df, batch_size=batch_size)\n",
    "packet_val_loader = DataLoader(val_df, batch_size=batch_size)\n",
    "print(f'Total samples: {len(metadata_df)}')\n",
    "print(f'Total batches: {len(dataloader)}')\n",
    "print(f'Flow loader batch shape: {next(iter(flow_train_loader)).shape}')\n",
    "print(f'Packet loader batch shape: {next(iter(packet_train_loader)).shape}')"
   ]
  },
  {
   "cell_type": "markdown",
   "id": "0a0eecba-f49e-4691-a934-8af7d45801c2",
   "metadata": {},
   "source": [
    "## LSTM based autoencoder\n",
    "The Autoencoder has 2 LSTM layers and 2 Linear layers dividing them"
   ]
  },
  {
   "cell_type": "code",
   "execution_count": 168,
   "id": "db552587-721d-42a2-9ea3-ea0034f8363e",
   "metadata": {},
   "outputs": [],
   "source": [
    "class LSTMAutoencoder(nn.Module):\n",
    "    def __init__(self, input_dim, hidden_dim, latent_dim):\n",
    "        super(LSTMAutoencoder, self).__init__()\n",
    "\n",
    "        # Encoder layers\n",
    "        self.lstm_encoder1 = nn.LSTM(input_size=input_dim, hidden_size=hidden_dim, batch_first=True)\n",
    "        self.lstm_encoder2 = nn.LSTM(input_size=hidden_dim, hidden_size=hidden_dim, batch_first=True)\n",
    "        self.fc_encoder = nn.Linear(hidden_dim, latent_dim)  # Fully connected to map to latent space\n",
    "\n",
    "        # Activation function for encoder output\n",
    "        self.encoder_activation = nn.ReLU()\n",
    "\n",
    "        # Decoder layers\n",
    "        self.fc_decoder = nn.Linear(latent_dim, hidden_dim)  # Fully connected to expand to hidden_dim\n",
    "        self.decoder_activation = nn.Tanh()  # Activation for the decoder linear layer\n",
    "        self.lstm_decoder1 = nn.LSTM(input_size=hidden_dim, hidden_size=hidden_dim, batch_first=True)\n",
    "        self.lstm_decoder2 = nn.LSTM(input_size=hidden_dim, hidden_size=input_dim, batch_first=True)  # Reconstruct to input_dim\n",
    "\n",
    "    def forward(self, x):\n",
    "        # Encoder part\n",
    "        _, (h_n1, _) = self.lstm_encoder1(x)  # First encoder LSTM\n",
    "        _, (h_n2, _) = self.lstm_encoder2(h_n1[-1].unsqueeze(0))  # Second encoder LSTM\n",
    "\n",
    "        latent_code = self.fc_encoder(h_n2[-1])  # Map to latent space (latent_dim)\n",
    "        latent_code = self.encoder_activation(latent_code)  # Apply activation\n",
    "\n",
    "        # Decoder part\n",
    "        latent_code = self.fc_decoder(latent_code)  # Expand to hidden_dim\n",
    "        latent_code = self.decoder_activation(latent_code)  # Apply activation\n",
    "        latent_code = latent_code.unsqueeze(1).repeat(1, x.size(1), 1)  # Repeat to sequence length\n",
    "\n",
    "        decoded, _ = self.lstm_decoder1(latent_code)  # First decoder LSTM\n",
    "        decoded, _ = self.lstm_decoder2(decoded)  # Second decoder LSTM\n",
    "\n",
    "        return decoded\n",
    "\n",
    "\n",
    "# Parameters\n",
    "input_dim = 63  # Number of features\n",
    "hidden_dim = 64  # Hidden layer dimension (can be adjusted)\n",
    "latent_dim = 32  # Latent dimension size (can be adjusted)\n",
    "sequence_length = 1 \n",
    "\n",
    "# Create model\n",
    "model = LSTMAutoencoder(input_dim, hidden_dim, latent_dim)\n",
    "model = model.to(device)"
   ]
  },
  {
   "cell_type": "markdown",
   "id": "bdb6ba30-9425-47f1-a42e-43b601033f08",
   "metadata": {},
   "source": [
    "## Custom R2 function"
   ]
  },
  {
   "cell_type": "code",
   "execution_count": 118,
   "id": "c2c737dd-c644-4646-a7cf-fa2f07e38b98",
   "metadata": {},
   "outputs": [],
   "source": [
    "def r2_score(y_true, y_pred):\n",
    "    assert y_true.shape == y_pred.shape, \"y_true and y_pred must have the same shape\"\n",
    "\n",
    "    y_mean = torch.mean(y_true)\n",
    "\n",
    "    ss_res = torch.sum((y_true - y_pred) ** 2)\n",
    "    ss_tot = torch.sum((y_true - y_mean) ** 2)\n",
    "    \n",
    "    # Calculate R^2\n",
    "    r2 = 1 - ss_res / (ss_tot + 1e-8)  # Add epsilon to avoid division by zero\n",
    "    \n",
    "    return r2.item()  # Return as a Python float\n"
   ]
  },
  {
   "cell_type": "markdown",
   "id": "3759236e-1d83-48b1-8b60-2ebed1bc5433",
   "metadata": {},
   "source": [
    "## Training loop\n",
    "Loss should go down, R2 should go up, validation loss should stay high as we validate on unencrypted payload"
   ]
  },
  {
   "cell_type": "code",
   "execution_count": 176,
   "id": "b762a88f-9d14-47ff-a11f-4a48c5eece89",
   "metadata": {},
   "outputs": [
    {
     "name": "stdout",
     "output_type": "stream",
     "text": [
      "Epoch 1/50, Loss: 209.05727295828336, R2: 0.07321894936042257, val_loss: 216.5706836442302\n",
      "Epoch 2/50, Loss: 193.48703176668374, R2: 0.1459761616027001, val_loss: 211.50873777920143\n",
      "Epoch 3/50, Loss: 188.11770871606203, R2: 0.16772406290073205, val_loss: 209.1279472982077\n",
      "Epoch 4/50, Loss: 185.8703838386158, R2: 0.1760194968469072, val_loss: 209.27197902363943\n",
      "Epoch 5/50, Loss: 186.4163668037641, R2: 0.17387330000943477, val_loss: 207.19848426302573\n",
      "Epoch 6/50, Loss: 185.04946272444016, R2: 0.18048996028333608, val_loss: 207.223017871828\n",
      "Epoch 7/50, Loss: 183.6396193551545, R2: 0.18686866642224906, val_loss: 207.29176714904327\n",
      "Epoch 8/50, Loss: 183.12074785893506, R2: 0.18961002803084873, val_loss: 207.2588747067559\n",
      "Epoch 9/50, Loss: 182.38755941863107, R2: 0.19347829452835688, val_loss: 206.64154150252952\n",
      "Epoch 10/50, Loss: 181.56699454430307, R2: 0.19772025087092182, val_loss: 205.28987792739295\n",
      "Epoch 11/50, Loss: 180.82345626377824, R2: 0.20166564282804433, val_loss: 205.46912424187911\n",
      "Epoch 12/50, Loss: 180.51793149438234, R2: 0.20380202319362375, val_loss: 206.664387867863\n",
      "Epoch 13/50, Loss: 180.33442808849978, R2: 0.2061860165973701, val_loss: 205.8402471327244\n",
      "Epoch 14/50, Loss: 179.7762023623627, R2: 0.20845741682713576, val_loss: 205.72210091038755\n",
      "Epoch 15/50, Loss: 178.89826338361985, R2: 0.2150521142647998, val_loss: 208.95052251600683\n",
      "Epoch 16/50, Loss: 179.75454447529103, R2: 0.21147609878294538, val_loss: 206.93295322504258\n",
      "Epoch 17/50, Loss: 178.92010112800222, R2: 0.2150600818124148, val_loss: 208.47990595308463\n",
      "Epoch 18/50, Loss: 178.98249718694404, R2: 0.21541571794169964, val_loss: 209.03021796663901\n",
      "Epoch 19/50, Loss: 177.91271345686204, R2: 0.22126635348442758, val_loss: 211.09451293945312\n",
      "Epoch 20/50, Loss: 177.65786924456606, R2: 0.22314283989443637, val_loss: 208.8555728654216\n",
      "Epoch 21/50, Loss: 176.96231902471862, R2: 0.22675603038013573, val_loss: 207.92685320861358\n",
      "Epoch 22/50, Loss: 177.9607829481068, R2: 0.2202771500785752, val_loss: 208.703347743902\n",
      "Epoch 23/50, Loss: 178.64348579633355, R2: 0.21526467150980882, val_loss: 207.88772210142668\n",
      "Epoch 24/50, Loss: 176.787955029176, R2: 0.22732293015659447, val_loss: 212.90754498933492\n",
      "Epoch 25/50, Loss: 177.4181838082795, R2: 0.22536652572084181, val_loss: 210.2717565091929\n",
      "Epoch 26/50, Loss: 177.06001908708328, R2: 0.22473014699350488, val_loss: 208.8553889568587\n",
      "Epoch 27/50, Loss: 176.99560728167543, R2: 0.22562884340191833, val_loss: 209.38747509260824\n",
      "Epoch 28/50, Loss: 176.4967624173306, R2: 0.22831667295776972, val_loss: 207.06030680720968\n",
      "Epoch 29/50, Loss: 175.73255187686127, R2: 0.2313604803368597, val_loss: 210.72602236181274\n",
      "Epoch 30/50, Loss: 175.5194298017143, R2: 0.23310285157496385, val_loss: 210.60323609086805\n",
      "Epoch 31/50, Loss: 175.18421581003926, R2: 0.2342510217487222, val_loss: 206.25196259003832\n",
      "Epoch 32/50, Loss: 174.87656659418994, R2: 0.23617251733742137, val_loss: 212.51648184410612\n",
      "Epoch 33/50, Loss: 174.6051171935431, R2: 0.23705693046645362, val_loss: 203.46151578515992\n",
      "Epoch 34/50, Loss: 180.4278669451723, R2: 0.21054070715857023, val_loss: 206.85831807072\n",
      "Epoch 35/50, Loss: 180.44830428019608, R2: 0.20016724638419575, val_loss: 205.8795557810848\n",
      "Epoch 36/50, Loss: 178.97547021242653, R2: 0.21196738741185406, val_loss: 204.94436037450805\n",
      "Epoch 37/50, Loss: 177.86465748701946, R2: 0.2182609733968678, val_loss: 207.33315053380522\n",
      "Epoch 38/50, Loss: 179.08005085557994, R2: 0.2106649132058172, val_loss: 206.40805684713493\n",
      "Epoch 39/50, Loss: 178.41643380646659, R2: 0.2135373908694428, val_loss: 205.49716393033364\n",
      "Epoch 40/50, Loss: 178.75509960816638, R2: 0.21399083290949905, val_loss: 207.79899384921654\n",
      "Epoch 41/50, Loss: 182.08646000021756, R2: 0.19437975576608488, val_loss: 207.00117291902242\n",
      "Epoch 42/50, Loss: 180.04691526205232, R2: 0.2080175463515933, val_loss: 208.9775473228971\n",
      "Epoch 43/50, Loss: 180.71453593036915, R2: 0.20550450417074825, val_loss: 208.0860821143129\n",
      "Epoch 44/50, Loss: 177.13409310520285, R2: 0.22330271135462393, val_loss: 208.498929532847\n",
      "Epoch 45/50, Loss: 176.25434512903195, R2: 0.22777411312159926, val_loss: 207.85076158566582\n",
      "Epoch 46/50, Loss: 175.81154118906153, R2: 0.23090206986606712, val_loss: 208.24649592808314\n",
      "Epoch 47/50, Loss: 176.0572890479966, R2: 0.22705416750199725, val_loss: 207.99143064111695\n",
      "Epoch 48/50, Loss: 175.43566698130994, R2: 0.23075104349910622, val_loss: 208.57163301625647\n",
      "Epoch 49/50, Loss: 175.36077692012975, R2: 0.23188030070597582, val_loss: 208.53082252445077\n",
      "Epoch 50/50, Loss: 175.27599954132987, R2: 0.23155107946679143, val_loss: 208.73015433863588\n"
     ]
    }
   ],
   "source": [
    "epochs = 50\n",
    "learning_rate = 0.0003\n",
    "optimizer = torch.optim.Adam(model.parameters(), lr=learning_rate, weight_decay=0.00001)\n",
    "criterion = nn.SmoothL1Loss(reduction='sum').to(device)\n",
    "# criterion = nn.MSELoss().to(device)\n",
    "# metric = R2Score().to(device)\n",
    "\n",
    "def train_one_epoch(loader, val = False):\n",
    "    running_loss = []\n",
    "    r2 = []\n",
    "    for i, batch in enumerate(loader):\n",
    "        inputs = batch.float().permute(1, 0, 2).to(device)\n",
    "        if not val: \n",
    "            optimizer.zero_grad() \n",
    "        outputs = model(inputs)\n",
    "        # metric.update(inputs[0].cpu(), outputs[0].cpu())\n",
    "        loss = criterion(outputs, inputs)\n",
    "        if not val:\n",
    "            loss.backward() \n",
    "            optimizer.step()\n",
    "\n",
    "        running_loss.append(loss.item())\n",
    "        r2.append(r2_score(inputs, outputs))\n",
    "\n",
    "    # print(loss.item())\n",
    "    running_loss = np.array(running_loss)\n",
    "    r2 = np.array(r2)\n",
    "    return np.sum(running_loss) / len(running_loss), np.mean(r2)\n",
    "\n",
    "# loss = train_one_epoch()\n",
    "# loss\n",
    "history = []\n",
    "for epoch in range(epochs):\n",
    "    \n",
    "    model.train()\n",
    "    training_loss, r2 = train_one_epoch(train_loader)\n",
    "    model.eval()  # Set model to evaluation mode\n",
    "    val_loss = []\n",
    "    with torch.no_grad():  # Disable gradient calculations\n",
    "        val_loss, _ = train_one_epoch(val_loader, val = True)\n",
    "\n",
    "    # avg_val_loss = val_loss / len(val_loader)\n",
    "    history.append({'loss': training_loss, 'r2': r2, 'val_loss': val_loss})\n",
    "    print(f'Epoch {epoch + 1}/{epochs}, Loss: {training_loss}, R2: {r2}, val_loss: {val_loss}')"
   ]
  },
  {
   "cell_type": "code",
   "execution_count": 152,
   "id": "ea993e39-4205-4e37-8094-c766a1b92efe",
   "metadata": {},
   "outputs": [
    {
     "data": {
      "text/plain": [
       "0.028783267386958446"
      ]
     },
     "execution_count": 152,
     "metadata": {},
     "output_type": "execute_result"
    }
   ],
   "source": [
    "history[0]['loss']"
   ]
  }
 ],
 "metadata": {
  "kernelspec": {
   "display_name": "Python 3 (ipykernel)",
   "language": "python",
   "name": "python3"
  },
  "language_info": {
   "codemirror_mode": {
    "name": "ipython",
    "version": 3
   },
   "file_extension": ".py",
   "mimetype": "text/x-python",
   "name": "python",
   "nbconvert_exporter": "python",
   "pygments_lexer": "ipython3",
   "version": "3.10.12"
  }
 },
 "nbformat": 4,
 "nbformat_minor": 5
}
