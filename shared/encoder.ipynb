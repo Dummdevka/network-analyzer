{
 "cells": [
  {
   "cell_type": "code",
   "execution_count": 2,
   "id": "577199d3-ffd3-4ed6-8fff-a3cc1e427e1d",
   "metadata": {
    "editable": true,
    "slideshow": {
     "slide_type": ""
    },
    "tags": []
   },
   "outputs": [
    {
     "name": "stderr",
     "output_type": "stream",
     "text": [
      "/usr/local/lib/python3.10/dist-packages/torchvision/io/image.py:13: UserWarning: Failed to load image Python extension: 'libpng16.so.16: cannot open shared object file: No such file or directory'If you don't plan on using image functionality from `torchvision.io`, you can ignore this warning. Otherwise, there might be something wrong with your environment. Did you have `libjpeg` or `libpng` installed before building `torchvision` from source?\n",
      "  warn(\n",
      "/usr/local/lib/python3.10/dist-packages/tqdm/auto.py:21: TqdmWarning: IProgress not found. Please update jupyter and ipywidgets. See https://ipywidgets.readthedocs.io/en/stable/user_install.html\n",
      "  from .autonotebook import tqdm as notebook_tqdm\n"
     ]
    }
   ],
   "source": [
    "# !pip install torcheval\n",
    "import pandas as pd\n",
    "import numpy as np\n",
    "from nfstream import NFStreamer, NFPlugin\n",
    "from nfstream.flow import NFlow\n",
    "import os\n",
    "import seaborn as sns\n",
    "import pandas as pd\n",
    "from nfstream import NFStreamer, NFPlugin\n",
    "from nfstream.flow import NFlow\n",
    "import os\n",
    "from sklearn.preprocessing import StandardScaler, MinMaxScaler\n",
    "from sklearn.compose import ColumnTransformer\n",
    "from sklearn.pipeline import Pipeline\n",
    "from sklearn.model_selection import train_test_split\n",
    "import torch.nn as nn\n",
    "import torch.optim as optim\n",
    "import copy\n",
    "import torch\n",
    "\n",
    "import torchvision\n",
    "from torch.utils.data import Dataset, DataLoader\n",
    "import intel_extension_for_pytorch as ipex\n",
    "from sklearn.base import BaseEstimator,TransformerMixin\n",
    "import matplotlib.pyplot as plt\n",
    "import joblib\n",
    "from sklearn.neighbors import KNeighborsClassifier"
   ]
  },
  {
   "cell_type": "code",
   "execution_count": 61,
   "id": "fe6f1efa-acbd-4488-b77d-2111f5dd04a9",
   "metadata": {},
   "outputs": [
    {
     "name": "stdout",
     "output_type": "stream",
     "text": [
      "xpu\n"
     ]
    }
   ],
   "source": [
    "device = torch.device(\"xpu\" if torch.xpu.is_available() else \"cpu\")\n",
    "# device = torch.device(\"cpu\")\n",
    "print(device)\n",
    "path = os.path.abspath(\"\") + '/../datasets/' \n",
    "graph_path = path + '../graphs/'\n",
    "# filename = 'capture-18-12-520k.pcapng'\n",
    "# filename = 'plain-text-1.pcapng'\n",
    "filename = 'encrypted2.pcapng'\n",
    "# val_filename = 'communication-plain-mysql.pcapng'\n",
    "val_filename_negative = 'unencrypted/dump'\n",
    "val_filename_positive = 'encrypted/encr2'\n",
    "\n",
    "# benign_path = path + 'dump'\n",
    "torch.set_printoptions(sci_mode=False)\n",
    "torch.autograd.set_detect_anomaly(True)\n",
    "\n",
    "batch_size=24\n",
    "ms_columns = [\n",
    "    'bidirectional_duration_ms',\n",
    "    'src2dst_duration_ms',\n",
    "    'dst2src_duration_ms',\n",
    "]\n",
    "timestamps_columns = [\n",
    "    'bidirectional_first_seen_ms',\n",
    "    'bidirectional_last_seen_ms',\n",
    "    'src2dst_first_seen_ms',\n",
    "    'src2dst_last_seen_ms',\n",
    "    'dst2src_first_seen_ms',\n",
    "    'dst2src_last_seen_ms',\n",
    "]\n",
    "to_drop = [\n",
    "    'bidirectional_first_seen_ms',\n",
    "    'bidirectional_last_seen_ms',\n",
    "    'src2dst_last_seen_ms',\n",
    "    'dst2src_first_seen_ms',\n",
    "    'dst2src_last_seen_ms',\n",
    "    'src_ip', 'dst_ip', \n",
    "    'src_port', 'dst_port', \n",
    "    'protocol', 'src_oui', \n",
    "    'ip_version', 'dst_oui', \n",
    "    'application_name', 'application_category_name', \n",
    "    'vlan_id', 'expiration_id', \n",
    "    'content_type', 'client_fingerprint', \n",
    "    'server_fingerprint', 'user_agent', \n",
    "    'requested_server_name', 'src_mac', \n",
    "    'dst_mac', 'application_is_guessed', \n",
    "    'application_confidence', 'tunnel_id', 'id'\n",
    "]\n",
    "timestamp_col = 'src2dst_first_seen_ms'"
   ]
  },
  {
   "cell_type": "markdown",
   "id": "7e8c8811-f8c2-4863-b5de-351eeb5c11c1",
   "metadata": {},
   "source": [
    "## IpEncoder\n",
    "Used to preprocess IP strings. Encodes 127.0.0.1 into 127 , 0, 0, 1. Used for __src_ip, dst_ip__ columns.\n",
    "Output: DataFrame"
   ]
  },
  {
   "cell_type": "code",
   "execution_count": 57,
   "id": "996ac528-7792-423f-9e9a-f799ce514c06",
   "metadata": {},
   "outputs": [],
   "source": [
    "streamer = NFStreamer(source=path + val_filename_positive, statistical_analysis=True)\n",
    "df  = streamer.to_pandas()\n"
   ]
  },
  {
   "cell_type": "code",
   "execution_count": 1,
   "id": "85e0b54b-d44c-4c05-90d7-b8351364c5b4",
   "metadata": {},
   "outputs": [],
   "source": [
    "# for l, val in df.groupby(timestamp_col):\n",
    "#     print(len(val))"
   ]
  },
  {
   "cell_type": "code",
   "execution_count": 3,
   "id": "9306d0aa-4763-4d3c-a531-6c3b583b037e",
   "metadata": {},
   "outputs": [],
   "source": [
    "# Split IP into 4 features\n",
    "class IpEncoder(BaseEstimator, TransformerMixin):\n",
    "    def __init__(self, column_names):\n",
    "        self.column_names = column_names\n",
    "            \n",
    "    def fit(self, X, y = None):\n",
    "        return self\n",
    "    \n",
    "    def transform(self, X, y = None):\n",
    "        X_tmp = X.copy()\n",
    "        cols = X_tmp.columns.to_list()\n",
    "        \n",
    "        for column in self.column_names:\n",
    "            new_names = [column + '_' + str(i) for i in range(4)]\n",
    "            splitted = X_tmp[column].str.split('.', expand = True).astype(int)\n",
    "            splitted.columns = new_names\n",
    "            cols.append(new_names)\n",
    "    \n",
    "            X_tmp = pd.concat([X_tmp, splitted], axis = 1)\n",
    "        X_tmp.drop(columns = self.column_names, inplace = True)\n",
    "        return X_tmp\n"
   ]
  },
  {
   "cell_type": "code",
   "execution_count": 7,
   "id": "30163c02-18f7-45b0-9ce4-3734b0c7227d",
   "metadata": {},
   "outputs": [],
   "source": [
    "# Split IP into 4 features\n",
    "class MsToSeconds(BaseEstimator, TransformerMixin):\n",
    "    def __init__(self, column_names):\n",
    "        self.column_names = column_names\n",
    "            \n",
    "    def fit(self, X, y = None):\n",
    "        return self\n",
    "    \n",
    "    def transform(self, X, y = None):\n",
    "        X_tmp = X.copy()\n",
    "        cols = X_tmp.columns.to_list()\n",
    "        \n",
    "        for column in self.column_names:\n",
    "            # new_names = [column + '_' + str(i) for i in range(4)]\n",
    "            X_tmp[column] = (X_tmp[column]/1000).astype(float)\n",
    "            # splitted.columns = new_names\n",
    "            # cols.append(new_names)\n",
    "    \n",
    "            # X_tmp = pd.concat([X_tmp, splitted], axis = 1)\n",
    "        # X_tmp.drop(columns = self.column_names, inplace = True)\n",
    "        return X_tmp\n"
   ]
  },
  {
   "cell_type": "code",
   "execution_count": 7,
   "id": "527d379e-e690-4362-8d05-5c1c8a48c81f",
   "metadata": {},
   "outputs": [],
   "source": [
    "# Split IP into 4 features\n",
    "class TimestampsToLog(BaseEstimator, TransformerMixin):\n",
    "    def __init__(self, column_names):\n",
    "        self.column_names = column_names\n",
    "            \n",
    "    def fit(self, X, y = None):\n",
    "        return self\n",
    "    \n",
    "    def transform(self, X, y = None):\n",
    "        X_tmp = X.copy()\n",
    "        cols = X_tmp.columns.to_list()\n",
    "        \n",
    "        for column in self.column_names:\n",
    "            value = X_tmp[column]\n",
    "            X_tmp[column] = X_tmp[column].apply(lambda x: 1 if x ==1 else (-1 if x ==0 else np.log(x).astype(float)))\n",
    "            # print(value)\n",
    "            # if value == 1:\n",
    "            #     log_value = 1\n",
    "            # elif value == 0:\n",
    "            #     log_value = -1\n",
    "            # else:\n",
    "            #     log_value = np.log(X_tmp[column]).astype(float)\n",
    "            # X_tmp[column] = log_value\n",
    "        return X_tmp\n"
   ]
  },
  {
   "cell_type": "code",
   "execution_count": 8,
   "id": "0d375e57-45cb-4604-a5be-3e401f918888",
   "metadata": {},
   "outputs": [],
   "source": [
    "# Split IP into 4 features\n",
    "class DropExcessCols(BaseEstimator, TransformerMixin):\n",
    "    def __init__(self, to_drop):\n",
    "        self.to_drop = to_drop\n",
    "            \n",
    "    def fit(self, X, y = None):\n",
    "        return self\n",
    "    \n",
    "    def transform(self, X, y = None):\n",
    "        X_tmp = X.copy()\n",
    "        \n",
    "        X_tmp = X_tmp.drop(columns=self.to_drop)\n",
    "        # print(X_tmp.columns)\n",
    "        return X_tmp\n",
    "\n",
    "\n",
    "        # self.distro = np.array(self.distro)\n",
    "        # self.distro = torch.tensor(self.distro).unsqueeze(1)"
   ]
  },
  {
   "cell_type": "markdown",
   "id": "cee3e2a4-5951-4e0e-9199-d58e30b941d3",
   "metadata": {},
   "source": [
    "## Explore data\n",
    "\n",
    "First, lets plot netflow clusters distribution"
   ]
  },
  {
   "cell_type": "code",
   "execution_count": 3,
   "id": "e73bfe11-c040-43bc-84b2-89dc14ea43ef",
   "metadata": {},
   "outputs": [],
   "source": [
    "# from sklearn.decomposition import PCA\n",
    "# from sklearn.manifold import TSNE\n",
    "# def plot_tsne(data, ax):\n",
    "#     pca = PCA(n_components=50)\n",
    "#     data_sampled = data.sample(2400) if len(data) > 2400 else data\n",
    "#     X_reduced = pca.fit_transform(data_sampled)\n",
    "#     tsne = TSNE(n_components=2)\n",
    "#     X_modified = tsne.fit_transform(X_reduced)\n",
    "#     df_modified = pd.DataFrame(X_modified)\n",
    "#     sns.scatterplot(x = df_modified[0], y = df_modified[1], ax = ax)\n",
    "\n",
    "# def preprocess(filename):\n",
    "#     streamer = NFStreamer(source=path+filename, statistical_analysis=True)\n",
    "#     ip_encoder = IpEncoder(['src_ip', 'dst_ip'])\n",
    "#     df = streamer.to_pandas()\n",
    "#     to\n",
    "#     df = df[df['ip_version'] == 4].drop(columns = ['src_oui', 'ip_version', 'dst_oui', 'application_name', 'application_category_name', 'vlan_id', 'expiration_id', 'content_type', 'client_fingerprint', 'server_fingerprint', 'user_agent', 'requested_server_name', 'src_mac', 'dst_mac', 'application_is_guessed', 'application_confidence', 'tunnel_id', 'id'])\n",
    "#     X_transformed = ip_encoder.fit_transform(df)\n",
    "#     return X_transformed\n",
    "\n",
    "\n",
    "\n",
    "# fig, ax =plt.subplots(1,2)\n",
    "# plot_tsne(preprocess(filename), ax=ax[0])\n",
    "# plot_tsne(preprocess(val_filename), ax=ax[1])\n",
    "# fig.show()"
   ]
  },
  {
   "cell_type": "markdown",
   "id": "3fd5bd6a-318f-4bbf-9208-2b8ee3d311b2",
   "metadata": {},
   "source": [
    "Now we will plot a heatmap of payload bytes distribution"
   ]
  },
  {
   "cell_type": "code",
   "execution_count": 334,
   "id": "36399dc5-5786-4ccb-b784-006cea651f1a",
   "metadata": {},
   "outputs": [
    {
     "data": {
      "image/png": "[encoded data removed]",
      "text/plain": [
       "<Figure size 640x480 with 4 Axes>"
      ]
     },
     "metadata": {},
     "output_type": "display_data"
    }
   ],
   "source": [
    "def get_distro(filename):\n",
    "    streamer = NFStreamer(source=path+filename, udps=PayloadCollector())\n",
    "    distro = []\n",
    "    for flow in streamer:\n",
    "        distro.append(flow.udps.payload_byte_distro)\n",
    "    return np.array(distro)\n",
    "def plot_distro(distro, ax):\n",
    "    sns.heatmap(distro[100:120], cmap=\"mako\", cbar=True, ax = ax)\n",
    "encr_flows_distro = get_distro(filename)\n",
    "plain_flows_distro = get_distro(val_filename)\n",
    "fig, ax = plt.subplots(1,2)\n",
    "ax[0].annotate('Encrypted', xy=(0, 1))\n",
    "ax[1].annotate('Plain', xy=(0,1))\n",
    "\n",
    "plot_distro(encr_flows_distro, ax=ax[0])\n",
    "plot_distro(plain_flows_distro, ax=ax[1])\n",
    "fig.show()"
   ]
  },
  {
   "cell_type": "markdown",
   "id": "67892a53-b958-48e0-bfb8-9032d149d3c0",
   "metadata": {},
   "source": [
    "## NFPlugin to extract payload bytes distribution"
   ]
  },
  {
   "cell_type": "code",
   "execution_count": 6,
   "id": "b7023326-9f14-4c38-a7c6-7bf82adba332",
   "metadata": {},
   "outputs": [],
   "source": [
    "import collections\n",
    "bytes_distro = []\n",
    "class PayloadCollector(NFPlugin):\n",
    "\n",
    "    @staticmethod\n",
    "    def _extend_flow_payload(packet, flow):\n",
    "        if packet.payload_size > 0:\n",
    "            payload = packet.ip_packet\n",
    "            byte_counter = collections.Counter(payload)\n",
    "            flow.udps.payload_byte_distro += [byte_counter.get(byte, 0) for byte in range(256)]\n",
    "\n",
    "    def on_init(self, packet, flow):\n",
    "        flow.udps.payload_byte_distro = np.zeros(256)\n",
    "        self._extend_flow_payload(packet, flow)\n",
    "\n",
    "    def on_update(self, packet, flow):\n",
    "        self._extend_flow_payload(packet, flow)\n",
    "    def on_expire(self, flow):\n",
    "        flow.udps.payload_byte_distro = flow.udps.payload_byte_distro/max(1, sum(flow.udps.payload_byte_distro))"
   ]
  },
  {
   "cell_type": "markdown",
   "id": "ef4a573a-2dd9-4afe-b2a8-75b9ffd2d089",
   "metadata": {},
   "source": [
    "## Metadata dataset class\n",
    "Creates network flows and fits them into a pipeline to process. \n",
    "Output: tensor of shape __N of flows, 1, 74__"
   ]
  },
  {
   "cell_type": "code",
   "execution_count": 66,
   "id": "39cae408-e721-42e0-989c-78f02f01438b",
   "metadata": {},
   "outputs": [],
   "source": [
    "class FlowDataset(Dataset):\n",
    "  def __init__(self, flows, transforms = None):\n",
    "    print(flows)\n",
    "    self.flows = flows\n",
    "    ts = self.flows.groupby(timestamp_col)\n",
    "    self.data = []\n",
    "    for ts_value, ts_flows in ts:\n",
    "        tensor = torch.tensor(ts_flows.drop(columns=[timestamp_col]).values, dtype=torch.float32)\n",
    "        self.data.append(tensor)\n",
    "    self.transform = transforms\n",
    "    # self.data = torch.tensor(self.data)\n",
    "\n",
    "  def __getitem__(self, idx):\n",
    "      sample = self.data[idx]\n",
    "      if self.transform:\n",
    "            sample = self.transform(sample)\n",
    "      return sample\n",
    "\n",
    "  def __len__(self):\n",
    "    return len(self.flows)\n"
   ]
  },
  {
   "cell_type": "code",
   "execution_count": 81,
   "id": "e5185994-3e85-45f7-95ce-c99ea2780ce0",
   "metadata": {},
   "outputs": [],
   "source": [
    "from torch.nn.utils.rnn import pad_sequence\n",
    "\n",
    "def collate_fn(batch):\n",
    "    # Separate sequences and targets\n",
    "    sequences, targets = zip(*batch)\n",
    "    \n",
    "    # Convert sequences to tensors and pad them to the same length\n",
    "    sequences = [torch.tensor(seq, dtype=torch.float32) for seq in sequences]\n",
    "    padded_sequences = pad_sequence(sequences, batch_first=True, padding_value=0)\n",
    "    \n",
    "    # Convert targets to tensor\n",
    "    targets = torch.tensor(targets, dtype=torch.float32)\n",
    "    \n",
    "    # Sequence lengths (before padding)\n",
    "    lengths = torch.tensor([len(seq) for seq in sequences], dtype=torch.int64)\n",
    "    \n",
    "    return padded_sequences, targets, lengths\n"
   ]
  },
  {
   "cell_type": "markdown",
   "id": "2c2db55b-58fb-4d0d-af92-0c3f6cba3d86",
   "metadata": {},
   "source": [
    "## Payload dataset class\n",
    "Using PayloadCollector plugin, payload bytes distribution is extracted for each flow and converted to a dataframe\n",
    "Output: tensor of shape __N of flows, 1, 256__"
   ]
  },
  {
   "cell_type": "code",
   "execution_count": 49,
   "id": "075589e1-75c6-466b-829c-7f0982ca5431",
   "metadata": {},
   "outputs": [],
   "source": [
    "# class PayloadDataset(Dataset):\n",
    "#   def __init__(self, filename, transform = None):\n",
    "#     self.streamer = NFStreamer(source = filename, udps = PayloadCollector())\n",
    "#     self.distro = []\n",
    "#     for flow in self.streamer:\n",
    "#         if flow.ip_version == 4:\n",
    "#             self.distro.append(flow.udps.payload_byte_distro)\n",
    "#     self.distro = np.array(self.distro)\n",
    "#     self.distro = torch.tensor(self.distro).unsqueeze(1)\n",
    "#     self.transform = transform\n",
    "\n",
    "#   def __getitem__(self, idx):\n",
    "      \n",
    "#     sample = self.distro[idx]\n",
    "#     if self.transform:\n",
    "#         sample = self.transform(sample.unsqueeze(1))[0]\n",
    "#     return sample\n",
    "\n",
    "#   def __len__(self):\n",
    "#     return len(self.distro)\n"
   ]
  },
  {
   "cell_type": "code",
   "execution_count": 5,
   "id": "b481b7ac-4ff4-4bcd-98f8-39a4a7629702",
   "metadata": {},
   "outputs": [],
   "source": [
    "class AppendPayloadDistro(BaseEstimator, TransformerMixin):\n",
    "    def __init__(self):\n",
    "        pass\n",
    "    def fit(self, X, y = None):\n",
    "        return self\n",
    "    def transform(self, X, y = None):\n",
    "        X_temp = X.copy()\n",
    "    \n",
    "        columns = ['byte_' + str(i) for i in range(256)]\n",
    "        distro = []\n",
    "        distros = X_temp['udps.payload_byte_distro']\n",
    "        \n",
    "        for d in distros:\n",
    "            values = d.strip('[]').split()\n",
    "            distro.append(list(map(float, values)))\n",
    "    \n",
    "        X_temp = X_temp.drop(columns = ['udps.payload_byte_distro'])\n",
    "\n",
    "        distro_df = pd.DataFrame(distro, columns = columns)\n",
    "        # print(distro_df.head())\n",
    "        # print(f'X_temp: {X_temp.shape}, distro: {distro_df.shape}')\n",
    "        # # X_temp = \n",
    "        \n",
    "        return pd.concat([X_temp.reset_index(drop=True), distro_df], axis=1)"
   ]
  },
  {
   "cell_type": "markdown",
   "id": "6654767e-d701-4ee0-a3e7-220f99f2a980",
   "metadata": {},
   "source": [
    "## Assigning datasets\n",
    "\n",
    "__flow_df__ - flow-based properties - 63 features\n",
    "__packet_df__ - packet-based payload bytes distribution - 256 features"
   ]
  },
  {
   "cell_type": "code",
   "execution_count": 67,
   "id": "78786a7b-9967-40f3-bb38-7ed3bcdd53e0",
   "metadata": {},
   "outputs": [
    {
     "name": "stderr",
     "output_type": "stream",
     "text": [
      "/usr/local/lib/python3.10/dist-packages/sklearn/pipeline.py:62: FutureWarning: This Pipeline instance is not fitted yet. Call 'fit' with appropriate arguments before using other methods such as transform, predict, etc. This will raise an error in 1.8 instead of the current warning.\n",
      "  warnings.warn(\n"
     ]
    },
    {
     "name": "stdout",
     "output_type": "stream",
     "text": [
      "      bidirectional_duration_ms  bidirectional_packets  bidirectional_bytes  \\\n",
      "0                         0.066                     35                11013   \n",
      "1                         0.092                     41               124327   \n",
      "2                         4.784                    271               209156   \n",
      "3                         0.649                    273               287460   \n",
      "4                         4.656                    407               280837   \n",
      "...                         ...                    ...                  ...   \n",
      "6504                      0.068                    123               717571   \n",
      "6505                      0.114                     18                 5181   \n",
      "6506                      0.268                    357              2774317   \n",
      "6507                      0.222                    122               717505   \n",
      "6508                      0.051                    118               717360   \n",
      "\n",
      "      src2dst_first_seen_ms  src2dst_duration_ms  src2dst_packets  \\\n",
      "0             1734973154280                0.066               19   \n",
      "1             1734973154254                0.092               23   \n",
      "2             1734973190183                4.784              146   \n",
      "3             1734973200045                0.649              145   \n",
      "4             1734973195061                4.656              206   \n",
      "...                     ...                  ...              ...   \n",
      "6504          1735129551542                0.068               64   \n",
      "6505          1735129551758                0.114               10   \n",
      "6506          1735129551788                0.268              179   \n",
      "6507          1735129551834                0.222               65   \n",
      "6508          1735129552133                0.051               61   \n",
      "\n",
      "      src2dst_bytes  dst2src_duration_ms  dst2src_packets  dst2src_bytes  ...  \\\n",
      "0              3565                0.066               16           7448  ...   \n",
      "1              2291                0.092               18         122036  ...   \n",
      "2             45082                4.784              125         164074  ...   \n",
      "3             63521                0.648              128         223939  ...   \n",
      "4            113500                4.656              201         167337  ...   \n",
      "...             ...                  ...              ...            ...  ...   \n",
      "6504           5532                0.068               59         712039  ...   \n",
      "6505           1334                0.114                8           3847  ...   \n",
      "6506          12787                0.268              178        2761530  ...   \n",
      "6507           5598                0.222               57         711907  ...   \n",
      "6508           5441                0.051               57         711919  ...   \n",
      "\n",
      "      byte_246  byte_247  byte_248  byte_249  byte_250  byte_251  byte_252  \\\n",
      "0     0.002833  0.002833  0.002327  0.004351  0.002631  0.003036  0.003137   \n",
      "1     0.003743  0.003482  0.003759  0.003734  0.003979  0.003930  0.003840   \n",
      "2     0.004158  0.004163  0.003946  0.003675  0.003645  0.003512  0.003640   \n",
      "3     0.003824  0.003585  0.003635  0.003835  0.003713  0.003817  0.003663   \n",
      "4     0.003606  0.003610  0.003481  0.003621  0.003772  0.003614  0.003555   \n",
      "...        ...       ...       ...       ...       ...       ...       ...   \n",
      "6504  0.003841  0.003901  0.003896  0.004002  0.003835  0.003776  0.003825   \n",
      "6505  0.002959  0.004097  0.003187  0.002732  0.004780  0.003187  0.003642   \n",
      "6506  0.003886  0.003878  0.003835  0.003970  0.003912  0.003909  0.003892   \n",
      "6507  0.003885  0.003886  0.003770  0.004060  0.003921  0.003810  0.003984   \n",
      "6508  0.003765  0.003848  0.003839  0.003979  0.003908  0.003787  0.003831   \n",
      "\n",
      "      byte_253  byte_254  byte_255  \n",
      "0     0.003440  0.004047  0.003339  \n",
      "1     0.003718  0.003914  0.003775  \n",
      "2     0.003827  0.003645  0.003827  \n",
      "3     0.003767  0.003867  0.003382  \n",
      "4     0.003625  0.003559  0.003570  \n",
      "...        ...       ...       ...  \n",
      "6504  0.003963  0.003841  0.003908  \n",
      "6505  0.004097  0.002959  0.003870  \n",
      "6506  0.003865  0.003896  0.003870  \n",
      "6507  0.003921  0.003861  0.003936  \n",
      "6508  0.003841  0.003937  0.003923  \n",
      "\n",
      "[6509 rows x 314 columns]\n",
      "     bidirectional_duration_ms  bidirectional_packets  bidirectional_bytes  \\\n",
      "0                        0.250                     10                 3092   \n",
      "1                        1.060                     10                 3692   \n",
      "2                        4.450                     30               117252   \n",
      "3                        0.082                     29                 6831   \n",
      "4                        0.131                     29                 6831   \n",
      "..                         ...                    ...                  ...   \n",
      "192                      0.116                    109              1822861   \n",
      "193                      0.079                     43                 7981   \n",
      "194                      0.079                     63               882707   \n",
      "195                      0.074                     65               884236   \n",
      "196                      0.024                     72              1558089   \n",
      "\n",
      "     src2dst_first_seen_ms  src2dst_duration_ms  src2dst_packets  \\\n",
      "0            1734089114282                0.250                5   \n",
      "1            1734089115613                1.060                5   \n",
      "2            1734089109429                4.450               15   \n",
      "3            1734089114447                0.082               16   \n",
      "4            1734089115737                0.131               15   \n",
      "..                     ...                  ...              ...   \n",
      "192          1734089117556                0.116               56   \n",
      "193          1734089117751                0.079               23   \n",
      "194          1734089117925                0.079               33   \n",
      "195          1734089117925                0.074               32   \n",
      "196          1734089117982                0.024               36   \n",
      "\n",
      "     src2dst_bytes  dst2src_duration_ms  dst2src_packets  dst2src_bytes  ...  \\\n",
      "0             2074                0.250                5           1018  ...   \n",
      "1             2298                1.060                5           1394  ...   \n",
      "2             2998                4.450               15         114254  ...   \n",
      "3             1569                0.082               13           5262  ...   \n",
      "4             1503                0.131               14           5328  ...   \n",
      "..             ...                  ...              ...            ...  ...   \n",
      "192           4488                0.116               53        1818373  ...   \n",
      "193           5986                0.079               20           1995  ...   \n",
      "194           2724                0.066               30         879983  ...   \n",
      "195           2607                0.074               33         881629  ...   \n",
      "196           2514                0.024               36        1555575  ...   \n",
      "\n",
      "     byte_246  byte_247  byte_248  byte_249  byte_250      byte_251  \\\n",
      "0    0.001587  0.001587  0.000397  0.000397  0.000397  7.936500e-04   \n",
      "1    0.000321  0.000000  0.000000  0.000000  0.000000  0.000000e+00   \n",
      "2    0.003952  0.003711  0.003633  0.003693  0.003754  3.287880e-03   \n",
      "3    0.001010  0.000505  0.000505  0.000168  0.000168  8.416100e-04   \n",
      "4    0.000842  0.000168  0.000505  0.000337  0.000000  6.732900e-04   \n",
      "..        ...       ...       ...       ...       ...           ...   \n",
      "192  0.000002  0.000002  0.000001  0.000009  0.000005  3.848533e-06   \n",
      "193  0.002611  0.000145  0.000435  0.000290  0.000145  0.000000e+00   \n",
      "194  0.000001  0.000001  0.000002  0.000000  0.000001  1.135841e-05   \n",
      "195  0.000001  0.000000  0.000000  0.000000  0.000001  0.000000e+00   \n",
      "196  0.000001  0.000000  0.000000  0.000000  0.000000  6.430070e-07   \n",
      "\n",
      "         byte_252  byte_253  byte_254  byte_255  \n",
      "0    1.587300e-03  0.000397  0.002381  0.001190  \n",
      "1    0.000000e+00  0.000000  0.000641  0.000000  \n",
      "2    3.236110e-03  0.003400  0.003383  0.002874  \n",
      "3    5.049700e-04  0.004208  0.002020  0.001347  \n",
      "4    1.683200e-04  0.004040  0.002020  0.000673  \n",
      "..            ...       ...       ...       ...  \n",
      "192  4.398323e-06  0.000028  0.000015  0.000000  \n",
      "193  0.000000e+00  0.000000  0.000000  0.000000  \n",
      "194  1.703761e-05  0.000036  0.000011  0.000000  \n",
      "195  1.133908e-06  0.000036  0.000009  0.000001  \n",
      "196  6.430070e-07  0.000022  0.000014  0.000000  \n",
      "\n",
      "[197 rows x 314 columns]\n"
     ]
    },
    {
     "name": "stderr",
     "output_type": "stream",
     "text": [
      "/usr/local/lib/python3.10/dist-packages/sklearn/pipeline.py:62: FutureWarning: This Pipeline instance is not fitted yet. Call 'fit' with appropriate arguments before using other methods such as transform, predict, etc. This will raise an error in 1.8 instead of the current warning.\n",
      "  warnings.warn(\n"
     ]
    },
    {
     "name": "stdout",
     "output_type": "stream",
     "text": [
      "      bidirectional_duration_ms  bidirectional_packets  bidirectional_bytes  \\\n",
      "0                         0.253                     40                14300   \n",
      "1                         4.054                     62                20827   \n",
      "2                         3.965                     87                27119   \n",
      "3                         8.103                     48                28507   \n",
      "4                         0.190                    172                99603   \n",
      "...                         ...                    ...                  ...   \n",
      "1038                      0.194                    265              1200100   \n",
      "1039                      0.764                     21                 5505   \n",
      "1040                      0.175                     33                10734   \n",
      "1041                      0.120                    354              2728803   \n",
      "1042                      0.103                    272              1210416   \n",
      "\n",
      "      src2dst_first_seen_ms  src2dst_duration_ms  src2dst_packets  \\\n",
      "0             1735142528825                0.253               21   \n",
      "1             1735142529129                4.054               33   \n",
      "2             1735142515718                3.965               46   \n",
      "3             1735142533580                8.103               26   \n",
      "4             1735142545075                0.190               91   \n",
      "...                     ...                  ...              ...   \n",
      "1038          1735142981114                0.194              146   \n",
      "1039          1735142981128                0.764               13   \n",
      "1040          1735142981132                0.175               18   \n",
      "1041          1735142985694                0.120              179   \n",
      "1042          1735142985711                0.103              151   \n",
      "\n",
      "      src2dst_bytes  dst2src_duration_ms  dst2src_packets  dst2src_bytes  ...  \\\n",
      "0              4285                0.253               19          10015  ...   \n",
      "1              7013                4.054               29          13814  ...   \n",
      "2              8701                3.965               41          18418  ...   \n",
      "3              5056                8.103               22          23451  ...   \n",
      "4             27040                0.190               81          72563  ...   \n",
      "...             ...                  ...              ...            ...  ...   \n",
      "1038          21162                0.194              119        1178938  ...   \n",
      "1039           1631                0.764                8           3874  ...   \n",
      "1040           4483                0.174               15           6251  ...   \n",
      "1041          12787                0.120              175        2716016  ...   \n",
      "1042          15528                0.103              121        1194888  ...   \n",
      "\n",
      "      byte_246  byte_247  byte_248  byte_249  byte_250  byte_251  byte_252  \\\n",
      "0     0.003574  0.003193  0.004106  0.003726  0.004410  0.003574  0.002509   \n",
      "1     0.003270  0.003581  0.003477  0.002439  0.003218  0.004412  0.003737   \n",
      "2     0.003391  0.002952  0.002633  0.003511  0.002793  0.003471  0.002912   \n",
      "3     0.004237  0.003647  0.003389  0.003979  0.004274  0.003132  0.002579   \n",
      "4     0.003594  0.003541  0.003531  0.003677  0.003479  0.003677  0.003698   \n",
      "...        ...       ...       ...       ...       ...       ...       ...   \n",
      "1038  0.003803  0.003865  0.003814  0.003906  0.003848  0.003803  0.003933   \n",
      "1039  0.003677  0.005191  0.003028  0.003461  0.007571  0.003245  0.003461   \n",
      "1040  0.002192  0.003236  0.005741  0.003236  0.002505  0.003132  0.003340   \n",
      "1041  0.003886  0.003842  0.003910  0.003871  0.003918  0.003844  0.003916   \n",
      "1042  0.003883  0.003878  0.003919  0.003992  0.003943  0.003959  0.003859   \n",
      "\n",
      "      byte_253  byte_254  byte_255  \n",
      "0     0.004258  0.002965  0.003269  \n",
      "1     0.004100  0.002803  0.003996  \n",
      "2     0.003591  0.003112  0.003232  \n",
      "3     0.003463  0.005158  0.003463  \n",
      "4     0.003510  0.003604  0.003562  \n",
      "...        ...       ...       ...  \n",
      "1038  0.003840  0.003877  0.003747  \n",
      "1039  0.003028  0.003245  0.003461  \n",
      "1040  0.002714  0.003132  0.004489  \n",
      "1041  0.003953  0.003933  0.003880  \n",
      "1042  0.003933  0.003917  0.003862  \n",
      "\n",
      "[1043 rows x 314 columns]\n",
      "Total samples train: 6509\n",
      "Total samples val_positive: 1043\n",
      "Total samples val_negative: 197\n",
      "Flow input dim: 313\n"
     ]
    },
    {
     "name": "stderr",
     "output_type": "stream",
     "text": [
      "/usr/local/lib/python3.10/dist-packages/sklearn/pipeline.py:62: FutureWarning: This Pipeline instance is not fitted yet. Call 'fit' with appropriate arguments before using other methods such as transform, predict, etc. This will raise an error in 1.8 instead of the current warning.\n",
      "  warnings.warn(\n"
     ]
    }
   ],
   "source": [
    "columns = [\n",
    "       'bidirectional_duration_ms', 'bidirectional_packets',\n",
    "       'bidirectional_bytes', 'src2dst_first_seen_ms',\n",
    "       'src2dst_duration_ms', 'src2dst_packets', 'src2dst_bytes',\n",
    "        'dst2src_duration_ms',\n",
    "       'dst2src_packets', 'dst2src_bytes', 'bidirectional_min_ps',\n",
    "       'bidirectional_mean_ps', 'bidirectional_stddev_ps',\n",
    "       'bidirectional_max_ps', 'src2dst_min_ps', 'src2dst_mean_ps',\n",
    "       'src2dst_stddev_ps', 'src2dst_max_ps', 'dst2src_min_ps',\n",
    "       'dst2src_mean_ps', 'dst2src_stddev_ps', 'dst2src_max_ps',\n",
    "       'bidirectional_min_piat_ms', 'bidirectional_mean_piat_ms',\n",
    "       'bidirectional_stddev_piat_ms', 'bidirectional_max_piat_ms',\n",
    "       'src2dst_min_piat_ms', 'src2dst_mean_piat_ms', 'src2dst_stddev_piat_ms',\n",
    "       'src2dst_max_piat_ms', 'dst2src_min_piat_ms', 'dst2src_mean_piat_ms',\n",
    "       'dst2src_stddev_piat_ms', 'dst2src_max_piat_ms',\n",
    "       'bidirectional_syn_packets', 'bidirectional_cwr_packets',\n",
    "       'bidirectional_ece_packets', 'bidirectional_urg_packets',\n",
    "       'bidirectional_ack_packets', 'bidirectional_psh_packets',\n",
    "       'bidirectional_rst_packets', 'bidirectional_fin_packets',\n",
    "       'src2dst_syn_packets', 'src2dst_cwr_packets', 'src2dst_ece_packets',\n",
    "       'src2dst_urg_packets', 'src2dst_ack_packets', 'src2dst_psh_packets',\n",
    "       'src2dst_rst_packets', 'src2dst_fin_packets', 'dst2src_syn_packets',\n",
    "       'dst2src_cwr_packets', 'dst2src_ece_packets', 'dst2src_urg_packets',\n",
    "       'dst2src_ack_packets', 'dst2src_psh_packets', 'dst2src_rst_packets',\n",
    "       'dst2src_fin_packets']\n",
    "ct = ColumnTransformer([\n",
    "    ('scaler', MinMaxScaler(), columns)\n",
    "], remainder='passthrough')\n",
    "\n",
    "pipeline = Pipeline(steps= [\n",
    "        ('dropper', DropExcessCols(to_drop)),\n",
    "        ('mstosec', MsToSeconds(ms_columns)),\n",
    "        # ('tstolog', TimestampsToLog(timestamps_columns)),\n",
    "        \n",
    "        ('distro', AppendPayloadDistro()),\n",
    "        # ('scaler', ct),\n",
    "    ])\n",
    "flow_df = FlowDataset(preprocess(path + filename, pipeline, True))\n",
    "# flow_df\n",
    "flow_val_df_negative = FlowDataset(preprocess(path + val_filename_negative, pipeline))\n",
    "flow_val_df_positive = FlowDataset(preprocess(path + val_filename_positive, pipeline))\n",
    "\n",
    "flow_input_dim = flow_df[0].shape[1]\n",
    "\n",
    "\n",
    "print(f'Total samples train: {len(flow_df)}')\n",
    "print(f'Total samples val_positive: {len(flow_val_df_positive)}')\n",
    "print(f'Total samples val_negative: {len(flow_val_df_negative)}')\n",
    "print(f'Flow input dim: {flow_input_dim}')\n"
   ]
  },
  {
   "cell_type": "code",
   "execution_count": 82,
   "id": "7fb4d0f5-1ac9-4fd9-95ea-9f5728ef413f",
   "metadata": {},
   "outputs": [],
   "source": [
    "# for d in flow_df.data:\n",
    "#     print(d.shape)"
   ]
  },
  {
   "cell_type": "code",
   "execution_count": 58,
   "id": "d446b532-3e4d-470a-8e7b-5087ddac8932",
   "metadata": {},
   "outputs": [
    {
     "data": {
      "text/plain": [
       "['ae_pipeline.gz']"
      ]
     },
     "execution_count": 58,
     "metadata": {},
     "output_type": "execute_result"
    }
   ],
   "source": [
    "joblib.dump(pipeline, 'ae_pipeline.gz')"
   ]
  },
  {
   "cell_type": "markdown",
   "id": "923ef4fe-3662-426d-beaf-a10acda7d30c",
   "metadata": {},
   "source": [
    "## Mean and std calculation"
   ]
  },
  {
   "cell_type": "code",
   "execution_count": 80,
   "id": "13bdda6b-7026-4846-bf44-a6d77f5bd52b",
   "metadata": {},
   "outputs": [
    {
     "data": {
      "text/plain": [
       "<torch.utils.data.dataloader.DataLoader at 0x7fb980f94610>"
      ]
     },
     "execution_count": 80,
     "metadata": {},
     "output_type": "execute_result"
    }
   ],
   "source": [
    "flow_loader"
   ]
  },
  {
   "cell_type": "code",
   "execution_count": 83,
   "id": "e0803f8a-78c7-4488-9019-8f52e880a235",
   "metadata": {},
   "outputs": [
    {
     "ename": "ValueError",
     "evalue": "not enough values to unpack (expected 2, got 1)",
     "output_type": "error",
     "traceback": [
      "\u001b[0;31m---------------------------------------------------------------------------\u001b[0m",
      "\u001b[0;31mValueError\u001b[0m                                Traceback (most recent call last)",
      "Cell \u001b[0;32mIn[83], line 18\u001b[0m\n\u001b[1;32m     15\u001b[0m     std \u001b[38;5;241m=\u001b[39m torch\u001b[38;5;241m.\u001b[39msqrt(sse\u001b[38;5;241m/\u001b[39mtotal_length)\n\u001b[1;32m     16\u001b[0m     \u001b[38;5;28;01mreturn\u001b[39;00m mean, std\n\u001b[0;32m---> 18\u001b[0m flow_mean, flow_std \u001b[38;5;241m=\u001b[39m \u001b[43mget_mean_std\u001b[49m\u001b[43m(\u001b[49m\u001b[43mflow_loader\u001b[49m\u001b[43m,\u001b[49m\u001b[43m \u001b[49m\u001b[43mflow_input_dim\u001b[49m\u001b[43m,\u001b[49m\u001b[43m \u001b[49m\u001b[43mflow_df\u001b[49m\u001b[43m)\u001b[49m\n\u001b[1;32m     19\u001b[0m \u001b[38;5;66;03m# packet_mean, packet_std = get_mean_std(packet_loader, packet_input_dim, packet_df)\u001b[39;00m\n\u001b[1;32m     20\u001b[0m \u001b[38;5;28mprint\u001b[39m(\u001b[38;5;124mf\u001b[39m\u001b[38;5;124m'\u001b[39m\u001b[38;5;124mFlow mean: \u001b[39m\u001b[38;5;132;01m{\u001b[39;00mflow_mean\u001b[38;5;132;01m}\u001b[39;00m\u001b[38;5;124m, std: \u001b[39m\u001b[38;5;132;01m{\u001b[39;00mflow_std\u001b[38;5;132;01m}\u001b[39;00m\u001b[38;5;124m'\u001b[39m)\n",
      "Cell \u001b[0;32mIn[83], line 9\u001b[0m, in \u001b[0;36mget_mean_std\u001b[0;34m(loader, n_features, df)\u001b[0m\n\u001b[1;32m      7\u001b[0m total_length \u001b[38;5;241m=\u001b[39m num_samples \u001b[38;5;241m*\u001b[39m n_features\n\u001b[1;32m      8\u001b[0m total_sum \u001b[38;5;241m=\u001b[39m \u001b[38;5;241m0\u001b[39m\n\u001b[0;32m----> 9\u001b[0m \u001b[38;5;28;01mfor\u001b[39;00m batch \u001b[38;5;129;01min\u001b[39;00m loader: \n\u001b[1;32m     10\u001b[0m     total_sum \u001b[38;5;241m+\u001b[39m\u001b[38;5;241m=\u001b[39m batch\u001b[38;5;241m.\u001b[39msum()\n\u001b[1;32m     11\u001b[0m mean \u001b[38;5;241m=\u001b[39m total_sum\u001b[38;5;241m/\u001b[39mtotal_length\n",
      "File \u001b[0;32m/usr/local/lib/python3.10/dist-packages/torch/utils/data/dataloader.py:631\u001b[0m, in \u001b[0;36m_BaseDataLoaderIter.__next__\u001b[0;34m(self)\u001b[0m\n\u001b[1;32m    628\u001b[0m \u001b[38;5;28;01mif\u001b[39;00m \u001b[38;5;28mself\u001b[39m\u001b[38;5;241m.\u001b[39m_sampler_iter \u001b[38;5;129;01mis\u001b[39;00m \u001b[38;5;28;01mNone\u001b[39;00m:\n\u001b[1;32m    629\u001b[0m     \u001b[38;5;66;03m# TODO(https://github.com/pytorch/pytorch/issues/76750)\u001b[39;00m\n\u001b[1;32m    630\u001b[0m     \u001b[38;5;28mself\u001b[39m\u001b[38;5;241m.\u001b[39m_reset()  \u001b[38;5;66;03m# type: ignore[call-arg]\u001b[39;00m\n\u001b[0;32m--> 631\u001b[0m data \u001b[38;5;241m=\u001b[39m \u001b[38;5;28;43mself\u001b[39;49m\u001b[38;5;241;43m.\u001b[39;49m\u001b[43m_next_data\u001b[49m\u001b[43m(\u001b[49m\u001b[43m)\u001b[49m\n\u001b[1;32m    632\u001b[0m \u001b[38;5;28mself\u001b[39m\u001b[38;5;241m.\u001b[39m_num_yielded \u001b[38;5;241m+\u001b[39m\u001b[38;5;241m=\u001b[39m \u001b[38;5;241m1\u001b[39m\n\u001b[1;32m    633\u001b[0m \u001b[38;5;28;01mif\u001b[39;00m \u001b[38;5;28mself\u001b[39m\u001b[38;5;241m.\u001b[39m_dataset_kind \u001b[38;5;241m==\u001b[39m _DatasetKind\u001b[38;5;241m.\u001b[39mIterable \u001b[38;5;129;01mand\u001b[39;00m \\\n\u001b[1;32m    634\u001b[0m         \u001b[38;5;28mself\u001b[39m\u001b[38;5;241m.\u001b[39m_IterableDataset_len_called \u001b[38;5;129;01mis\u001b[39;00m \u001b[38;5;129;01mnot\u001b[39;00m \u001b[38;5;28;01mNone\u001b[39;00m \u001b[38;5;129;01mand\u001b[39;00m \\\n\u001b[1;32m    635\u001b[0m         \u001b[38;5;28mself\u001b[39m\u001b[38;5;241m.\u001b[39m_num_yielded \u001b[38;5;241m>\u001b[39m \u001b[38;5;28mself\u001b[39m\u001b[38;5;241m.\u001b[39m_IterableDataset_len_called:\n",
      "File \u001b[0;32m/usr/local/lib/python3.10/dist-packages/torch/utils/data/dataloader.py:675\u001b[0m, in \u001b[0;36m_SingleProcessDataLoaderIter._next_data\u001b[0;34m(self)\u001b[0m\n\u001b[1;32m    673\u001b[0m \u001b[38;5;28;01mdef\u001b[39;00m \u001b[38;5;21m_next_data\u001b[39m(\u001b[38;5;28mself\u001b[39m):\n\u001b[1;32m    674\u001b[0m     index \u001b[38;5;241m=\u001b[39m \u001b[38;5;28mself\u001b[39m\u001b[38;5;241m.\u001b[39m_next_index()  \u001b[38;5;66;03m# may raise StopIteration\u001b[39;00m\n\u001b[0;32m--> 675\u001b[0m     data \u001b[38;5;241m=\u001b[39m \u001b[38;5;28;43mself\u001b[39;49m\u001b[38;5;241;43m.\u001b[39;49m\u001b[43m_dataset_fetcher\u001b[49m\u001b[38;5;241;43m.\u001b[39;49m\u001b[43mfetch\u001b[49m\u001b[43m(\u001b[49m\u001b[43mindex\u001b[49m\u001b[43m)\u001b[49m  \u001b[38;5;66;03m# may raise StopIteration\u001b[39;00m\n\u001b[1;32m    676\u001b[0m     \u001b[38;5;28;01mif\u001b[39;00m \u001b[38;5;28mself\u001b[39m\u001b[38;5;241m.\u001b[39m_pin_memory:\n\u001b[1;32m    677\u001b[0m         data \u001b[38;5;241m=\u001b[39m _utils\u001b[38;5;241m.\u001b[39mpin_memory\u001b[38;5;241m.\u001b[39mpin_memory(data, \u001b[38;5;28mself\u001b[39m\u001b[38;5;241m.\u001b[39m_pin_memory_device)\n",
      "File \u001b[0;32m/usr/local/lib/python3.10/dist-packages/torch/utils/data/_utils/fetch.py:54\u001b[0m, in \u001b[0;36m_MapDatasetFetcher.fetch\u001b[0;34m(self, possibly_batched_index)\u001b[0m\n\u001b[1;32m     52\u001b[0m \u001b[38;5;28;01melse\u001b[39;00m:\n\u001b[1;32m     53\u001b[0m     data \u001b[38;5;241m=\u001b[39m \u001b[38;5;28mself\u001b[39m\u001b[38;5;241m.\u001b[39mdataset[possibly_batched_index]\n\u001b[0;32m---> 54\u001b[0m \u001b[38;5;28;01mreturn\u001b[39;00m \u001b[38;5;28;43mself\u001b[39;49m\u001b[38;5;241;43m.\u001b[39;49m\u001b[43mcollate_fn\u001b[49m\u001b[43m(\u001b[49m\u001b[43mdata\u001b[49m\u001b[43m)\u001b[49m\n",
      "Cell \u001b[0;32mIn[81], line 5\u001b[0m, in \u001b[0;36mcollate_fn\u001b[0;34m(batch)\u001b[0m\n\u001b[1;32m      3\u001b[0m \u001b[38;5;28;01mdef\u001b[39;00m \u001b[38;5;21mcollate_fn\u001b[39m(batch):\n\u001b[1;32m      4\u001b[0m     \u001b[38;5;66;03m# Separate sequences and targets\u001b[39;00m\n\u001b[0;32m----> 5\u001b[0m     sequences, targets \u001b[38;5;241m=\u001b[39m \u001b[38;5;28mzip\u001b[39m(\u001b[38;5;241m*\u001b[39mbatch)\n\u001b[1;32m      7\u001b[0m     \u001b[38;5;66;03m# Convert sequences to tensors and pad them to the same length\u001b[39;00m\n\u001b[1;32m      8\u001b[0m     sequences \u001b[38;5;241m=\u001b[39m [torch\u001b[38;5;241m.\u001b[39mtensor(seq, dtype\u001b[38;5;241m=\u001b[39mtorch\u001b[38;5;241m.\u001b[39mfloat32) \u001b[38;5;28;01mfor\u001b[39;00m seq \u001b[38;5;129;01min\u001b[39;00m sequences]\n",
      "\u001b[0;31mValueError\u001b[0m: not enough values to unpack (expected 2, got 1)"
     ]
    }
   ],
   "source": [
    "flow_loader = DataLoader(flow_df, batch_size=1000, collate_fn=collate_fn)\n",
    "# packet_loader = DataLoader(packet_df, batch_size=1000)\n",
    "def get_mean_std(loader, n_features, df):\n",
    "    num_samples = 0\n",
    "    for d in df:\n",
    "        num_samples += d.shape[0]\n",
    "    total_length = num_samples * n_features\n",
    "    total_sum = 0\n",
    "    for batch in loader: \n",
    "        total_sum += batch.sum()\n",
    "    mean = total_sum/total_length\n",
    "    sse = 0 # sum of squared error\n",
    "    for batch in loader:\n",
    "        sse += ((batch - mean).pow(2)).sum()\n",
    "    std = torch.sqrt(sse/total_length)\n",
    "    return mean, std\n",
    "\n",
    "flow_mean, flow_std = get_mean_std(flow_loader, flow_input_dim, flow_df)\n",
    "# packet_mean, packet_std = get_mean_std(packet_loader, packet_input_dim, packet_df)\n",
    "print(f'Flow mean: {flow_mean}, std: {flow_std}')\n",
    "# print(f'Packet mean: {packet_mean}, std: {packet_std}')\n",
    "flow_tr = torchvision.transforms.Compose([\n",
    "    torchvision.transforms.Normalize(flow_mean, flow_std)\n",
    "])\n",
    "flow_df.transform = flow_tr\n",
    "flow_val_df_positive.transform = flow_tr\n",
    "flow_val_df_negative.transform = flow_tr\n"
   ]
  },
  {
   "cell_type": "code",
   "execution_count": 10,
   "id": "24f331b3-fede-43d1-8b58-e065e85c5455",
   "metadata": {},
   "outputs": [],
   "source": [
    "class FlowNormalizer:\n",
    "    def __init__(self, mean, std):\n",
    "        self.mean = mean\n",
    "        self.std = std\n",
    "        self.normalizer = torchvision.transforms.Normalize(mean=self.mean, std=self.std)\n",
    "\n",
    "    def normalize(self, tensor_input):\n",
    "        return self.normalizer(tensor_input)\n",
    "    \n",
    "    def get_mean_std(self):\n",
    "        return self.mean, self.std\n",
    "\n"
   ]
  },
  {
   "cell_type": "code",
   "execution_count": null,
   "id": "db9697a3-d330-49cd-a419-da82811ed563",
   "metadata": {},
   "outputs": [],
   "source": [
    "normalizer = FlowNormalizer(flow_mean, flow_std)\n",
    "torch.save(normalizer, 'ae_normalizer.pth')"
   ]
  },
  {
   "cell_type": "markdown",
   "id": "7d648db4-3176-471a-8d56-ae1f49a86e1d",
   "metadata": {},
   "source": [
    "## Check validation set mean and std\n",
    "As we apply the same normalization to train and real data, let's check how far from normal (mean = 0 and std = 1) are validation values"
   ]
  },
  {
   "cell_type": "code",
   "execution_count": 28,
   "id": "1a75f863-af1d-4189-ba19-79a623f79459",
   "metadata": {},
   "outputs": [
    {
     "data": {
      "text/plain": [
       "(tensor(-0.0075, dtype=torch.float64), tensor(0.9627, dtype=torch.float64))"
      ]
     },
     "execution_count": 28,
     "metadata": {},
     "output_type": "execute_result"
    }
   ],
   "source": [
    "loader = DataLoader(flow_val_df_positive, batch_size = len(flow_df))\n",
    "data = next(iter(loader))\n",
    "for d in data.permute(1, 0, 2)[0]:\n",
    "    # print(d[11])\n",
    "    if d.sum() == -np.inf:\n",
    "        print(d)\n",
    "data.permute(1, 0, 2)[0].mean(), data.permute(1, 0, 2)[0].std()"
   ]
  },
  {
   "cell_type": "markdown",
   "id": "05522e66-b7ff-4b7c-9ef5-f8528730f979",
   "metadata": {},
   "source": [
    "## Define loaders"
   ]
  },
  {
   "cell_type": "code",
   "execution_count": 29,
   "id": "2a1137a7-e400-4db0-9491-d8b4b3dd77c0",
   "metadata": {},
   "outputs": [
    {
     "name": "stdout",
     "output_type": "stream",
     "text": [
      "Total batches train: 272\n",
      "Total batches val positive: 44\n",
      "Total batches val negative: 9\n",
      "Flow train loader batch shape: torch.Size([24, 1, 313])\n"
     ]
    }
   ],
   "source": [
    "flow_train_loader = DataLoader(flow_df, batch_size=batch_size)\n",
    "flow_val_loader_positive = DataLoader(flow_val_df_positive, batch_size=batch_size)\n",
    "flow_val_loader_negative = DataLoader(flow_val_df_negative, batch_size=batch_size)\n",
    "\n",
    "print(f'Total batches train: {len(flow_train_loader)}')\n",
    "print(f'Total batches val positive: {len(flow_val_loader_positive)}')\n",
    "print(f'Total batches val negative: {len(flow_val_loader_negative)}')\n",
    "print(f'Flow train loader batch shape: {next(iter(flow_train_loader)).shape}')\n",
    "# print(f'Packet train loader batch shape: {next(iter(packet_train_loader)).shape}')"
   ]
  },
  {
   "cell_type": "markdown",
   "id": "0a0eecba-f49e-4691-a934-8af7d45801c2",
   "metadata": {},
   "source": [
    "## LSTM based autoencoder\n",
    "The Autoencoder has 2 LSTM layers and 2 Linear layers dividing them"
   ]
  },
  {
   "cell_type": "code",
   "execution_count": 12,
   "id": "bcb9b683-eac5-48cc-96bd-45abd016a4ac",
   "metadata": {},
   "outputs": [],
   "source": [
    "class Encoder(nn.Module):\n",
    "    def __init__(self, num_layers, hidden_size, nb_feature, dropout = 0, device = 'cpu'):\n",
    "        super(Encoder, self).__init__()\n",
    "        self.device = device\n",
    "        self.input_size = nb_feature\n",
    "        self.hidden_size = hidden_size\n",
    "        self.num_layers = num_layers\n",
    "        # print(\"Encoder device: \" + str(device))\n",
    "        self.lstm = nn.LSTM(input_size = nb_feature, hidden_size = hidden_size, num_layers = num_layers, batch_first = True, dropout = dropout, bias = True).to(device)\n",
    "\n",
    "    def initHidden(self, batch_size):\n",
    "        self.hidden_cell = (\n",
    "            torch.randn((self.num_layers, batch_size, self.hidden_size), dtype=torch.float).to(self.device),\n",
    "            torch.randn((self.num_layers, batch_size, self.hidden_size), dtype=torch.float).to(self.device)\n",
    "        )\n",
    "    def forward(self, input_seq):\n",
    "        self.initHidden(input_seq.shape[0])\n",
    "        _, self.hidden_cell = self.lstm(input_seq, self.hidden_cell)\n",
    "        return self.hidden_cell\n",
    "        \n",
    "class Decoder(nn.Module):\n",
    "    def __init__(self, num_layers, hidden_size, nb_feature, dropout=0, device=torch.device('cpu')):\n",
    "        super(Decoder, self).__init__()\n",
    "\n",
    "        self.input_size = nb_feature\n",
    "        self.hidden_size = hidden_size\n",
    "        self.num_layers = num_layers\n",
    "        self.device = device\n",
    "        # print(\"Decoder device: \" + str(device))\n",
    "        self.lstm = nn.LSTM(input_size=nb_feature, hidden_size=hidden_size,\n",
    "                            num_layers=num_layers, batch_first=True, dropout=dropout, bias=True).to(device)\n",
    "        self.linear = nn.Linear(in_features=hidden_size, out_features=nb_feature).to(device)\n",
    "\n",
    "    def forward(self, input_seq, hidden_cell):\n",
    "        output, hidden_cell = self.lstm(input_seq, hidden_cell)\n",
    "        output = self.linear(output)\n",
    "        return output, hidden_cell\n",
    "        \n",
    "class LSTMAutoEncoder(nn.Module):\n",
    "    def __init__(self, num_layers, hidden_size, nb_feature, dropout=0, device=torch.device('cpu')):\n",
    "        super(LSTMAutoEncoder, self).__init__()\n",
    "        self.device = device\n",
    "        self.encoder = Encoder(num_layers, hidden_size, nb_feature, dropout, device).to(device)\n",
    "        self.decoder = Decoder(num_layers, hidden_size, nb_feature, dropout, device).to(device)\n",
    "        # print(\"Main device: \" + str(device))\n",
    "\n",
    "    def forward(self, input_seq):\n",
    "        output = torch.zeros(size=input_seq.shape, dtype=torch.float).to(self.device)\n",
    "        hidden_cell = self.encoder(input_seq)\n",
    "        input_decoder = input_seq[:, -1, :].view(input_seq.shape[0], 1, input_seq.shape[2])\n",
    "        for i in range(input_seq.shape[1] - 1, -1, -1):\n",
    "            output_decoder, hidden_cell = self.decoder(input_decoder, hidden_cell)\n",
    "            input_decoder = output_decoder\n",
    "            output[:, i, :] = output_decoder[:, 0, :]\n",
    "        return output"
   ]
  },
  {
   "cell_type": "markdown",
   "id": "bdb6ba30-9425-47f1-a42e-43b601033f08",
   "metadata": {},
   "source": [
    "## Custom R2 function"
   ]
  },
  {
   "cell_type": "code",
   "execution_count": 40,
   "id": "c2c737dd-c644-4646-a7cf-fa2f07e38b98",
   "metadata": {},
   "outputs": [],
   "source": [
    "def r2_score(y_true, y_pred):\n",
    "    assert y_true.shape == y_pred.shape, \"y_true and y_pred must have the same shape\"\n",
    "\n",
    "    y_mean = torch.mean(y_true)\n",
    "\n",
    "    ss_res = torch.sum((y_true - y_pred) ** 2)\n",
    "    ss_tot = torch.sum((y_true - y_mean) ** 2)\n",
    "    \n",
    "    # Calculate R^2\n",
    "    r2 = 1 - ss_res / (ss_tot + 1e-8)  # Add epsilon to avoid division by zero\n",
    "    \n",
    "    return r2.item()  # Return as a Python float\n"
   ]
  },
  {
   "cell_type": "markdown",
   "id": "3759236e-1d83-48b1-8b60-2ebed1bc5433",
   "metadata": {},
   "source": [
    "## Training loop\n",
    "- Loss should go down\n",
    "- R2 should go up\n",
    "- validation_loss_positive should go down (model performance on \"unseen\" encrypted flows)\n",
    "- validation_loss_negative should stay high as we validate on unencrypted payload"
   ]
  },
  {
   "cell_type": "code",
   "execution_count": 37,
   "id": "b762a88f-9d14-47ff-a11f-4a48c5eece89",
   "metadata": {},
   "outputs": [],
   "source": [
    "epochs = 50\n",
    "learning_rate = 1e-4\n",
    "\n",
    "# criterion = nn.SmoothL1Loss(reduction='sum').to(device)\n",
    "criterion = nn.MSELoss().to(device)\n",
    "# metric = R2Score().to(device)\n",
    "\n",
    "def train_one_epoch(model, loader, optimizer, val = False):\n",
    "    running_loss = 0.\n",
    "    r2 = []\n",
    "    for i, batch in enumerate(loader):\n",
    "        inputs = batch.float().permute(1, 0, 2).to(device)\n",
    "        if not val: \n",
    "            optimizer.zero_grad() \n",
    "        outputs = model(inputs)\n",
    "        loss = criterion(outputs, inputs)\n",
    "        if not val:\n",
    "            loss.backward() \n",
    "            optimizer.step()\n",
    "        running_loss += loss.item()\n",
    "        \n",
    "        r2.append(r2_score(inputs, outputs))\n",
    "    running_loss = running_loss / len(loader)\n",
    "    r2 = np.array(r2)\n",
    "    return running_loss, np.mean(r2)\n",
    "\n",
    "def training_loop(model, train_loader, val_loader_positive, val_loader_negative, history, epochs = 50):\n",
    "    optimizer = torch.optim.Adam(model.parameters(), lr=learning_rate)\n",
    "    print('Epoch | train_loss | val_loss_positive | val_loss_negative | R2 train | R2 val')\n",
    "    for epoch in range(epochs):\n",
    "        model.train()\n",
    "        training_loss, r2_train = train_one_epoch(model, train_loader, optimizer)\n",
    "        model.eval() \n",
    "        val_loss = []\n",
    "        with torch.no_grad(): \n",
    "            val_loss_negative, _ = train_one_epoch(model, val_loader_negative, optimizer, val = True)\n",
    "            val_loss_positive, r2_val = train_one_epoch(model, val_loader_positive, optimizer, val = True)\n",
    "        history.append({'loss': training_loss, 'r2_train': r2_train, 'r2_val': r2_val, 'val_loss_negavtive': val_loss_negative, 'val_loss_positive': val_loss_positive})\n",
    "        print(f'{epoch + 1} | {training_loss} | {val_loss_positive} | {val_loss_negative} | {r2_train} | {r2_val}')\n",
    "    return history"
   ]
  },
  {
   "cell_type": "markdown",
   "id": "404a2563-8245-47be-a233-1db0ab00f712",
   "metadata": {},
   "source": [
    "## Train autoencoder"
   ]
  },
  {
   "cell_type": "code",
   "execution_count": 83,
   "id": "ea993e39-4205-4e37-8094-c766a1b92efe",
   "metadata": {},
   "outputs": [],
   "source": [
    "flow_ae = LSTMAutoEncoder(num_layers = 1, hidden_size = 40, nb_feature = flow_input_dim, device = device).to(device)"
   ]
  },
  {
   "cell_type": "code",
   "execution_count": 85,
   "id": "15ee4471-c1c9-46d2-a7da-85bc32d31e13",
   "metadata": {},
   "outputs": [
    {
     "name": "stdout",
     "output_type": "stream",
     "text": [
      "Training Flow AE:\n",
      "Epoch | train_loss | val_loss_positive | val_loss_negative | R2 train | R2 val\n",
      "1 | 0.7762559274321094 | 0.48766943405974994 | 2.395216918653912 | 0.21267342655097737 | 0.4735474911603061\n",
      "2 | 0.45596017425551133 | 0.33763155476613477 | 2.1266500453154245 | 0.5415682089241112 | 0.6323569281534716\n",
      "3 | 0.3530484774862142 | 0.27020581608468835 | 2.009632867243555 | 0.6441087341483902 | 0.7029141201214357\n",
      "4 | 0.3001413056079079 | 0.23103908788074146 | 1.9350485536787245 | 0.6960749179124832 | 0.7437484210187738\n",
      "5 | 0.268238477573237 | 0.20641762323000215 | 1.9086110873354807 | 0.7274191009209436 | 0.769433781504631\n",
      "6 | 0.24735735827947364 | 0.19042339311404663 | 1.8845546063449647 | 0.748203381896019 | 0.786133661866188\n",
      "7 | 0.23260011737618377 | 0.17842457629740238 | 1.8720063583718405 | 0.763152539730072 | 0.79935084418817\n",
      "8 | 0.2219865391140475 | 0.1688224102624438 | 1.8643665214379628 | 0.7741343769080499 | 0.8106398392807354\n",
      "9 | 0.21397490665207014 | 0.16093676113946873 | 1.8462224619256125 | 0.7826786159592516 | 0.8204754171046343\n",
      "10 | 0.20788868656381965 | 0.15437911298464646 | 1.8369892140229542 | 0.7895163422559991 | 0.8290981894189661\n",
      "11 | 0.202671836650766 | 0.14944082481617277 | 1.824881566895379 | 0.7955222427845001 | 0.8358268954537131\n",
      "12 | 0.1992548542261562 | 0.1464214658533985 | 1.8263787296083238 | 0.799668554435758 | 0.839996721256863\n",
      "13 | 0.19718135863213854 | 0.1448160552165725 | 1.8247708827257156 | 0.8022630346171996 | 0.8422705368562178\n",
      "14 | 0.1956882054424461 | 0.14313685741614213 | 1.825683409969012 | 0.8042147674543016 | 0.844677207144824\n",
      "15 | 0.19430729870081825 | 0.1421714054251259 | 1.8142697455154524 | 0.8059557433075765 | 0.8460429988124154\n",
      "16 | 0.1936533878393033 | 0.14145249500870705 | 1.8186611491772864 | 0.8068315871059895 | 0.847079495137388\n",
      "17 | 0.1931917402509819 | 0.1409793956713243 | 1.8211310274071164 | 0.8074818829841474 | 0.847756026820703\n",
      "18 | 0.19227212730466442 | 0.14075560512190516 | 1.8396375245518155 | 0.8086001042495755 | 0.8480513515797529\n",
      "19 | 0.19161547301337123 | 0.14067987742071802 | 1.8246613459454641 | 0.8093802681302323 | 0.8481341668150641\n",
      "20 | 0.19134742410524802 | 0.1404610172930089 | 1.829053891201814 | 0.8097250614972675 | 0.848496912555261\n",
      "21 | 0.19071401003748178 | 0.1409710467877713 | 1.8241049928797617 | 0.8104893199222929 | 0.8477938825433905\n"
     ]
    },
    {
     "ename": "KeyboardInterrupt",
     "evalue": "",
     "output_type": "error",
     "traceback": [
      "\u001b[0;31m---------------------------------------------------------------------------\u001b[0m",
      "\u001b[0;31mKeyboardInterrupt\u001b[0m                         Traceback (most recent call last)",
      "Cell \u001b[0;32mIn[85], line 7\u001b[0m\n\u001b[1;32m      5\u001b[0m     flow_history \u001b[38;5;241m=\u001b[39m []\n\u001b[1;32m      6\u001b[0m \u001b[38;5;66;03m# flow_history = np.open('history')\u001b[39;00m\n\u001b[0;32m----> 7\u001b[0m \u001b[43mtraining_loop\u001b[49m\u001b[43m(\u001b[49m\u001b[43mflow_ae\u001b[49m\u001b[43m,\u001b[49m\n\u001b[1;32m      8\u001b[0m \u001b[43m              \u001b[49m\u001b[43mtrain_loader\u001b[49m\u001b[43m \u001b[49m\u001b[38;5;241;43m=\u001b[39;49m\u001b[43m \u001b[49m\u001b[43mflow_train_loader\u001b[49m\u001b[43m,\u001b[49m\u001b[43m \u001b[49m\n\u001b[1;32m      9\u001b[0m \u001b[43m              \u001b[49m\u001b[43mval_loader_positive\u001b[49m\u001b[43m \u001b[49m\u001b[38;5;241;43m=\u001b[39;49m\u001b[43m \u001b[49m\u001b[43mflow_val_loader_positive\u001b[49m\u001b[43m,\u001b[49m\n\u001b[1;32m     10\u001b[0m \u001b[43m              \u001b[49m\u001b[43mval_loader_negative\u001b[49m\u001b[43m \u001b[49m\u001b[38;5;241;43m=\u001b[39;49m\u001b[43m \u001b[49m\u001b[43mflow_val_loader_negative\u001b[49m\u001b[43m,\u001b[49m\n\u001b[1;32m     11\u001b[0m \u001b[43m              \u001b[49m\u001b[43mhistory\u001b[49m\u001b[43m \u001b[49m\u001b[38;5;241;43m=\u001b[39;49m\u001b[43m \u001b[49m\u001b[43mflow_history\u001b[49m\u001b[43m,\u001b[49m\u001b[43m \u001b[49m\n\u001b[1;32m     12\u001b[0m \u001b[43m              \u001b[49m\u001b[43mepochs\u001b[49m\u001b[43m \u001b[49m\u001b[38;5;241;43m=\u001b[39;49m\u001b[43m \u001b[49m\u001b[38;5;241;43m90\u001b[39;49m\n\u001b[1;32m     13\u001b[0m \u001b[43m             \u001b[49m\u001b[43m)\u001b[49m\n",
      "Cell \u001b[0;32mIn[37], line 32\u001b[0m, in \u001b[0;36mtraining_loop\u001b[0;34m(model, train_loader, val_loader_positive, val_loader_negative, history, epochs)\u001b[0m\n\u001b[1;32m     30\u001b[0m \u001b[38;5;28;01mfor\u001b[39;00m epoch \u001b[38;5;129;01min\u001b[39;00m \u001b[38;5;28mrange\u001b[39m(epochs):\n\u001b[1;32m     31\u001b[0m     model\u001b[38;5;241m.\u001b[39mtrain()\n\u001b[0;32m---> 32\u001b[0m     training_loss, r2_train \u001b[38;5;241m=\u001b[39m \u001b[43mtrain_one_epoch\u001b[49m\u001b[43m(\u001b[49m\u001b[43mmodel\u001b[49m\u001b[43m,\u001b[49m\u001b[43m \u001b[49m\u001b[43mtrain_loader\u001b[49m\u001b[43m,\u001b[49m\u001b[43m \u001b[49m\u001b[43moptimizer\u001b[49m\u001b[43m)\u001b[49m\n\u001b[1;32m     33\u001b[0m     model\u001b[38;5;241m.\u001b[39meval() \n\u001b[1;32m     34\u001b[0m     val_loss \u001b[38;5;241m=\u001b[39m []\n",
      "Cell \u001b[0;32mIn[37], line 18\u001b[0m, in \u001b[0;36mtrain_one_epoch\u001b[0;34m(model, loader, optimizer, val)\u001b[0m\n\u001b[1;32m     16\u001b[0m loss \u001b[38;5;241m=\u001b[39m criterion(outputs, inputs)\n\u001b[1;32m     17\u001b[0m \u001b[38;5;28;01mif\u001b[39;00m \u001b[38;5;129;01mnot\u001b[39;00m val:\n\u001b[0;32m---> 18\u001b[0m     \u001b[43mloss\u001b[49m\u001b[38;5;241;43m.\u001b[39;49m\u001b[43mbackward\u001b[49m\u001b[43m(\u001b[49m\u001b[43m)\u001b[49m \n\u001b[1;32m     19\u001b[0m     optimizer\u001b[38;5;241m.\u001b[39mstep()\n\u001b[1;32m     20\u001b[0m running_loss \u001b[38;5;241m+\u001b[39m\u001b[38;5;241m=\u001b[39m loss\u001b[38;5;241m.\u001b[39mitem()\n",
      "File \u001b[0;32m/usr/local/lib/python3.10/dist-packages/torch/_tensor.py:525\u001b[0m, in \u001b[0;36mTensor.backward\u001b[0;34m(self, gradient, retain_graph, create_graph, inputs)\u001b[0m\n\u001b[1;32m    515\u001b[0m \u001b[38;5;28;01mif\u001b[39;00m has_torch_function_unary(\u001b[38;5;28mself\u001b[39m):\n\u001b[1;32m    516\u001b[0m     \u001b[38;5;28;01mreturn\u001b[39;00m handle_torch_function(\n\u001b[1;32m    517\u001b[0m         Tensor\u001b[38;5;241m.\u001b[39mbackward,\n\u001b[1;32m    518\u001b[0m         (\u001b[38;5;28mself\u001b[39m,),\n\u001b[0;32m   (...)\u001b[0m\n\u001b[1;32m    523\u001b[0m         inputs\u001b[38;5;241m=\u001b[39minputs,\n\u001b[1;32m    524\u001b[0m     )\n\u001b[0;32m--> 525\u001b[0m \u001b[43mtorch\u001b[49m\u001b[38;5;241;43m.\u001b[39;49m\u001b[43mautograd\u001b[49m\u001b[38;5;241;43m.\u001b[39;49m\u001b[43mbackward\u001b[49m\u001b[43m(\u001b[49m\n\u001b[1;32m    526\u001b[0m \u001b[43m    \u001b[49m\u001b[38;5;28;43mself\u001b[39;49m\u001b[43m,\u001b[49m\u001b[43m \u001b[49m\u001b[43mgradient\u001b[49m\u001b[43m,\u001b[49m\u001b[43m \u001b[49m\u001b[43mretain_graph\u001b[49m\u001b[43m,\u001b[49m\u001b[43m \u001b[49m\u001b[43mcreate_graph\u001b[49m\u001b[43m,\u001b[49m\u001b[43m \u001b[49m\u001b[43minputs\u001b[49m\u001b[38;5;241;43m=\u001b[39;49m\u001b[43minputs\u001b[49m\n\u001b[1;32m    527\u001b[0m \u001b[43m\u001b[49m\u001b[43m)\u001b[49m\n",
      "File \u001b[0;32m/usr/local/lib/python3.10/dist-packages/torch/autograd/__init__.py:267\u001b[0m, in \u001b[0;36mbackward\u001b[0;34m(tensors, grad_tensors, retain_graph, create_graph, grad_variables, inputs)\u001b[0m\n\u001b[1;32m    262\u001b[0m     retain_graph \u001b[38;5;241m=\u001b[39m create_graph\n\u001b[1;32m    264\u001b[0m \u001b[38;5;66;03m# The reason we repeat the same comment below is that\u001b[39;00m\n\u001b[1;32m    265\u001b[0m \u001b[38;5;66;03m# some Python versions print out the first line of a multi-line function\u001b[39;00m\n\u001b[1;32m    266\u001b[0m \u001b[38;5;66;03m# calls in the traceback and some print out the last line\u001b[39;00m\n\u001b[0;32m--> 267\u001b[0m \u001b[43m_engine_run_backward\u001b[49m\u001b[43m(\u001b[49m\n\u001b[1;32m    268\u001b[0m \u001b[43m    \u001b[49m\u001b[43mtensors\u001b[49m\u001b[43m,\u001b[49m\n\u001b[1;32m    269\u001b[0m \u001b[43m    \u001b[49m\u001b[43mgrad_tensors_\u001b[49m\u001b[43m,\u001b[49m\n\u001b[1;32m    270\u001b[0m \u001b[43m    \u001b[49m\u001b[43mretain_graph\u001b[49m\u001b[43m,\u001b[49m\n\u001b[1;32m    271\u001b[0m \u001b[43m    \u001b[49m\u001b[43mcreate_graph\u001b[49m\u001b[43m,\u001b[49m\n\u001b[1;32m    272\u001b[0m \u001b[43m    \u001b[49m\u001b[43minputs\u001b[49m\u001b[43m,\u001b[49m\n\u001b[1;32m    273\u001b[0m \u001b[43m    \u001b[49m\u001b[43mallow_unreachable\u001b[49m\u001b[38;5;241;43m=\u001b[39;49m\u001b[38;5;28;43;01mTrue\u001b[39;49;00m\u001b[43m,\u001b[49m\n\u001b[1;32m    274\u001b[0m \u001b[43m    \u001b[49m\u001b[43maccumulate_grad\u001b[49m\u001b[38;5;241;43m=\u001b[39;49m\u001b[38;5;28;43;01mTrue\u001b[39;49;00m\u001b[43m,\u001b[49m\n\u001b[1;32m    275\u001b[0m \u001b[43m\u001b[49m\u001b[43m)\u001b[49m\n",
      "File \u001b[0;32m/usr/local/lib/python3.10/dist-packages/torch/autograd/graph.py:744\u001b[0m, in \u001b[0;36m_engine_run_backward\u001b[0;34m(t_outputs, *args, **kwargs)\u001b[0m\n\u001b[1;32m    742\u001b[0m     unregister_hooks \u001b[38;5;241m=\u001b[39m _register_logging_hooks_on_whole_graph(t_outputs)\n\u001b[1;32m    743\u001b[0m \u001b[38;5;28;01mtry\u001b[39;00m:\n\u001b[0;32m--> 744\u001b[0m     \u001b[38;5;28;01mreturn\u001b[39;00m \u001b[43mVariable\u001b[49m\u001b[38;5;241;43m.\u001b[39;49m\u001b[43m_execution_engine\u001b[49m\u001b[38;5;241;43m.\u001b[39;49m\u001b[43mrun_backward\u001b[49m\u001b[43m(\u001b[49m\u001b[43m  \u001b[49m\u001b[38;5;66;43;03m# Calls into the C++ engine to run the backward pass\u001b[39;49;00m\n\u001b[1;32m    745\u001b[0m \u001b[43m        \u001b[49m\u001b[43mt_outputs\u001b[49m\u001b[43m,\u001b[49m\u001b[43m \u001b[49m\u001b[38;5;241;43m*\u001b[39;49m\u001b[43margs\u001b[49m\u001b[43m,\u001b[49m\u001b[43m \u001b[49m\u001b[38;5;241;43m*\u001b[39;49m\u001b[38;5;241;43m*\u001b[39;49m\u001b[43mkwargs\u001b[49m\n\u001b[1;32m    746\u001b[0m \u001b[43m    \u001b[49m\u001b[43m)\u001b[49m  \u001b[38;5;66;03m# Calls into the C++ engine to run the backward pass\u001b[39;00m\n\u001b[1;32m    747\u001b[0m \u001b[38;5;28;01mfinally\u001b[39;00m:\n\u001b[1;32m    748\u001b[0m     \u001b[38;5;28;01mif\u001b[39;00m attach_logging_hooks:\n",
      "\u001b[0;31mKeyboardInterrupt\u001b[0m: "
     ]
    }
   ],
   "source": [
    "print(\"Training Flow AE:\")\n",
    "try:\n",
    "    flow_history = np.load('ae_train.npy')\n",
    "except:\n",
    "    flow_history = []\n",
    "# flow_history = np.open('history')\n",
    "training_loop(flow_ae,\n",
    "              train_loader = flow_train_loader, \n",
    "              val_loader_positive = flow_val_loader_positive,\n",
    "              val_loader_negative = flow_val_loader_negative,\n",
    "              history = flow_history, \n",
    "              epochs = 90\n",
    "             )"
   ]
  },
  {
   "cell_type": "code",
   "execution_count": 86,
   "id": "dccc3aaf-7c71-4881-b198-1b605e45ce39",
   "metadata": {},
   "outputs": [],
   "source": [
    "with open('ae_train.npy', 'wb') as f:\n",
    "    np.save(f, flow_history)\n",
    "    # np.save(f, np.array([1, 3]))"
   ]
  },
  {
   "cell_type": "code",
   "execution_count": 250,
   "id": "25fdeffa-c370-449b-bd92-e795a1572e2e",
   "metadata": {},
   "outputs": [],
   "source": [
    "history_df = pd.DataFrame(flow_history)\n",
    "history_df.to_csv('flow_history.csv', sep='\\t')"
   ]
  },
  {
   "cell_type": "markdown",
   "id": "ad37d173-00c9-4a3a-906b-334c33379a06",
   "metadata": {},
   "source": [
    "## Plotting loss \n",
    "After trying training on small subsets, we will now see how loss was changing and tweak model parameters"
   ]
  },
  {
   "cell_type": "code",
   "execution_count": 99,
   "id": "8f6d4fb8-0734-4448-898a-7a43dcba9bac",
   "metadata": {},
   "outputs": [
    {
     "data": {
      "image/png": "[encoded data removed]",
      "text/plain": [
       "<Figure size 640x480 with 1 Axes>"
      ]
     },
     "metadata": {},
     "output_type": "display_data"
    }
   ],
   "source": [
    "flow_history = np.load('ae_train.npy', allow_pickle=True)\n",
    "# list(flow_history)\n",
    "stats = pd.DataFrame(list(flow_history))\n",
    "# stats\n",
    "sns.lineplot(stats).set_title(\"Flow Autoencoder, hidden size = 40\")\n",
    "plt.savefig('flow_ae_final.png')"
   ]
  },
  {
   "cell_type": "code",
   "execution_count": 68,
   "id": "3663816b-dd38-4eb8-9758-ec2ff95e279a",
   "metadata": {},
   "outputs": [],
   "source": [
    "# flow_ae.pth packet_ae, packet_ae1\n",
    "torch.save(model, path + 'flow_final_ae.pth')"
   ]
  },
  {
   "cell_type": "code",
   "execution_count": 302,
   "id": "792544ed-a8ef-41b3-89c4-420755f5054b",
   "metadata": {},
   "outputs": [
    {
     "name": "stdout",
     "output_type": "stream",
     "text": [
      "tensor(0.4926, device='xpu:0')\n"
     ]
    },
    {
     "data": {
      "image/png": "[encoded data removed]",
      "text/plain": [
       "<Figure size 640x480 with 2 Axes>"
      ]
     },
     "metadata": {},
     "output_type": "display_data"
    }
   ],
   "source": [
    "values = next(iter(flow_val_loader_negative)).float().permute(1, 0, 2).to(device)\n",
    "i = 20\n",
    "pred = packet_model(values).detach()[0][i]\n",
    "# print(values[0][0])\n",
    "# print(pred[0][0])\n",
    "fig, ax = plt.subplots(1,2)\n",
    "sns.scatterplot(values[0][i].cpu(), ax = ax[0])\n",
    "sns.scatterplot(pred.cpu(), ax = ax[1])\n",
    "\n",
    "fig.show()\n",
    "# print(values[0][i])\n",
    "print((values[0][i] - pred).sum())"
   ]
  },
  {
   "cell_type": "code",
   "execution_count": 23,
   "id": "b0c1af25-1a64-4445-a194-ee2927ab48bd",
   "metadata": {},
   "outputs": [],
   "source": [
    "attacks = {\n",
    "    'BENIGN': 1,\n",
    "    'SQL_INJ': 5,\n",
    "    'XSS': 6,\n",
    "    'DDOS': 7,\n",
    "    'PORTSCAN': 8\n",
    "}"
   ]
  },
  {
   "cell_type": "markdown",
   "id": "efeb1ea2-7b70-4877-b8b7-d388d8545dd1",
   "metadata": {},
   "source": [
    "## Create dataset for attacks classifier"
   ]
  },
  {
   "cell_type": "code",
   "execution_count": 13,
   "id": "2b5dfadd-e5f0-4e14-9d67-c22a81adbc4f",
   "metadata": {},
   "outputs": [],
   "source": [
    "pipeline = joblib.load('models/ae_pipeline.gz')\n",
    "# pipeline\n",
    "normalizer = torch.load('models/ae_normalizer.pth')\n",
    "model = torch.load('models/flow_final_ae.pth')"
   ]
  },
  {
   "cell_type": "code",
   "execution_count": 44,
   "id": "97bc2a5a-40c5-4533-8834-7a41439d5095",
   "metadata": {},
   "outputs": [
    {
     "name": "stdout",
     "output_type": "stream",
     "text": [
      "/jupyter/shared/../datasets/classification/benign.pcap\n",
      "/jupyter/shared/../datasets/classification/sql-injection.pcap\n",
      "/jupyter/shared/../datasets/classification/xss.pcapng\n",
      "/jupyter/shared/../datasets/classification/ddos\n",
      "/jupyter/shared/../datasets/classification/portscan/part\n"
     ]
    }
   ],
   "source": [
    "benign_path = path + 'classification/benign.pcap'\n",
    "sql_inj_path = path + 'classification/sql-injection.pcap'\n",
    "xss_path = path + 'classification/xss.pcapng'\n",
    "ddos_path = path + 'classification/ddos'\n",
    "# plain_redis_path = path + 'classification/plain-redis.pcap'\n",
    "portscan_path = path + 'classification/portscan/part'\n",
    "# redis_warning_response = 'classification/warning_redis_response.pcapng'\n",
    "# plain_sql_path = path + 'classification/plain_mysql.pcap'\n",
    "# plain_pass_path = path + 'classification/secure-data-http.pcapng'\n",
    "def preprocess(filename, pipeline, fit=False):\n",
    "    streamer = NFStreamer(source = filename, statistical_analysis=True, udps = PayloadCollector())\n",
    "    flows = streamer.to_pandas()\n",
    "    flows = flows[flows['ip_version'] == 4]\n",
    "    if fit: pipeline = pipeline.fit(flows)\n",
    "    \n",
    "    return pipeline.transform(flows)\n",
    "    \n",
    "def prepare_input(filename, pipeline, normalizer):\n",
    "    data = preprocess(filename, pipeline)\n",
    "    data_tensors = torch.tensor(np.array(data)).unsqueeze(1)\n",
    "    columns = [f.replace('scaler__', '').replace('remainder__', '') for f in pipeline['scaler'].get_feature_names_out()]\n",
    "    return normalizer.normalize(data_tensors), columns\n",
    "    \n",
    "def to_pandas(dataset, label, columns):\n",
    "    data = [] \n",
    "    # columns = list(columns)\n",
    "    columns.append('label')\n",
    "    for flow in dataset:\n",
    "        new_flow = flow.view(-1).numpy()\n",
    "        data.append([*new_flow, label])\n",
    "    return pd.DataFrame(data, columns = columns)\n",
    "    \n",
    "def get_df(filename, label, pipeline, normalizer):\n",
    "    packets, columns = prepare_input(filename, pipeline, normalizer)\n",
    "    packets = packets.float().to(device)\n",
    "    predictions = model(packets).detach()\n",
    "    rows = np.abs(packets.cpu() - predictions.cpu())\n",
    "    return to_pandas(rows, label, columns)\n",
    "\n",
    "def divide_df(df, train_size = 0.8, shuffle = False):\n",
    "    X_train, X_test = train_test_split(df, train_size = train_size, shuffle = shuffle)\n",
    "    X_test, X_val = train_test_split(X_test, train_size = 0.8, shuffle = shuffle)\n",
    "    return X_train, X_test, X_val\n",
    "\n",
    "def create_datasets(filemap):\n",
    "    train = []\n",
    "    test = []\n",
    "    val = []\n",
    "    for label, filename in filemap:\n",
    "        print(filename)\n",
    "        df = get_df(filename, label, pipeline, normalizer)\n",
    "        train_tmp, test_tmp, val_tmp = divide_df(df)\n",
    "        train.append(train_tmp)\n",
    "        test.append(test_tmp)\n",
    "        val.append(val_tmp)\n",
    "    return pd.concat(train, axis = 0), pd.concat(test, axis = 0), pd.concat(val, axis = 0)\n",
    "\n",
    "filemap = [\n",
    "    (attacks['BENIGN'], benign_path),\n",
    "    (attacks['SQL_INJ'], sql_inj_path),\n",
    "    (attacks['XSS'], xss_path),\n",
    "    (attacks['DDOS'], ddos_path),\n",
    "    # (attacks['PLAIN_REDIS'], plain_redis_path),\n",
    "    # (attacks['PLAIN_SQL'], plain_sql_path),\n",
    "    # (attacks['PLAIN_PASS'], plain_pass_path),\n",
    "    (attacks['PORTSCAN'], portscan_path)\n",
    "]\n",
    "\n",
    "train, test, val = create_datasets(filemap)        "
   ]
  },
  {
   "cell_type": "markdown",
   "id": "52818029-abfa-43e2-80dc-cb56ca7a3e97",
   "metadata": {},
   "source": [
    "## Save into CSV"
   ]
  },
  {
   "cell_type": "code",
   "execution_count": 45,
   "id": "ca6fd517-4a2c-4bc1-8a40-b00312522080",
   "metadata": {},
   "outputs": [
    {
     "data": {
      "text/plain": [
       "label\n",
       "8    10000\n",
       "6     2069\n",
       "7     1106\n",
       "1      676\n",
       "5      249\n",
       "Name: count, dtype: int64"
      ]
     },
     "execution_count": 45,
     "metadata": {},
     "output_type": "execute_result"
    }
   ],
   "source": [
    "train['label'].value_counts()"
   ]
  },
  {
   "cell_type": "code",
   "execution_count": 47,
   "id": "f75184d6-bbe8-4645-a4d9-df356b3c1b97",
   "metadata": {},
   "outputs": [],
   "source": [
    "train.reset_index(drop=True).to_csv(path + 'attacks_train.csv', index=False)\n",
    "# train_y.reset_index(drop=True).to_csv(path + 'attacks_train_y.csv', index=False)\n",
    "test.reset_index(drop=True).to_csv(path + 'attacks_test.csv', index=False)\n",
    "val.reset_index(drop=True).to_csv(path + 'attacks_val.csv', index=False)\n",
    "# test_y.reset_index(drop=True).to_csv(path + 'attacks_test_y.csv', index=False)"
   ]
  },
  {
   "cell_type": "markdown",
   "id": "5ec9d08f-f45a-47fd-bb9d-2cd95a78bc03",
   "metadata": {},
   "source": [
    "## Load and set dimensions"
   ]
  },
  {
   "cell_type": "code",
   "execution_count": 28,
   "id": "9e75e49a-ab31-417d-ab9f-3e0ec87d8a0c",
   "metadata": {},
   "outputs": [],
   "source": [
    "class AttackDataset(Dataset):\n",
    "  def __init__(self, filename, transforms = None):\n",
    "    self.df = pd.read_csv(filename)\n",
    "    self.transform = transforms\n",
    "\n",
    "  def __getitem__(self, idx):\n",
    "      sample = self.df.iloc[idx, :-1]\n",
    "      label = self.df.iloc[idx, -1:]\n",
    "      return torch.tensor(sample.to_numpy()), torch.tensor(label.to_numpy())\n",
    "\n",
    "  def __len__(self):\n",
    "    return self.df.shape[0]\n"
   ]
  },
  {
   "cell_type": "code",
   "execution_count": 51,
   "id": "be7ed85f-c33a-42b1-a732-9676999270cd",
   "metadata": {},
   "outputs": [
    {
     "name": "stdout",
     "output_type": "stream",
     "text": [
      "Input dim: 313, output dim: 1\n"
     ]
    }
   ],
   "source": [
    "transforms = torchvision.transforms.Compose([\n",
    "    torchvision.transforms.ToTensor()\n",
    "])\n",
    "attack_train = AttackDataset(path + 'attacks_train.csv', transforms = transforms)\n",
    "# train_y = AttackDataset(path + 'attacks_train_y.csv', transforms = transforms)\n",
    "attack_test = AttackDataset(path + 'attacks_test.csv', transforms = transforms)\n",
    "attack_val = AttackDataset(path + 'attacks_val.csv', transforms = transforms)\n",
    "# test_y = AttackDataset(path + 'attacks_test_y.csv', transforms = transforms)\n",
    "attack_input_dim = attack_train[0][0].shape[0]\n",
    "attack_output_dim = 1\n",
    "print(f'Input dim: {attack_input_dim}, output dim: {attack_output_dim}')"
   ]
  },
  {
   "cell_type": "code",
   "execution_count": 30,
   "id": "3622991a-f56b-4971-b3e9-d476062f4be1",
   "metadata": {},
   "outputs": [],
   "source": [
    "attack_train_loader = DataLoader(attack_train, batch_size=64)\n",
    "attack_val_loader = DataLoader(attack_val, batch_size=64)"
   ]
  },
  {
   "cell_type": "markdown",
   "id": "7aff53d8-b7b1-45f6-9c9d-9a36ab7ec015",
   "metadata": {},
   "source": [
    "## Create classifier"
   ]
  },
  {
   "cell_type": "code",
   "execution_count": 315,
   "id": "3433a7ec-c7c4-4406-b735-498dc7cbd45b",
   "metadata": {},
   "outputs": [],
   "source": [
    "class AttackClassifier(nn.Module):\n",
    "    def __init__(self, in_dim, out_dim):\n",
    "        super(AttackClassifier, self).__init__()\n",
    "        self.layer1 = nn.Linear(in_dim, 10)\n",
    "        self.relu = nn.ReLU()\n",
    "        # self.layer2 = nn.Linear(120, 10)\n",
    "        self.layer2 = nn.Linear(10, out_dim)\n",
    "    def forward(self, x):\n",
    "        x = self.relu(self.layer1(x))\n",
    "        x = self.layer2(x)\n",
    "        return x\n",
    "        return x"
   ]
  },
  {
   "cell_type": "code",
   "execution_count": 345,
   "id": "2fa569d4-7a5a-4335-8425-1ebe0c848928",
   "metadata": {},
   "outputs": [],
   "source": [
    "attack_classifier = AttackClassifier(attack_input_dim, attack_output_dim).to(device)"
   ]
  },
  {
   "cell_type": "markdown",
   "id": "fd750bb9-81eb-4866-9ab7-10193f0a52ee",
   "metadata": {},
   "source": [
    "## Training classifier"
   ]
  },
  {
   "cell_type": "code",
   "execution_count": 343,
   "id": "cc519481-96d5-4daa-97b0-463ce1edaf52",
   "metadata": {},
   "outputs": [],
   "source": [
    "epochs = 50\n",
    "learning_rate = 1e-4\n",
    "\n",
    "# criterion = nn.SmoothL1Loss(reduction='sum').to(device)\n",
    "criterion = nn.BCEWithLogitsLoss()\n",
    "# optimizer = optim.Adam(model.parameters(), lr=0.001)\n",
    "# metric = R2Score().to(device)\n",
    "\n",
    "def attack_train_one_epoch(model, loader, optimizer, val = False):\n",
    "    running_loss = 0.\n",
    "    r2 = []\n",
    "    for data, labels in loader:\n",
    "        inputs = data.float().to(device)\n",
    "        labels = labels.to(device)\n",
    "        if not val: \n",
    "            optimizer.zero_grad() \n",
    "        outputs = model(inputs)\n",
    "        # print(f'Outputs: {outputs.shape}, labels: {labels.squeeze(1).shape}')\n",
    "        loss = criterion(outputs, labels)\n",
    "        # print(loss.item())\n",
    "        if not val:\n",
    "            loss.backward() \n",
    "            optimizer.step()\n",
    "        running_loss += loss.item()\n",
    "        \n",
    "        r2.append(r2_score(labels, outputs))\n",
    "    running_loss = running_loss / len(loader)\n",
    "    r2 = np.array(r2)\n",
    "    return running_loss, np.mean(r2)\n",
    "\n",
    "def attack_training_loop(model, train_loader, val_loader, history, epochs = 50):\n",
    "    # learning_rate=0.1\n",
    "    optimizer=torch.optim.SGD(model.parameters(), lr=learning_rate)\n",
    "    print('Epoch | train_loss | val_loss | R2 train | R2 val')\n",
    "    for epoch in range(epochs):\n",
    "        model.train()\n",
    "        training_loss, r2_train = attack_train_one_epoch(model, train_loader, optimizer)\n",
    "        model.eval() \n",
    "        val_loss = []\n",
    "        with torch.no_grad(): \n",
    "            # val_loss_negative, _ = train_one_epoch(model, val_loader_negative, optimizer, val = True)\n",
    "            val_loss, r2_val = attack_train_one_epoch(model, val_loader, optimizer, val = True)\n",
    "        history.append({'loss': training_loss, 'r2_train': r2_train, 'r2_val': r2_val, 'val_loss': val_loss})\n",
    "        print(f'{epoch + 1} | {training_loss} | {val_loss} | {r2_train} | {r2_val}')\n",
    "    return history"
   ]
  },
  {
   "cell_type": "code",
   "execution_count": 336,
   "id": "2c2cf06a-ea16-4bd8-b8ba-52e770f6bd93",
   "metadata": {},
   "outputs": [
    {
     "name": "stdout",
     "output_type": "stream",
     "text": [
      "Labels shape: torch.Size([64, 1]), pred shape: torch.Size([64, 1])\n",
      "0.6429697861894965\n"
     ]
    }
   ],
   "source": [
    "criterion = nn.BCEWithLogitsLoss()\n",
    "for data, labels in attack_train_loader:\n",
    "    break\n",
    "pred = attack_classifier(data.float().to(device))\n",
    "\n",
    "print(f'Labels shape: {labels.shape}, pred shape: {pred.shape}');\n",
    "loss = criterion(pred, labels.to(device))\n",
    "# labels.squeeze(1).shape\n",
    "print(loss.item())"
   ]
  },
  {
   "cell_type": "code",
   "execution_count": 346,
   "id": "49a68e83-d7e1-47cb-926a-1f86705ffe04",
   "metadata": {},
   "outputs": [
    {
     "name": "stdout",
     "output_type": "stream",
     "text": [
      "Training Attack classifier:\n",
      "Epoch | train_loss | val_loss | R2 train | R2 val\n",
      "1 | -2051735498.2061527 | -16156109378.258064 | -3.0242175690941153e+28 | -1.8254352820901962e+29\n",
      "2 | -1.6850435559921068e+19 | -1.3268608536225641e+20 | -2.039828982030913e+48 | -1.2312490267486758e+49\n",
      "3 | -1.3838832651027696e+29 | -1.089716988227824e+30 | -1.3758478065174917e+68 | -8.304672887215743e+68\n",
      "4 | -inf | nan | -inf | -inf\n",
      "5 | nan | nan | -inf | -inf\n"
     ]
    },
    {
     "ename": "KeyboardInterrupt",
     "evalue": "",
     "output_type": "error",
     "traceback": [
      "\u001b[0;31m---------------------------------------------------------------------------\u001b[0m",
      "\u001b[0;31mKeyboardInterrupt\u001b[0m                         Traceback (most recent call last)",
      "Cell \u001b[0;32mIn[346], line 7\u001b[0m\n\u001b[1;32m      5\u001b[0m     attack_history \u001b[38;5;241m=\u001b[39m []\n\u001b[1;32m      6\u001b[0m \u001b[38;5;66;03m# flow_history = np.open('history')\u001b[39;00m\n\u001b[0;32m----> 7\u001b[0m \u001b[43mattack_training_loop\u001b[49m\u001b[43m(\u001b[49m\u001b[43mattack_classifier\u001b[49m\u001b[43m,\u001b[49m\n\u001b[1;32m      8\u001b[0m \u001b[43m              \u001b[49m\u001b[43mtrain_loader\u001b[49m\u001b[43m \u001b[49m\u001b[38;5;241;43m=\u001b[39;49m\u001b[43m \u001b[49m\u001b[43mattack_train_loader\u001b[49m\u001b[43m,\u001b[49m\u001b[43m \u001b[49m\n\u001b[1;32m      9\u001b[0m \u001b[43m              \u001b[49m\u001b[43mval_loader\u001b[49m\u001b[43m \u001b[49m\u001b[38;5;241;43m=\u001b[39;49m\u001b[43m \u001b[49m\u001b[43mattack_val_loader\u001b[49m\u001b[43m,\u001b[49m\n\u001b[1;32m     10\u001b[0m \u001b[43m              \u001b[49m\u001b[43mhistory\u001b[49m\u001b[43m \u001b[49m\u001b[38;5;241;43m=\u001b[39;49m\u001b[43m \u001b[49m\u001b[43mattack_history\u001b[49m\u001b[43m,\u001b[49m\u001b[43m \u001b[49m\n\u001b[1;32m     11\u001b[0m \u001b[43m              \u001b[49m\u001b[43mepochs\u001b[49m\u001b[43m \u001b[49m\u001b[38;5;241;43m=\u001b[39;49m\u001b[43m \u001b[49m\u001b[38;5;241;43m90\u001b[39;49m\n\u001b[1;32m     12\u001b[0m \u001b[43m             \u001b[49m\u001b[43m)\u001b[49m\n",
      "Cell \u001b[0;32mIn[343], line 37\u001b[0m, in \u001b[0;36mattack_training_loop\u001b[0;34m(model, train_loader, val_loader, history, epochs)\u001b[0m\n\u001b[1;32m     35\u001b[0m \u001b[38;5;28;01mfor\u001b[39;00m epoch \u001b[38;5;129;01min\u001b[39;00m \u001b[38;5;28mrange\u001b[39m(epochs):\n\u001b[1;32m     36\u001b[0m     model\u001b[38;5;241m.\u001b[39mtrain()\n\u001b[0;32m---> 37\u001b[0m     training_loss, r2_train \u001b[38;5;241m=\u001b[39m \u001b[43mattack_train_one_epoch\u001b[49m\u001b[43m(\u001b[49m\u001b[43mmodel\u001b[49m\u001b[43m,\u001b[49m\u001b[43m \u001b[49m\u001b[43mtrain_loader\u001b[49m\u001b[43m,\u001b[49m\u001b[43m \u001b[49m\u001b[43moptimizer\u001b[49m\u001b[43m)\u001b[49m\n\u001b[1;32m     38\u001b[0m     model\u001b[38;5;241m.\u001b[39meval() \n\u001b[1;32m     39\u001b[0m     val_loss \u001b[38;5;241m=\u001b[39m []\n",
      "Cell \u001b[0;32mIn[343], line 26\u001b[0m, in \u001b[0;36mattack_train_one_epoch\u001b[0;34m(model, loader, optimizer, val)\u001b[0m\n\u001b[1;32m     23\u001b[0m         optimizer\u001b[38;5;241m.\u001b[39mstep()\n\u001b[1;32m     24\u001b[0m     running_loss \u001b[38;5;241m+\u001b[39m\u001b[38;5;241m=\u001b[39m loss\u001b[38;5;241m.\u001b[39mitem()\n\u001b[0;32m---> 26\u001b[0m     r2\u001b[38;5;241m.\u001b[39mappend(\u001b[43mr2_score\u001b[49m\u001b[43m(\u001b[49m\u001b[43mlabels\u001b[49m\u001b[43m,\u001b[49m\u001b[43m \u001b[49m\u001b[43moutputs\u001b[49m\u001b[43m)\u001b[49m)\n\u001b[1;32m     27\u001b[0m running_loss \u001b[38;5;241m=\u001b[39m running_loss \u001b[38;5;241m/\u001b[39m \u001b[38;5;28mlen\u001b[39m(loader)\n\u001b[1;32m     28\u001b[0m r2 \u001b[38;5;241m=\u001b[39m np\u001b[38;5;241m.\u001b[39marray(r2)\n",
      "Cell \u001b[0;32mIn[40], line 12\u001b[0m, in \u001b[0;36mr2_score\u001b[0;34m(y_true, y_pred)\u001b[0m\n\u001b[1;32m      9\u001b[0m \u001b[38;5;66;03m# Calculate R^2\u001b[39;00m\n\u001b[1;32m     10\u001b[0m r2 \u001b[38;5;241m=\u001b[39m \u001b[38;5;241m1\u001b[39m \u001b[38;5;241m-\u001b[39m ss_res \u001b[38;5;241m/\u001b[39m (ss_tot \u001b[38;5;241m+\u001b[39m \u001b[38;5;241m1e-8\u001b[39m)  \u001b[38;5;66;03m# Add epsilon to avoid division by zero\u001b[39;00m\n\u001b[0;32m---> 12\u001b[0m \u001b[38;5;28;01mreturn\u001b[39;00m \u001b[43mr2\u001b[49m\u001b[38;5;241;43m.\u001b[39;49m\u001b[43mitem\u001b[49m\u001b[43m(\u001b[49m\u001b[43m)\u001b[49m\n",
      "\u001b[0;31mKeyboardInterrupt\u001b[0m: "
     ]
    }
   ],
   "source": [
    "print(\"Training Attack classifier:\")\n",
    "try:\n",
    "    attack_history = np.load('attack_train.npy')\n",
    "except:\n",
    "    attack_history = []\n",
    "# flow_history = np.open('history')\n",
    "attack_training_loop(attack_classifier,\n",
    "              train_loader = attack_train_loader, \n",
    "              val_loader = attack_val_loader,\n",
    "              history = attack_history, \n",
    "              epochs = 90\n",
    "             )"
   ]
  },
  {
   "cell_type": "code",
   "execution_count": null,
   "id": "4f69f9f0-a8dd-43ec-9c7a-f0c8c2ca8020",
   "metadata": {},
   "outputs": [],
   "source": [
    "with open('attack_train.npy', 'wb') as f:\n",
    "    np.save(f, attack_history)\n",
    "    # np.save(f, np.array([1, 3]))\n"
   ]
  },
  {
   "cell_type": "code",
   "execution_count": null,
   "id": "ea2ed0aa-b479-4ae0-b28a-5f8d6d831ce8",
   "metadata": {},
   "outputs": [],
   "source": [
    "flow_history = np.load('attack_train.npy', allow_pickle=True)\n",
    "# list(flow_history)\n",
    "stats = pd.DataFrame(list(attack_history))\n",
    "# stats\n",
    "sns.lineplot(stats).set_title(\"Attack classifier\")\n",
    "plt.savefig('flow_ae_final.png')"
   ]
  },
  {
   "cell_type": "code",
   "execution_count": 48,
   "id": "6ae79898-ec3b-4730-93b9-00d287514e10",
   "metadata": {},
   "outputs": [],
   "source": [
    "\n",
    "df = pd.read_csv(path + 'attacks_train.csv').sample(frac=1)\n",
    "X_train = df.iloc[:, :-1]\n",
    "y_train = df.iloc[:, -1:]\n",
    "a = 7\n"
   ]
  },
  {
   "cell_type": "code",
   "execution_count": 49,
   "id": "41079c6d-49be-4a1a-8bf0-88b3ba7878db",
   "metadata": {},
   "outputs": [],
   "source": [
    "df_test = pd.read_csv(path + 'attacks_test.csv').sample(frac=1)\n",
    "X_test = df_test.iloc[:, :-1]\n",
    "y_test = df_test.iloc[:, -1:]"
   ]
  },
  {
   "cell_type": "code",
   "execution_count": 50,
   "id": "e8c9a93e-8daa-4d2d-9cb2-360fb657ce8b",
   "metadata": {},
   "outputs": [],
   "source": [
    "df['label'].value_counts()\n",
    "classifier = KNeighborsClassifier()"
   ]
  },
  {
   "cell_type": "code",
   "execution_count": 33,
   "id": "9b20dbe9-fe32-47c2-86b8-fc6abdda605b",
   "metadata": {},
   "outputs": [
    {
     "ename": "KeyboardInterrupt",
     "evalue": "",
     "output_type": "error",
     "traceback": [
      "\u001b[0;31m---------------------------------------------------------------------------\u001b[0m",
      "\u001b[0;31mKeyboardInterrupt\u001b[0m                         Traceback (most recent call last)",
      "Cell \u001b[0;32mIn[33], line 11\u001b[0m\n\u001b[1;32m      3\u001b[0m params \u001b[38;5;241m=\u001b[39m {\n\u001b[1;32m      4\u001b[0m     \u001b[38;5;124m'\u001b[39m\u001b[38;5;124mn_neighbors\u001b[39m\u001b[38;5;124m'\u001b[39m: [\u001b[38;5;241m3\u001b[39m, \u001b[38;5;241m5\u001b[39m, \u001b[38;5;241m6\u001b[39m, \u001b[38;5;241m7\u001b[39m],\n\u001b[1;32m      5\u001b[0m     \u001b[38;5;124m'\u001b[39m\u001b[38;5;124mweights\u001b[39m\u001b[38;5;124m'\u001b[39m: (\u001b[38;5;124m'\u001b[39m\u001b[38;5;124muniform\u001b[39m\u001b[38;5;124m'\u001b[39m, \u001b[38;5;124m'\u001b[39m\u001b[38;5;124mdistance\u001b[39m\u001b[38;5;124m'\u001b[39m),\n\u001b[0;32m   (...)\u001b[0m\n\u001b[1;32m      8\u001b[0m     \u001b[38;5;124m'\u001b[39m\u001b[38;5;124mmetric\u001b[39m\u001b[38;5;124m'\u001b[39m: (\u001b[38;5;124m'\u001b[39m\u001b[38;5;124mmanhattan\u001b[39m\u001b[38;5;124m'\u001b[39m, \u001b[38;5;124m'\u001b[39m\u001b[38;5;124mminkowski\u001b[39m\u001b[38;5;124m'\u001b[39m)\n\u001b[1;32m      9\u001b[0m }\n\u001b[1;32m     10\u001b[0m gs \u001b[38;5;241m=\u001b[39m GridSearchCV(classifier, params)\n\u001b[0;32m---> 11\u001b[0m \u001b[43mgs\u001b[49m\u001b[38;5;241;43m.\u001b[39;49m\u001b[43mfit\u001b[49m\u001b[43m(\u001b[49m\u001b[43mX_train\u001b[49m\u001b[43m,\u001b[49m\u001b[43m \u001b[49m\u001b[43my_train\u001b[49m\u001b[38;5;241;43m.\u001b[39;49m\u001b[43mto_numpy\u001b[49m\u001b[43m(\u001b[49m\u001b[43m)\u001b[49m\u001b[38;5;241;43m.\u001b[39;49m\u001b[43mravel\u001b[49m\u001b[43m(\u001b[49m\u001b[43m)\u001b[49m\u001b[43m)\u001b[49m\n\u001b[1;32m     12\u001b[0m \u001b[38;5;28mprint\u001b[39m(\u001b[38;5;124m\"\u001b[39m\u001b[38;5;124mBest Parameters:\u001b[39m\u001b[38;5;124m\"\u001b[39m, gs\u001b[38;5;241m.\u001b[39mbest_params_)\n\u001b[1;32m     13\u001b[0m \u001b[38;5;28mprint\u001b[39m(\u001b[38;5;124m\"\u001b[39m\u001b[38;5;124mBest Cross-Validation Accuracy:\u001b[39m\u001b[38;5;124m\"\u001b[39m, gs\u001b[38;5;241m.\u001b[39mbest_score_)\n",
      "File \u001b[0;32m/usr/local/lib/python3.10/dist-packages/sklearn/base.py:1389\u001b[0m, in \u001b[0;36m_fit_context.<locals>.decorator.<locals>.wrapper\u001b[0;34m(estimator, *args, **kwargs)\u001b[0m\n\u001b[1;32m   1382\u001b[0m     estimator\u001b[38;5;241m.\u001b[39m_validate_params()\n\u001b[1;32m   1384\u001b[0m \u001b[38;5;28;01mwith\u001b[39;00m config_context(\n\u001b[1;32m   1385\u001b[0m     skip_parameter_validation\u001b[38;5;241m=\u001b[39m(\n\u001b[1;32m   1386\u001b[0m         prefer_skip_nested_validation \u001b[38;5;129;01mor\u001b[39;00m global_skip_validation\n\u001b[1;32m   1387\u001b[0m     )\n\u001b[1;32m   1388\u001b[0m ):\n\u001b[0;32m-> 1389\u001b[0m     \u001b[38;5;28;01mreturn\u001b[39;00m \u001b[43mfit_method\u001b[49m\u001b[43m(\u001b[49m\u001b[43mestimator\u001b[49m\u001b[43m,\u001b[49m\u001b[43m \u001b[49m\u001b[38;5;241;43m*\u001b[39;49m\u001b[43margs\u001b[49m\u001b[43m,\u001b[49m\u001b[43m \u001b[49m\u001b[38;5;241;43m*\u001b[39;49m\u001b[38;5;241;43m*\u001b[39;49m\u001b[43mkwargs\u001b[49m\u001b[43m)\u001b[49m\n",
      "File \u001b[0;32m/usr/local/lib/python3.10/dist-packages/sklearn/model_selection/_search.py:1023\u001b[0m, in \u001b[0;36mBaseSearchCV.fit\u001b[0;34m(self, X, y, **params)\u001b[0m\n\u001b[1;32m   1017\u001b[0m     results \u001b[38;5;241m=\u001b[39m \u001b[38;5;28mself\u001b[39m\u001b[38;5;241m.\u001b[39m_format_results(\n\u001b[1;32m   1018\u001b[0m         all_candidate_params, n_splits, all_out, all_more_results\n\u001b[1;32m   1019\u001b[0m     )\n\u001b[1;32m   1021\u001b[0m     \u001b[38;5;28;01mreturn\u001b[39;00m results\n\u001b[0;32m-> 1023\u001b[0m \u001b[38;5;28;43mself\u001b[39;49m\u001b[38;5;241;43m.\u001b[39;49m\u001b[43m_run_search\u001b[49m\u001b[43m(\u001b[49m\u001b[43mevaluate_candidates\u001b[49m\u001b[43m)\u001b[49m\n\u001b[1;32m   1025\u001b[0m \u001b[38;5;66;03m# multimetric is determined here because in the case of a callable\u001b[39;00m\n\u001b[1;32m   1026\u001b[0m \u001b[38;5;66;03m# self.scoring the return type is only known after calling\u001b[39;00m\n\u001b[1;32m   1027\u001b[0m first_test_score \u001b[38;5;241m=\u001b[39m all_out[\u001b[38;5;241m0\u001b[39m][\u001b[38;5;124m\"\u001b[39m\u001b[38;5;124mtest_scores\u001b[39m\u001b[38;5;124m\"\u001b[39m]\n",
      "File \u001b[0;32m/usr/local/lib/python3.10/dist-packages/sklearn/model_selection/_search.py:1570\u001b[0m, in \u001b[0;36mGridSearchCV._run_search\u001b[0;34m(self, evaluate_candidates)\u001b[0m\n\u001b[1;32m   1568\u001b[0m \u001b[38;5;28;01mdef\u001b[39;00m \u001b[38;5;21m_run_search\u001b[39m(\u001b[38;5;28mself\u001b[39m, evaluate_candidates):\n\u001b[1;32m   1569\u001b[0m \u001b[38;5;250m    \u001b[39m\u001b[38;5;124;03m\"\"\"Search all candidates in param_grid\"\"\"\u001b[39;00m\n\u001b[0;32m-> 1570\u001b[0m     \u001b[43mevaluate_candidates\u001b[49m\u001b[43m(\u001b[49m\u001b[43mParameterGrid\u001b[49m\u001b[43m(\u001b[49m\u001b[38;5;28;43mself\u001b[39;49m\u001b[38;5;241;43m.\u001b[39;49m\u001b[43mparam_grid\u001b[49m\u001b[43m)\u001b[49m\u001b[43m)\u001b[49m\n",
      "File \u001b[0;32m/usr/local/lib/python3.10/dist-packages/sklearn/model_selection/_search.py:969\u001b[0m, in \u001b[0;36mBaseSearchCV.fit.<locals>.evaluate_candidates\u001b[0;34m(candidate_params, cv, more_results)\u001b[0m\n\u001b[1;32m    961\u001b[0m \u001b[38;5;28;01mif\u001b[39;00m \u001b[38;5;28mself\u001b[39m\u001b[38;5;241m.\u001b[39mverbose \u001b[38;5;241m>\u001b[39m \u001b[38;5;241m0\u001b[39m:\n\u001b[1;32m    962\u001b[0m     \u001b[38;5;28mprint\u001b[39m(\n\u001b[1;32m    963\u001b[0m         \u001b[38;5;124m\"\u001b[39m\u001b[38;5;124mFitting \u001b[39m\u001b[38;5;132;01m{0}\u001b[39;00m\u001b[38;5;124m folds for each of \u001b[39m\u001b[38;5;132;01m{1}\u001b[39;00m\u001b[38;5;124m candidates,\u001b[39m\u001b[38;5;124m\"\u001b[39m\n\u001b[1;32m    964\u001b[0m         \u001b[38;5;124m\"\u001b[39m\u001b[38;5;124m totalling \u001b[39m\u001b[38;5;132;01m{2}\u001b[39;00m\u001b[38;5;124m fits\u001b[39m\u001b[38;5;124m\"\u001b[39m\u001b[38;5;241m.\u001b[39mformat(\n\u001b[1;32m    965\u001b[0m             n_splits, n_candidates, n_candidates \u001b[38;5;241m*\u001b[39m n_splits\n\u001b[1;32m    966\u001b[0m         )\n\u001b[1;32m    967\u001b[0m     )\n\u001b[0;32m--> 969\u001b[0m out \u001b[38;5;241m=\u001b[39m \u001b[43mparallel\u001b[49m\u001b[43m(\u001b[49m\n\u001b[1;32m    970\u001b[0m \u001b[43m    \u001b[49m\u001b[43mdelayed\u001b[49m\u001b[43m(\u001b[49m\u001b[43m_fit_and_score\u001b[49m\u001b[43m)\u001b[49m\u001b[43m(\u001b[49m\n\u001b[1;32m    971\u001b[0m \u001b[43m        \u001b[49m\u001b[43mclone\u001b[49m\u001b[43m(\u001b[49m\u001b[43mbase_estimator\u001b[49m\u001b[43m)\u001b[49m\u001b[43m,\u001b[49m\n\u001b[1;32m    972\u001b[0m \u001b[43m        \u001b[49m\u001b[43mX\u001b[49m\u001b[43m,\u001b[49m\n\u001b[1;32m    973\u001b[0m \u001b[43m        \u001b[49m\u001b[43my\u001b[49m\u001b[43m,\u001b[49m\n\u001b[1;32m    974\u001b[0m \u001b[43m        \u001b[49m\u001b[43mtrain\u001b[49m\u001b[38;5;241;43m=\u001b[39;49m\u001b[43mtrain\u001b[49m\u001b[43m,\u001b[49m\n\u001b[1;32m    975\u001b[0m \u001b[43m        \u001b[49m\u001b[43mtest\u001b[49m\u001b[38;5;241;43m=\u001b[39;49m\u001b[43mtest\u001b[49m\u001b[43m,\u001b[49m\n\u001b[1;32m    976\u001b[0m \u001b[43m        \u001b[49m\u001b[43mparameters\u001b[49m\u001b[38;5;241;43m=\u001b[39;49m\u001b[43mparameters\u001b[49m\u001b[43m,\u001b[49m\n\u001b[1;32m    977\u001b[0m \u001b[43m        \u001b[49m\u001b[43msplit_progress\u001b[49m\u001b[38;5;241;43m=\u001b[39;49m\u001b[43m(\u001b[49m\u001b[43msplit_idx\u001b[49m\u001b[43m,\u001b[49m\u001b[43m \u001b[49m\u001b[43mn_splits\u001b[49m\u001b[43m)\u001b[49m\u001b[43m,\u001b[49m\n\u001b[1;32m    978\u001b[0m \u001b[43m        \u001b[49m\u001b[43mcandidate_progress\u001b[49m\u001b[38;5;241;43m=\u001b[39;49m\u001b[43m(\u001b[49m\u001b[43mcand_idx\u001b[49m\u001b[43m,\u001b[49m\u001b[43m \u001b[49m\u001b[43mn_candidates\u001b[49m\u001b[43m)\u001b[49m\u001b[43m,\u001b[49m\n\u001b[1;32m    979\u001b[0m \u001b[43m        \u001b[49m\u001b[38;5;241;43m*\u001b[39;49m\u001b[38;5;241;43m*\u001b[39;49m\u001b[43mfit_and_score_kwargs\u001b[49m\u001b[43m,\u001b[49m\n\u001b[1;32m    980\u001b[0m \u001b[43m    \u001b[49m\u001b[43m)\u001b[49m\n\u001b[1;32m    981\u001b[0m \u001b[43m    \u001b[49m\u001b[38;5;28;43;01mfor\u001b[39;49;00m\u001b[43m \u001b[49m\u001b[43m(\u001b[49m\u001b[43mcand_idx\u001b[49m\u001b[43m,\u001b[49m\u001b[43m \u001b[49m\u001b[43mparameters\u001b[49m\u001b[43m)\u001b[49m\u001b[43m,\u001b[49m\u001b[43m \u001b[49m\u001b[43m(\u001b[49m\u001b[43msplit_idx\u001b[49m\u001b[43m,\u001b[49m\u001b[43m \u001b[49m\u001b[43m(\u001b[49m\u001b[43mtrain\u001b[49m\u001b[43m,\u001b[49m\u001b[43m \u001b[49m\u001b[43mtest\u001b[49m\u001b[43m)\u001b[49m\u001b[43m)\u001b[49m\u001b[43m \u001b[49m\u001b[38;5;129;43;01min\u001b[39;49;00m\u001b[43m \u001b[49m\u001b[43mproduct\u001b[49m\u001b[43m(\u001b[49m\n\u001b[1;32m    982\u001b[0m \u001b[43m        \u001b[49m\u001b[38;5;28;43menumerate\u001b[39;49m\u001b[43m(\u001b[49m\u001b[43mcandidate_params\u001b[49m\u001b[43m)\u001b[49m\u001b[43m,\u001b[49m\n\u001b[1;32m    983\u001b[0m \u001b[43m        \u001b[49m\u001b[38;5;28;43menumerate\u001b[39;49m\u001b[43m(\u001b[49m\u001b[43mcv\u001b[49m\u001b[38;5;241;43m.\u001b[39;49m\u001b[43msplit\u001b[49m\u001b[43m(\u001b[49m\u001b[43mX\u001b[49m\u001b[43m,\u001b[49m\u001b[43m \u001b[49m\u001b[43my\u001b[49m\u001b[43m,\u001b[49m\u001b[43m \u001b[49m\u001b[38;5;241;43m*\u001b[39;49m\u001b[38;5;241;43m*\u001b[39;49m\u001b[43mrouted_params\u001b[49m\u001b[38;5;241;43m.\u001b[39;49m\u001b[43msplitter\u001b[49m\u001b[38;5;241;43m.\u001b[39;49m\u001b[43msplit\u001b[49m\u001b[43m)\u001b[49m\u001b[43m)\u001b[49m\u001b[43m,\u001b[49m\n\u001b[1;32m    984\u001b[0m \u001b[43m    \u001b[49m\u001b[43m)\u001b[49m\n\u001b[1;32m    985\u001b[0m \u001b[43m\u001b[49m\u001b[43m)\u001b[49m\n\u001b[1;32m    987\u001b[0m \u001b[38;5;28;01mif\u001b[39;00m \u001b[38;5;28mlen\u001b[39m(out) \u001b[38;5;241m<\u001b[39m \u001b[38;5;241m1\u001b[39m:\n\u001b[1;32m    988\u001b[0m     \u001b[38;5;28;01mraise\u001b[39;00m \u001b[38;5;167;01mValueError\u001b[39;00m(\n\u001b[1;32m    989\u001b[0m         \u001b[38;5;124m\"\u001b[39m\u001b[38;5;124mNo fits were performed. \u001b[39m\u001b[38;5;124m\"\u001b[39m\n\u001b[1;32m    990\u001b[0m         \u001b[38;5;124m\"\u001b[39m\u001b[38;5;124mWas the CV iterator empty? \u001b[39m\u001b[38;5;124m\"\u001b[39m\n\u001b[1;32m    991\u001b[0m         \u001b[38;5;124m\"\u001b[39m\u001b[38;5;124mWere there no candidates?\u001b[39m\u001b[38;5;124m\"\u001b[39m\n\u001b[1;32m    992\u001b[0m     )\n",
      "File \u001b[0;32m/usr/local/lib/python3.10/dist-packages/sklearn/utils/parallel.py:77\u001b[0m, in \u001b[0;36mParallel.__call__\u001b[0;34m(self, iterable)\u001b[0m\n\u001b[1;32m     72\u001b[0m config \u001b[38;5;241m=\u001b[39m get_config()\n\u001b[1;32m     73\u001b[0m iterable_with_config \u001b[38;5;241m=\u001b[39m (\n\u001b[1;32m     74\u001b[0m     (_with_config(delayed_func, config), args, kwargs)\n\u001b[1;32m     75\u001b[0m     \u001b[38;5;28;01mfor\u001b[39;00m delayed_func, args, kwargs \u001b[38;5;129;01min\u001b[39;00m iterable\n\u001b[1;32m     76\u001b[0m )\n\u001b[0;32m---> 77\u001b[0m \u001b[38;5;28;01mreturn\u001b[39;00m \u001b[38;5;28;43msuper\u001b[39;49m\u001b[43m(\u001b[49m\u001b[43m)\u001b[49m\u001b[38;5;241;43m.\u001b[39;49m\u001b[38;5;21;43m__call__\u001b[39;49m\u001b[43m(\u001b[49m\u001b[43miterable_with_config\u001b[49m\u001b[43m)\u001b[49m\n",
      "File \u001b[0;32m/usr/local/lib/python3.10/dist-packages/joblib/parallel.py:1918\u001b[0m, in \u001b[0;36mParallel.__call__\u001b[0;34m(self, iterable)\u001b[0m\n\u001b[1;32m   1916\u001b[0m     output \u001b[38;5;241m=\u001b[39m \u001b[38;5;28mself\u001b[39m\u001b[38;5;241m.\u001b[39m_get_sequential_output(iterable)\n\u001b[1;32m   1917\u001b[0m     \u001b[38;5;28mnext\u001b[39m(output)\n\u001b[0;32m-> 1918\u001b[0m     \u001b[38;5;28;01mreturn\u001b[39;00m output \u001b[38;5;28;01mif\u001b[39;00m \u001b[38;5;28mself\u001b[39m\u001b[38;5;241m.\u001b[39mreturn_generator \u001b[38;5;28;01melse\u001b[39;00m \u001b[38;5;28;43mlist\u001b[39;49m\u001b[43m(\u001b[49m\u001b[43moutput\u001b[49m\u001b[43m)\u001b[49m\n\u001b[1;32m   1920\u001b[0m \u001b[38;5;66;03m# Let's create an ID that uniquely identifies the current call. If the\u001b[39;00m\n\u001b[1;32m   1921\u001b[0m \u001b[38;5;66;03m# call is interrupted early and that the same instance is immediately\u001b[39;00m\n\u001b[1;32m   1922\u001b[0m \u001b[38;5;66;03m# re-used, this id will be used to prevent workers that were\u001b[39;00m\n\u001b[1;32m   1923\u001b[0m \u001b[38;5;66;03m# concurrently finalizing a task from the previous call to run the\u001b[39;00m\n\u001b[1;32m   1924\u001b[0m \u001b[38;5;66;03m# callback.\u001b[39;00m\n\u001b[1;32m   1925\u001b[0m \u001b[38;5;28;01mwith\u001b[39;00m \u001b[38;5;28mself\u001b[39m\u001b[38;5;241m.\u001b[39m_lock:\n",
      "File \u001b[0;32m/usr/local/lib/python3.10/dist-packages/joblib/parallel.py:1847\u001b[0m, in \u001b[0;36mParallel._get_sequential_output\u001b[0;34m(self, iterable)\u001b[0m\n\u001b[1;32m   1845\u001b[0m \u001b[38;5;28mself\u001b[39m\u001b[38;5;241m.\u001b[39mn_dispatched_batches \u001b[38;5;241m+\u001b[39m\u001b[38;5;241m=\u001b[39m \u001b[38;5;241m1\u001b[39m\n\u001b[1;32m   1846\u001b[0m \u001b[38;5;28mself\u001b[39m\u001b[38;5;241m.\u001b[39mn_dispatched_tasks \u001b[38;5;241m+\u001b[39m\u001b[38;5;241m=\u001b[39m \u001b[38;5;241m1\u001b[39m\n\u001b[0;32m-> 1847\u001b[0m res \u001b[38;5;241m=\u001b[39m \u001b[43mfunc\u001b[49m\u001b[43m(\u001b[49m\u001b[38;5;241;43m*\u001b[39;49m\u001b[43margs\u001b[49m\u001b[43m,\u001b[49m\u001b[43m \u001b[49m\u001b[38;5;241;43m*\u001b[39;49m\u001b[38;5;241;43m*\u001b[39;49m\u001b[43mkwargs\u001b[49m\u001b[43m)\u001b[49m\n\u001b[1;32m   1848\u001b[0m \u001b[38;5;28mself\u001b[39m\u001b[38;5;241m.\u001b[39mn_completed_tasks \u001b[38;5;241m+\u001b[39m\u001b[38;5;241m=\u001b[39m \u001b[38;5;241m1\u001b[39m\n\u001b[1;32m   1849\u001b[0m \u001b[38;5;28mself\u001b[39m\u001b[38;5;241m.\u001b[39mprint_progress()\n",
      "File \u001b[0;32m/usr/local/lib/python3.10/dist-packages/sklearn/utils/parallel.py:139\u001b[0m, in \u001b[0;36m_FuncWrapper.__call__\u001b[0;34m(self, *args, **kwargs)\u001b[0m\n\u001b[1;32m    137\u001b[0m     config \u001b[38;5;241m=\u001b[39m {}\n\u001b[1;32m    138\u001b[0m \u001b[38;5;28;01mwith\u001b[39;00m config_context(\u001b[38;5;241m*\u001b[39m\u001b[38;5;241m*\u001b[39mconfig):\n\u001b[0;32m--> 139\u001b[0m     \u001b[38;5;28;01mreturn\u001b[39;00m \u001b[38;5;28;43mself\u001b[39;49m\u001b[38;5;241;43m.\u001b[39;49m\u001b[43mfunction\u001b[49m\u001b[43m(\u001b[49m\u001b[38;5;241;43m*\u001b[39;49m\u001b[43margs\u001b[49m\u001b[43m,\u001b[49m\u001b[43m \u001b[49m\u001b[38;5;241;43m*\u001b[39;49m\u001b[38;5;241;43m*\u001b[39;49m\u001b[43mkwargs\u001b[49m\u001b[43m)\u001b[49m\n",
      "File \u001b[0;32m/usr/local/lib/python3.10/dist-packages/sklearn/model_selection/_validation.py:888\u001b[0m, in \u001b[0;36m_fit_and_score\u001b[0;34m(estimator, X, y, scorer, train, test, verbose, parameters, fit_params, score_params, return_train_score, return_parameters, return_n_test_samples, return_times, return_estimator, split_progress, candidate_progress, error_score)\u001b[0m\n\u001b[1;32m    885\u001b[0m result[\u001b[38;5;124m\"\u001b[39m\u001b[38;5;124mfit_error\u001b[39m\u001b[38;5;124m\"\u001b[39m] \u001b[38;5;241m=\u001b[39m \u001b[38;5;28;01mNone\u001b[39;00m\n\u001b[1;32m    887\u001b[0m fit_time \u001b[38;5;241m=\u001b[39m time\u001b[38;5;241m.\u001b[39mtime() \u001b[38;5;241m-\u001b[39m start_time\n\u001b[0;32m--> 888\u001b[0m test_scores \u001b[38;5;241m=\u001b[39m \u001b[43m_score\u001b[49m\u001b[43m(\u001b[49m\n\u001b[1;32m    889\u001b[0m \u001b[43m    \u001b[49m\u001b[43mestimator\u001b[49m\u001b[43m,\u001b[49m\u001b[43m \u001b[49m\u001b[43mX_test\u001b[49m\u001b[43m,\u001b[49m\u001b[43m \u001b[49m\u001b[43my_test\u001b[49m\u001b[43m,\u001b[49m\u001b[43m \u001b[49m\u001b[43mscorer\u001b[49m\u001b[43m,\u001b[49m\u001b[43m \u001b[49m\u001b[43mscore_params_test\u001b[49m\u001b[43m,\u001b[49m\u001b[43m \u001b[49m\u001b[43merror_score\u001b[49m\n\u001b[1;32m    890\u001b[0m \u001b[43m\u001b[49m\u001b[43m)\u001b[49m\n\u001b[1;32m    891\u001b[0m score_time \u001b[38;5;241m=\u001b[39m time\u001b[38;5;241m.\u001b[39mtime() \u001b[38;5;241m-\u001b[39m start_time \u001b[38;5;241m-\u001b[39m fit_time\n\u001b[1;32m    892\u001b[0m \u001b[38;5;28;01mif\u001b[39;00m return_train_score:\n",
      "File \u001b[0;32m/usr/local/lib/python3.10/dist-packages/sklearn/model_selection/_validation.py:949\u001b[0m, in \u001b[0;36m_score\u001b[0;34m(estimator, X_test, y_test, scorer, score_params, error_score)\u001b[0m\n\u001b[1;32m    947\u001b[0m         scores \u001b[38;5;241m=\u001b[39m scorer(estimator, X_test, \u001b[38;5;241m*\u001b[39m\u001b[38;5;241m*\u001b[39mscore_params)\n\u001b[1;32m    948\u001b[0m     \u001b[38;5;28;01melse\u001b[39;00m:\n\u001b[0;32m--> 949\u001b[0m         scores \u001b[38;5;241m=\u001b[39m \u001b[43mscorer\u001b[49m\u001b[43m(\u001b[49m\u001b[43mestimator\u001b[49m\u001b[43m,\u001b[49m\u001b[43m \u001b[49m\u001b[43mX_test\u001b[49m\u001b[43m,\u001b[49m\u001b[43m \u001b[49m\u001b[43my_test\u001b[49m\u001b[43m,\u001b[49m\u001b[43m \u001b[49m\u001b[38;5;241;43m*\u001b[39;49m\u001b[38;5;241;43m*\u001b[39;49m\u001b[43mscore_params\u001b[49m\u001b[43m)\u001b[49m\n\u001b[1;32m    950\u001b[0m \u001b[38;5;28;01mexcept\u001b[39;00m \u001b[38;5;167;01mException\u001b[39;00m:\n\u001b[1;32m    951\u001b[0m     \u001b[38;5;28;01mif\u001b[39;00m \u001b[38;5;28misinstance\u001b[39m(scorer, _MultimetricScorer):\n\u001b[1;32m    952\u001b[0m         \u001b[38;5;66;03m# If `_MultimetricScorer` raises exception, the `error_score`\u001b[39;00m\n\u001b[1;32m    953\u001b[0m         \u001b[38;5;66;03m# parameter is equal to \"raise\".\u001b[39;00m\n",
      "File \u001b[0;32m/usr/local/lib/python3.10/dist-packages/sklearn/metrics/_scorer.py:472\u001b[0m, in \u001b[0;36m_PassthroughScorer.__call__\u001b[0;34m(self, estimator, *args, **kwargs)\u001b[0m\n\u001b[1;32m    470\u001b[0m \u001b[38;5;28;01mdef\u001b[39;00m \u001b[38;5;21m__call__\u001b[39m(\u001b[38;5;28mself\u001b[39m, estimator, \u001b[38;5;241m*\u001b[39margs, \u001b[38;5;241m*\u001b[39m\u001b[38;5;241m*\u001b[39mkwargs):\n\u001b[1;32m    471\u001b[0m \u001b[38;5;250m    \u001b[39m\u001b[38;5;124;03m\"\"\"Method that wraps estimator.score\"\"\"\u001b[39;00m\n\u001b[0;32m--> 472\u001b[0m     \u001b[38;5;28;01mreturn\u001b[39;00m \u001b[43mestimator\u001b[49m\u001b[38;5;241;43m.\u001b[39;49m\u001b[43mscore\u001b[49m\u001b[43m(\u001b[49m\u001b[38;5;241;43m*\u001b[39;49m\u001b[43margs\u001b[49m\u001b[43m,\u001b[49m\u001b[43m \u001b[49m\u001b[38;5;241;43m*\u001b[39;49m\u001b[38;5;241;43m*\u001b[39;49m\u001b[43mkwargs\u001b[49m\u001b[43m)\u001b[49m\n",
      "File \u001b[0;32m/usr/local/lib/python3.10/dist-packages/sklearn/neighbors/_classification.py:446\u001b[0m, in \u001b[0;36mKNeighborsClassifier.score\u001b[0;34m(self, X, y, sample_weight)\u001b[0m\n\u001b[1;32m    417\u001b[0m \u001b[38;5;28;01mdef\u001b[39;00m \u001b[38;5;21mscore\u001b[39m(\u001b[38;5;28mself\u001b[39m, X, y, sample_weight\u001b[38;5;241m=\u001b[39m\u001b[38;5;28;01mNone\u001b[39;00m):\n\u001b[1;32m    418\u001b[0m \u001b[38;5;250m    \u001b[39m\u001b[38;5;124;03m\"\"\"\u001b[39;00m\n\u001b[1;32m    419\u001b[0m \u001b[38;5;124;03m    Return the mean accuracy on the given test data and labels.\u001b[39;00m\n\u001b[1;32m    420\u001b[0m \n\u001b[0;32m   (...)\u001b[0m\n\u001b[1;32m    444\u001b[0m \u001b[38;5;124;03m        Mean accuracy of ``self.predict(X)`` w.r.t. `y`.\u001b[39;00m\n\u001b[1;32m    445\u001b[0m \u001b[38;5;124;03m    \"\"\"\u001b[39;00m\n\u001b[0;32m--> 446\u001b[0m     \u001b[38;5;28;01mreturn\u001b[39;00m \u001b[38;5;28;43msuper\u001b[39;49m\u001b[43m(\u001b[49m\u001b[43m)\u001b[49m\u001b[38;5;241;43m.\u001b[39;49m\u001b[43mscore\u001b[49m\u001b[43m(\u001b[49m\u001b[43mX\u001b[49m\u001b[43m,\u001b[49m\u001b[43m \u001b[49m\u001b[43my\u001b[49m\u001b[43m,\u001b[49m\u001b[43m \u001b[49m\u001b[43msample_weight\u001b[49m\u001b[43m)\u001b[49m\n",
      "File \u001b[0;32m/usr/local/lib/python3.10/dist-packages/sklearn/base.py:572\u001b[0m, in \u001b[0;36mClassifierMixin.score\u001b[0;34m(self, X, y, sample_weight)\u001b[0m\n\u001b[1;32m    547\u001b[0m \u001b[38;5;250m\u001b[39m\u001b[38;5;124;03m\"\"\"\u001b[39;00m\n\u001b[1;32m    548\u001b[0m \u001b[38;5;124;03mReturn the mean accuracy on the given test data and labels.\u001b[39;00m\n\u001b[1;32m    549\u001b[0m \n\u001b[0;32m   (...)\u001b[0m\n\u001b[1;32m    568\u001b[0m \u001b[38;5;124;03m    Mean accuracy of ``self.predict(X)`` w.r.t. `y`.\u001b[39;00m\n\u001b[1;32m    569\u001b[0m \u001b[38;5;124;03m\"\"\"\u001b[39;00m\n\u001b[1;32m    570\u001b[0m \u001b[38;5;28;01mfrom\u001b[39;00m \u001b[38;5;21;01m.\u001b[39;00m\u001b[38;5;21;01mmetrics\u001b[39;00m \u001b[38;5;28;01mimport\u001b[39;00m accuracy_score\n\u001b[0;32m--> 572\u001b[0m \u001b[38;5;28;01mreturn\u001b[39;00m accuracy_score(y, \u001b[38;5;28;43mself\u001b[39;49m\u001b[38;5;241;43m.\u001b[39;49m\u001b[43mpredict\u001b[49m\u001b[43m(\u001b[49m\u001b[43mX\u001b[49m\u001b[43m)\u001b[49m, sample_weight\u001b[38;5;241m=\u001b[39msample_weight)\n",
      "File \u001b[0;32m/usr/local/lib/python3.10/dist-packages/sklearn/neighbors/_classification.py:274\u001b[0m, in \u001b[0;36mKNeighborsClassifier.predict\u001b[0;34m(self, X)\u001b[0m\n\u001b[1;32m    271\u001b[0m         \u001b[38;5;28;01mreturn\u001b[39;00m \u001b[38;5;28mself\u001b[39m\u001b[38;5;241m.\u001b[39mclasses_[np\u001b[38;5;241m.\u001b[39margmax(probabilities, axis\u001b[38;5;241m=\u001b[39m\u001b[38;5;241m1\u001b[39m)]\n\u001b[1;32m    272\u001b[0m     \u001b[38;5;66;03m# In that case, we do not need the distances to perform\u001b[39;00m\n\u001b[1;32m    273\u001b[0m     \u001b[38;5;66;03m# the weighting so we do not compute them.\u001b[39;00m\n\u001b[0;32m--> 274\u001b[0m     neigh_ind \u001b[38;5;241m=\u001b[39m \u001b[38;5;28;43mself\u001b[39;49m\u001b[38;5;241;43m.\u001b[39;49m\u001b[43mkneighbors\u001b[49m\u001b[43m(\u001b[49m\u001b[43mX\u001b[49m\u001b[43m,\u001b[49m\u001b[43m \u001b[49m\u001b[43mreturn_distance\u001b[49m\u001b[38;5;241;43m=\u001b[39;49m\u001b[38;5;28;43;01mFalse\u001b[39;49;00m\u001b[43m)\u001b[49m\n\u001b[1;32m    275\u001b[0m     neigh_dist \u001b[38;5;241m=\u001b[39m \u001b[38;5;28;01mNone\u001b[39;00m\n\u001b[1;32m    276\u001b[0m \u001b[38;5;28;01melse\u001b[39;00m:\n",
      "File \u001b[0;32m/usr/local/lib/python3.10/dist-packages/sklearn/neighbors/_base.py:868\u001b[0m, in \u001b[0;36mKNeighborsMixin.kneighbors\u001b[0;34m(self, X, n_neighbors, return_distance)\u001b[0m\n\u001b[1;32m    861\u001b[0m use_pairwise_distances_reductions \u001b[38;5;241m=\u001b[39m (\n\u001b[1;32m    862\u001b[0m     \u001b[38;5;28mself\u001b[39m\u001b[38;5;241m.\u001b[39m_fit_method \u001b[38;5;241m==\u001b[39m \u001b[38;5;124m\"\u001b[39m\u001b[38;5;124mbrute\u001b[39m\u001b[38;5;124m\"\u001b[39m\n\u001b[1;32m    863\u001b[0m     \u001b[38;5;129;01mand\u001b[39;00m ArgKmin\u001b[38;5;241m.\u001b[39mis_usable_for(\n\u001b[1;32m    864\u001b[0m         X \u001b[38;5;28;01mif\u001b[39;00m X \u001b[38;5;129;01mis\u001b[39;00m \u001b[38;5;129;01mnot\u001b[39;00m \u001b[38;5;28;01mNone\u001b[39;00m \u001b[38;5;28;01melse\u001b[39;00m \u001b[38;5;28mself\u001b[39m\u001b[38;5;241m.\u001b[39m_fit_X, \u001b[38;5;28mself\u001b[39m\u001b[38;5;241m.\u001b[39m_fit_X, \u001b[38;5;28mself\u001b[39m\u001b[38;5;241m.\u001b[39meffective_metric_\n\u001b[1;32m    865\u001b[0m     )\n\u001b[1;32m    866\u001b[0m )\n\u001b[1;32m    867\u001b[0m \u001b[38;5;28;01mif\u001b[39;00m use_pairwise_distances_reductions:\n\u001b[0;32m--> 868\u001b[0m     results \u001b[38;5;241m=\u001b[39m \u001b[43mArgKmin\u001b[49m\u001b[38;5;241;43m.\u001b[39;49m\u001b[43mcompute\u001b[49m\u001b[43m(\u001b[49m\n\u001b[1;32m    869\u001b[0m \u001b[43m        \u001b[49m\u001b[43mX\u001b[49m\u001b[38;5;241;43m=\u001b[39;49m\u001b[43mX\u001b[49m\u001b[43m,\u001b[49m\n\u001b[1;32m    870\u001b[0m \u001b[43m        \u001b[49m\u001b[43mY\u001b[49m\u001b[38;5;241;43m=\u001b[39;49m\u001b[38;5;28;43mself\u001b[39;49m\u001b[38;5;241;43m.\u001b[39;49m\u001b[43m_fit_X\u001b[49m\u001b[43m,\u001b[49m\n\u001b[1;32m    871\u001b[0m \u001b[43m        \u001b[49m\u001b[43mk\u001b[49m\u001b[38;5;241;43m=\u001b[39;49m\u001b[43mn_neighbors\u001b[49m\u001b[43m,\u001b[49m\n\u001b[1;32m    872\u001b[0m \u001b[43m        \u001b[49m\u001b[43mmetric\u001b[49m\u001b[38;5;241;43m=\u001b[39;49m\u001b[38;5;28;43mself\u001b[39;49m\u001b[38;5;241;43m.\u001b[39;49m\u001b[43meffective_metric_\u001b[49m\u001b[43m,\u001b[49m\n\u001b[1;32m    873\u001b[0m \u001b[43m        \u001b[49m\u001b[43mmetric_kwargs\u001b[49m\u001b[38;5;241;43m=\u001b[39;49m\u001b[38;5;28;43mself\u001b[39;49m\u001b[38;5;241;43m.\u001b[39;49m\u001b[43meffective_metric_params_\u001b[49m\u001b[43m,\u001b[49m\n\u001b[1;32m    874\u001b[0m \u001b[43m        \u001b[49m\u001b[43mstrategy\u001b[49m\u001b[38;5;241;43m=\u001b[39;49m\u001b[38;5;124;43m\"\u001b[39;49m\u001b[38;5;124;43mauto\u001b[39;49m\u001b[38;5;124;43m\"\u001b[39;49m\u001b[43m,\u001b[49m\n\u001b[1;32m    875\u001b[0m \u001b[43m        \u001b[49m\u001b[43mreturn_distance\u001b[49m\u001b[38;5;241;43m=\u001b[39;49m\u001b[43mreturn_distance\u001b[49m\u001b[43m,\u001b[49m\n\u001b[1;32m    876\u001b[0m \u001b[43m    \u001b[49m\u001b[43m)\u001b[49m\n\u001b[1;32m    878\u001b[0m \u001b[38;5;28;01melif\u001b[39;00m (\n\u001b[1;32m    879\u001b[0m     \u001b[38;5;28mself\u001b[39m\u001b[38;5;241m.\u001b[39m_fit_method \u001b[38;5;241m==\u001b[39m \u001b[38;5;124m\"\u001b[39m\u001b[38;5;124mbrute\u001b[39m\u001b[38;5;124m\"\u001b[39m \u001b[38;5;129;01mand\u001b[39;00m \u001b[38;5;28mself\u001b[39m\u001b[38;5;241m.\u001b[39mmetric \u001b[38;5;241m==\u001b[39m \u001b[38;5;124m\"\u001b[39m\u001b[38;5;124mprecomputed\u001b[39m\u001b[38;5;124m\"\u001b[39m \u001b[38;5;129;01mand\u001b[39;00m issparse(X)\n\u001b[1;32m    880\u001b[0m ):\n\u001b[1;32m    881\u001b[0m     results \u001b[38;5;241m=\u001b[39m _kneighbors_from_graph(\n\u001b[1;32m    882\u001b[0m         X, n_neighbors\u001b[38;5;241m=\u001b[39mn_neighbors, return_distance\u001b[38;5;241m=\u001b[39mreturn_distance\n\u001b[1;32m    883\u001b[0m     )\n",
      "File \u001b[0;32m/usr/local/lib/python3.10/dist-packages/sklearn/metrics/_pairwise_distances_reduction/_dispatcher.py:281\u001b[0m, in \u001b[0;36mArgKmin.compute\u001b[0;34m(cls, X, Y, k, metric, chunk_size, metric_kwargs, strategy, return_distance)\u001b[0m\n\u001b[1;32m    200\u001b[0m \u001b[38;5;250m\u001b[39m\u001b[38;5;124;03m\"\"\"Compute the argkmin reduction.\u001b[39;00m\n\u001b[1;32m    201\u001b[0m \n\u001b[1;32m    202\u001b[0m \u001b[38;5;124;03mParameters\u001b[39;00m\n\u001b[0;32m   (...)\u001b[0m\n\u001b[1;32m    278\u001b[0m \u001b[38;5;124;03mreturns.\u001b[39;00m\n\u001b[1;32m    279\u001b[0m \u001b[38;5;124;03m\"\"\"\u001b[39;00m\n\u001b[1;32m    280\u001b[0m \u001b[38;5;28;01mif\u001b[39;00m X\u001b[38;5;241m.\u001b[39mdtype \u001b[38;5;241m==\u001b[39m Y\u001b[38;5;241m.\u001b[39mdtype \u001b[38;5;241m==\u001b[39m np\u001b[38;5;241m.\u001b[39mfloat64:\n\u001b[0;32m--> 281\u001b[0m     \u001b[38;5;28;01mreturn\u001b[39;00m \u001b[43mArgKmin64\u001b[49m\u001b[38;5;241;43m.\u001b[39;49m\u001b[43mcompute\u001b[49m\u001b[43m(\u001b[49m\n\u001b[1;32m    282\u001b[0m \u001b[43m        \u001b[49m\u001b[43mX\u001b[49m\u001b[38;5;241;43m=\u001b[39;49m\u001b[43mX\u001b[49m\u001b[43m,\u001b[49m\n\u001b[1;32m    283\u001b[0m \u001b[43m        \u001b[49m\u001b[43mY\u001b[49m\u001b[38;5;241;43m=\u001b[39;49m\u001b[43mY\u001b[49m\u001b[43m,\u001b[49m\n\u001b[1;32m    284\u001b[0m \u001b[43m        \u001b[49m\u001b[43mk\u001b[49m\u001b[38;5;241;43m=\u001b[39;49m\u001b[43mk\u001b[49m\u001b[43m,\u001b[49m\n\u001b[1;32m    285\u001b[0m \u001b[43m        \u001b[49m\u001b[43mmetric\u001b[49m\u001b[38;5;241;43m=\u001b[39;49m\u001b[43mmetric\u001b[49m\u001b[43m,\u001b[49m\n\u001b[1;32m    286\u001b[0m \u001b[43m        \u001b[49m\u001b[43mchunk_size\u001b[49m\u001b[38;5;241;43m=\u001b[39;49m\u001b[43mchunk_size\u001b[49m\u001b[43m,\u001b[49m\n\u001b[1;32m    287\u001b[0m \u001b[43m        \u001b[49m\u001b[43mmetric_kwargs\u001b[49m\u001b[38;5;241;43m=\u001b[39;49m\u001b[43mmetric_kwargs\u001b[49m\u001b[43m,\u001b[49m\n\u001b[1;32m    288\u001b[0m \u001b[43m        \u001b[49m\u001b[43mstrategy\u001b[49m\u001b[38;5;241;43m=\u001b[39;49m\u001b[43mstrategy\u001b[49m\u001b[43m,\u001b[49m\n\u001b[1;32m    289\u001b[0m \u001b[43m        \u001b[49m\u001b[43mreturn_distance\u001b[49m\u001b[38;5;241;43m=\u001b[39;49m\u001b[43mreturn_distance\u001b[49m\u001b[43m,\u001b[49m\n\u001b[1;32m    290\u001b[0m \u001b[43m    \u001b[49m\u001b[43m)\u001b[49m\n\u001b[1;32m    292\u001b[0m \u001b[38;5;28;01mif\u001b[39;00m X\u001b[38;5;241m.\u001b[39mdtype \u001b[38;5;241m==\u001b[39m Y\u001b[38;5;241m.\u001b[39mdtype \u001b[38;5;241m==\u001b[39m np\u001b[38;5;241m.\u001b[39mfloat32:\n\u001b[1;32m    293\u001b[0m     \u001b[38;5;28;01mreturn\u001b[39;00m ArgKmin32\u001b[38;5;241m.\u001b[39mcompute(\n\u001b[1;32m    294\u001b[0m         X\u001b[38;5;241m=\u001b[39mX,\n\u001b[1;32m    295\u001b[0m         Y\u001b[38;5;241m=\u001b[39mY,\n\u001b[0;32m   (...)\u001b[0m\n\u001b[1;32m    301\u001b[0m         return_distance\u001b[38;5;241m=\u001b[39mreturn_distance,\n\u001b[1;32m    302\u001b[0m     )\n",
      "File \u001b[0;32msklearn/metrics/_pairwise_distances_reduction/_argkmin.pyx:59\u001b[0m, in \u001b[0;36msklearn.metrics._pairwise_distances_reduction._argkmin.ArgKmin64.compute\u001b[0;34m()\u001b[0m\n",
      "File \u001b[0;32m/usr/local/lib/python3.10/dist-packages/threadpoolctl.py:592\u001b[0m, in \u001b[0;36m_ThreadpoolLimiter.__exit__\u001b[0;34m(self, type, value, traceback)\u001b[0m\n\u001b[1;32m    589\u001b[0m \u001b[38;5;28;01mdef\u001b[39;00m \u001b[38;5;21m__enter__\u001b[39m(\u001b[38;5;28mself\u001b[39m):\n\u001b[1;32m    590\u001b[0m     \u001b[38;5;28;01mreturn\u001b[39;00m \u001b[38;5;28mself\u001b[39m\n\u001b[0;32m--> 592\u001b[0m \u001b[38;5;28;01mdef\u001b[39;00m \u001b[38;5;21m__exit__\u001b[39m(\u001b[38;5;28mself\u001b[39m, \u001b[38;5;28mtype\u001b[39m, value, traceback):\n\u001b[1;32m    593\u001b[0m     \u001b[38;5;28mself\u001b[39m\u001b[38;5;241m.\u001b[39mrestore_original_limits()\n\u001b[1;32m    595\u001b[0m \u001b[38;5;129m@classmethod\u001b[39m\n\u001b[1;32m    596\u001b[0m \u001b[38;5;28;01mdef\u001b[39;00m \u001b[38;5;21mwrap\u001b[39m(\u001b[38;5;28mcls\u001b[39m, controller, \u001b[38;5;241m*\u001b[39m, limits\u001b[38;5;241m=\u001b[39m\u001b[38;5;28;01mNone\u001b[39;00m, user_api\u001b[38;5;241m=\u001b[39m\u001b[38;5;28;01mNone\u001b[39;00m):\n",
      "\u001b[0;31mKeyboardInterrupt\u001b[0m: "
     ]
    }
   ],
   "source": [
    "from sklearn.model_selection import GridSearchCV\n",
    "classifier = KNeighborsClassifier()\n",
    "params = {\n",
    "    'n_neighbors': [3, 5, 6, 7],\n",
    "    'weights': ('uniform', 'distance'),\n",
    "    'algorithm': ('auto', 'ball_tree', 'kd_tree', 'brute'),\n",
    "    'leaf_size': [5,10,20,30,35,40],\n",
    "    'metric': ('manhattan', 'minkowski')\n",
    "}\n",
    "gs = GridSearchCV(classifier, params)\n",
    "gs.fit(X_train, y_train.to_numpy().ravel())\n",
    "print(\"Best Parameters:\", gs.best_params_)\n",
    "print(\"Best Cross-Validation Accuracy:\", gs.best_score_)"
   ]
  },
  {
   "cell_type": "code",
   "execution_count": 51,
   "id": "7d701210-24af-4db2-8660-1c5053ff7bb6",
   "metadata": {},
   "outputs": [
    {
     "name": "stdout",
     "output_type": "stream",
     "text": [
      "              precision    recall  f1-score   support\n",
      "\n",
      "           1       0.98      0.96      0.97       136\n",
      "           5       0.90      0.94      0.92        50\n",
      "           6       0.98      0.98      0.98       414\n",
      "           7       0.96      0.96      0.96       221\n",
      "           8       1.00      1.00      1.00      2000\n",
      "\n",
      "    accuracy                           0.99      2821\n",
      "   macro avg       0.96      0.97      0.97      2821\n",
      "weighted avg       0.99      0.99      0.99      2821\n",
      "\n"
     ]
    }
   ],
   "source": [
    "from sklearn.metrics import classification_report\n",
    "classifier = KNeighborsClassifier(leaf_size=5, n_neighbors= 3)\n",
    "classifier.fit(X_train.values, y_train.to_numpy().ravel()) \n",
    "pred = classifier.predict(X_test.values)\n",
    "print(classification_report(y_test, pred))"
   ]
  },
  {
   "cell_type": "code",
   "execution_count": 41,
   "id": "7b7b857b-9cb4-4e39-93c2-7e7af15679b4",
   "metadata": {},
   "outputs": [
    {
     "data": {
      "text/plain": [
       "label\n",
       "8    52430\n",
       "6     2069\n",
       "7     1106\n",
       "1      676\n",
       "5      249\n",
       "Name: count, dtype: int64"
      ]
     },
     "execution_count": 41,
     "metadata": {},
     "output_type": "execute_result"
    }
   ],
   "source": [
    "y_train['label'].value_counts()"
   ]
  },
  {
   "cell_type": "code",
   "execution_count": 52,
   "id": "93152004-7c7a-4fbf-9b30-c1d8f1754211",
   "metadata": {},
   "outputs": [
    {
     "data": {
      "text/plain": [
       "['models/attack_classifier.gz']"
      ]
     },
     "execution_count": 52,
     "metadata": {},
     "output_type": "execute_result"
    }
   ],
   "source": [
    "joblib.dump(classifier, 'models/attack_classifier.gz')"
   ]
  }
 ],
 "metadata": {
  "kernelspec": {
   "display_name": "Python 3 (ipykernel)",
   "language": "python",
   "name": "python3"
  },
  "language_info": {
   "codemirror_mode": {
    "name": "ipython",
    "version": 3
   },
   "file_extension": ".py",
   "mimetype": "text/x-python",
   "name": "python",
   "nbconvert_exporter": "python",
   "pygments_lexer": "ipython3",
   "version": "3.10.12"
  }
 },
 "nbformat": 4,
 "nbformat_minor": 5
}
